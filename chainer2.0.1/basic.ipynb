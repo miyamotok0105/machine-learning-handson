{
 "cells": [
  {
   "cell_type": "code",
   "execution_count": 153,
   "metadata": {},
   "outputs": [],
   "source": [
    "import numpy as np\n",
    "from sympy import *\n",
    "%matplotlib inline\n",
    "init_printing()\n",
    "import chainer\n",
    "from chainer import cuda, Function, gradient_check, report, training, utils, Variable\n",
    "from chainer import datasets, iterators, optimizers, serializers\n",
    "from chainer import Link, Chain, ChainList\n",
    "import chainer.functions as F\n",
    "import chainer.links as L\n",
    "from chainer.training import extensions"
   ]
  },
  {
   "cell_type": "markdown",
   "metadata": {},
   "source": [
    "# MNISTの全文"
   ]
  },
  {
   "cell_type": "code",
   "execution_count": 168,
   "metadata": {
    "collapsed": true
   },
   "outputs": [],
   "source": [
    "#参考\n",
    "#https://docs.chainer.org/en/v1.23.0/tutorial/basic.html"
   ]
  },
  {
   "cell_type": "code",
   "execution_count": 167,
   "metadata": {},
   "outputs": [
    {
     "name": "stdout",
     "output_type": "stream",
     "text": [
      "epoch       main/accuracy  validation/main/accuracy\n",
      "\u001b[J     total [..................................................]  0.83%\n",
      "this epoch [########..........................................] 16.67%\n",
      "       100 iter, 0 epoch / 20 epochs\n",
      "       inf iters/sec. Estimated time to finish: 0:00:00.\n",
      "\u001b[4A\u001b[J     total [..................................................]  1.67%\n",
      "this epoch [################..................................] 33.33%\n",
      "       200 iter, 0 epoch / 20 epochs\n",
      "    173.81 iters/sec. Estimated time to finish: 0:01:07.891896.\n",
      "\u001b[4A\u001b[J     total [#.................................................]  2.50%\n",
      "this epoch [#########################.........................] 50.00%\n",
      "       300 iter, 0 epoch / 20 epochs\n",
      "    216.59 iters/sec. Estimated time to finish: 0:00:54.019663.\n",
      "\u001b[4A\u001b[J     total [#.................................................]  3.33%\n",
      "this epoch [#################################.................] 66.67%\n",
      "       400 iter, 0 epoch / 20 epochs\n",
      "    225.58 iters/sec. Estimated time to finish: 0:00:51.423068.\n",
      "\u001b[4A\u001b[J     total [##................................................]  4.17%\n",
      "this epoch [#########################################.........] 83.33%\n",
      "       500 iter, 0 epoch / 20 epochs\n",
      "    219.07 iters/sec. Estimated time to finish: 0:00:52.493764.\n",
      "\u001b[4A\u001b[J1           0.670233                                 \n",
      "\u001b[J     total [##................................................]  5.00%\n",
      "this epoch [..................................................]  0.00%\n",
      "       600 iter, 1 epoch / 20 epochs\n",
      "    227.46 iters/sec. Estimated time to finish: 0:00:50.118731.\n",
      "\u001b[4A\u001b[J     total [##................................................]  5.83%\n",
      "this epoch [########..........................................] 16.67%\n",
      "       700 iter, 1 epoch / 20 epochs\n",
      "    235.06 iters/sec. Estimated time to finish: 0:00:48.072425.\n",
      "\u001b[4A\u001b[J     total [###...............................................]  6.67%\n",
      "this epoch [################..................................] 33.33%\n",
      "       800 iter, 1 epoch / 20 epochs\n",
      "    240.91 iters/sec. Estimated time to finish: 0:00:46.489807.\n",
      "\u001b[4A\u001b[J     total [###...............................................]  7.50%\n",
      "this epoch [#########################.........................] 50.00%\n",
      "       900 iter, 1 epoch / 20 epochs\n",
      "    235.62 iters/sec. Estimated time to finish: 0:00:47.110190.\n",
      "\u001b[4A\u001b[J     total [####..............................................]  8.33%\n",
      "this epoch [#################################.................] 66.67%\n",
      "      1000 iter, 1 epoch / 20 epochs\n",
      "    232.06 iters/sec. Estimated time to finish: 0:00:47.400957.\n",
      "\u001b[4A\u001b[J     total [####..............................................]  9.17%\n",
      "this epoch [#########################################.........] 83.33%\n",
      "      1100 iter, 1 epoch / 20 epochs\n",
      "    238.37 iters/sec. Estimated time to finish: 0:00:45.727888.\n",
      "\u001b[4A\u001b[J2           0.87125                                  \n",
      "\u001b[J     total [#####.............................................] 10.00%\n",
      "this epoch [..................................................]  0.00%\n",
      "      1200 iter, 2 epoch / 20 epochs\n",
      "    240.84 iters/sec. Estimated time to finish: 0:00:44.842367.\n",
      "\u001b[4A\u001b[J     total [#####.............................................] 10.83%\n",
      "this epoch [########..........................................] 16.67%\n",
      "      1300 iter, 2 epoch / 20 epochs\n",
      "    236.37 iters/sec. Estimated time to finish: 0:00:45.267607.\n",
      "\u001b[4A\u001b[J     total [#####.............................................] 11.67%\n",
      "this epoch [################..................................] 33.33%\n",
      "      1400 iter, 2 epoch / 20 epochs\n",
      "    238.36 iters/sec. Estimated time to finish: 0:00:44.469780.\n",
      "\u001b[4A\u001b[J     total [######............................................] 12.50%\n",
      "this epoch [#########################.........................] 50.00%\n",
      "      1500 iter, 2 epoch / 20 epochs\n",
      "    233.78 iters/sec. Estimated time to finish: 0:00:44.914328.\n",
      "\u001b[4A\u001b[J     total [######............................................] 13.33%\n",
      "this epoch [#################################.................] 66.67%\n",
      "      1600 iter, 2 epoch / 20 epochs\n",
      "       227 iters/sec. Estimated time to finish: 0:00:45.815675.\n",
      "\u001b[4A\u001b[J     total [#######...........................................] 14.17%\n",
      "this epoch [#########################################.........] 83.33%\n",
      "      1700 iter, 2 epoch / 20 epochs\n",
      "    227.78 iters/sec. Estimated time to finish: 0:00:45.219196.\n",
      "\u001b[4A\u001b[J3           0.895217                                 \n",
      "\u001b[J     total [#######...........................................] 15.00%\n",
      "this epoch [..................................................]  0.00%\n",
      "      1800 iter, 3 epoch / 20 epochs\n",
      "    229.46 iters/sec. Estimated time to finish: 0:00:44.451888.\n",
      "\u001b[4A\u001b[J     total [#######...........................................] 15.83%\n",
      "this epoch [########..........................................] 16.67%\n",
      "      1900 iter, 3 epoch / 20 epochs\n",
      "    233.08 iters/sec. Estimated time to finish: 0:00:43.332277.\n",
      "\u001b[4A\u001b[J     total [########..........................................] 16.67%\n",
      "this epoch [################..................................] 33.33%\n",
      "      2000 iter, 3 epoch / 20 epochs\n",
      "    236.38 iters/sec. Estimated time to finish: 0:00:42.304768.\n",
      "\u001b[4A\u001b[J     total [########..........................................] 17.50%\n",
      "this epoch [#########################.........................] 50.00%\n",
      "      2100 iter, 3 epoch / 20 epochs\n",
      "    239.25 iters/sec. Estimated time to finish: 0:00:41.380010.\n",
      "\u001b[4A\u001b[J     total [#########.........................................] 18.33%\n",
      "this epoch [#################################.................] 66.67%\n",
      "      2200 iter, 3 epoch / 20 epochs\n",
      "    238.32 iters/sec. Estimated time to finish: 0:00:41.121957.\n",
      "\u001b[4A\u001b[J     total [#########.........................................] 19.17%\n",
      "this epoch [#########################################.........] 83.33%\n",
      "      2300 iter, 3 epoch / 20 epochs\n",
      "    235.73 iters/sec. Estimated time to finish: 0:00:41.148572.\n",
      "\u001b[4A\u001b[J4           0.90665                                  \n",
      "\u001b[J     total [##########........................................] 20.00%\n",
      "this epoch [..................................................]  0.00%\n",
      "      2400 iter, 4 epoch / 20 epochs\n",
      "    237.83 iters/sec. Estimated time to finish: 0:00:40.364165.\n",
      "\u001b[4A\u001b[J     total [##########........................................] 20.83%\n",
      "this epoch [########..........................................] 16.67%\n",
      "      2500 iter, 4 epoch / 20 epochs\n",
      "    237.19 iters/sec. Estimated time to finish: 0:00:40.052111.\n",
      "\u001b[4A\u001b[J     total [##########........................................] 21.67%\n",
      "this epoch [################..................................] 33.33%\n",
      "      2600 iter, 4 epoch / 20 epochs\n",
      "    232.75 iters/sec. Estimated time to finish: 0:00:40.385863.\n",
      "\u001b[4A\u001b[J     total [###########.......................................] 22.50%\n",
      "this epoch [#########################.........................] 50.00%\n",
      "      2700 iter, 4 epoch / 20 epochs\n",
      "    229.59 iters/sec. Estimated time to finish: 0:00:40.507481.\n",
      "\u001b[4A\u001b[J     total [###########.......................................] 23.33%\n",
      "this epoch [#################################.................] 66.67%\n",
      "      2800 iter, 4 epoch / 20 epochs\n",
      "    227.16 iters/sec. Estimated time to finish: 0:00:40.500237.\n",
      "\u001b[4A\u001b[J     total [############......................................] 24.17%\n",
      "this epoch [#########################################.........] 83.33%\n",
      "      2900 iter, 4 epoch / 20 epochs\n",
      "    228.85 iters/sec. Estimated time to finish: 0:00:39.763945.\n",
      "\u001b[4A\u001b[J5           0.913967                                 \n",
      "\u001b[J     total [############......................................] 25.00%\n",
      "this epoch [..................................................]  0.00%\n",
      "      3000 iter, 5 epoch / 20 epochs\n",
      "    227.15 iters/sec. Estimated time to finish: 0:00:39.621256.\n",
      "\u001b[4A\u001b[J     total [############......................................] 25.83%\n",
      "this epoch [########..........................................] 16.67%\n",
      "      3100 iter, 5 epoch / 20 epochs\n",
      "    228.61 iters/sec. Estimated time to finish: 0:00:38.930991.\n",
      "\u001b[4A\u001b[J     total [#############.....................................] 26.67%\n",
      "this epoch [################..................................] 33.33%\n",
      "      3200 iter, 5 epoch / 20 epochs\n",
      "    226.39 iters/sec. Estimated time to finish: 0:00:38.871139.\n"
     ]
    },
    {
     "name": "stdout",
     "output_type": "stream",
     "text": [
      "\u001b[4A\u001b[J     total [#############.....................................] 27.50%\n",
      "this epoch [#########################.........................] 50.00%\n",
      "      3300 iter, 5 epoch / 20 epochs\n",
      "    226.21 iters/sec. Estimated time to finish: 0:00:38.460286.\n",
      "\u001b[4A\u001b[J     total [##############....................................] 28.33%\n",
      "this epoch [#################################.................] 66.67%\n",
      "      3400 iter, 5 epoch / 20 epochs\n",
      "    226.41 iters/sec. Estimated time to finish: 0:00:37.984165.\n",
      "\u001b[4A\u001b[J     total [##############....................................] 29.17%\n",
      "this epoch [#########################################.........] 83.33%\n",
      "      3500 iter, 5 epoch / 20 epochs\n",
      "    227.25 iters/sec. Estimated time to finish: 0:00:37.403167.\n",
      "\u001b[4A\u001b[J6           0.919917                                 \n",
      "\u001b[J     total [###############...................................] 30.00%\n",
      "this epoch [..................................................]  0.00%\n",
      "      3600 iter, 6 epoch / 20 epochs\n",
      "     227.1 iters/sec. Estimated time to finish: 0:00:36.987447.\n",
      "\u001b[4A\u001b[J     total [###############...................................] 30.83%\n",
      "this epoch [########..........................................] 16.67%\n",
      "      3700 iter, 6 epoch / 20 epochs\n",
      "     228.1 iters/sec. Estimated time to finish: 0:00:36.388263.\n",
      "\u001b[4A\u001b[J     total [###############...................................] 31.67%\n",
      "this epoch [################..................................] 33.33%\n",
      "      3800 iter, 6 epoch / 20 epochs\n",
      "    226.96 iters/sec. Estimated time to finish: 0:00:36.129067.\n",
      "\u001b[4A\u001b[J     total [################..................................] 32.50%\n",
      "this epoch [#########################.........................] 50.00%\n",
      "      3900 iter, 6 epoch / 20 epochs\n",
      "    227.42 iters/sec. Estimated time to finish: 0:00:35.616723.\n",
      "\u001b[4A\u001b[J     total [################..................................] 33.33%\n",
      "this epoch [#################################.................] 66.67%\n",
      "      4000 iter, 6 epoch / 20 epochs\n",
      "    226.37 iters/sec. Estimated time to finish: 0:00:35.340168.\n",
      "\u001b[4A\u001b[J     total [#################.................................] 34.17%\n",
      "this epoch [#########################################.........] 83.33%\n",
      "      4100 iter, 6 epoch / 20 epochs\n",
      "    225.63 iters/sec. Estimated time to finish: 0:00:35.013590.\n",
      "\u001b[4A\u001b[J7           0.924083                                 \n",
      "\u001b[J     total [#################.................................] 35.00%\n",
      "this epoch [..................................................]  0.00%\n",
      "      4200 iter, 7 epoch / 20 epochs\n",
      "     225.4 iters/sec. Estimated time to finish: 0:00:34.605400.\n",
      "\u001b[4A\u001b[J     total [#################.................................] 35.83%\n",
      "this epoch [########..........................................] 16.67%\n",
      "      4300 iter, 7 epoch / 20 epochs\n",
      "    226.02 iters/sec. Estimated time to finish: 0:00:34.068069.\n",
      "\u001b[4A\u001b[J     total [##################................................] 36.67%\n",
      "this epoch [################..................................] 33.33%\n",
      "      4400 iter, 7 epoch / 20 epochs\n",
      "    225.56 iters/sec. Estimated time to finish: 0:00:33.693483.\n",
      "\u001b[4A\u001b[J     total [##################................................] 37.50%\n",
      "this epoch [#########################.........................] 50.00%\n",
      "      4500 iter, 7 epoch / 20 epochs\n",
      "    225.58 iters/sec. Estimated time to finish: 0:00:33.248294.\n",
      "\u001b[4A\u001b[J     total [###################...............................] 38.33%\n",
      "this epoch [#################################.................] 66.67%\n",
      "      4600 iter, 7 epoch / 20 epochs\n",
      "    225.56 iters/sec. Estimated time to finish: 0:00:32.806631.\n",
      "\u001b[4A\u001b[J     total [###################...............................] 39.17%\n",
      "this epoch [#########################################.........] 83.33%\n",
      "      4700 iter, 7 epoch / 20 epochs\n",
      "    225.56 iters/sec. Estimated time to finish: 0:00:32.364569.\n",
      "\u001b[4A\u001b[J8           0.928117                                 \n",
      "\u001b[J     total [####################..............................] 40.00%\n",
      "this epoch [..................................................]  0.00%\n",
      "      4800 iter, 8 epoch / 20 epochs\n",
      "    226.12 iters/sec. Estimated time to finish: 0:00:31.841991.\n",
      "\u001b[4A\u001b[J     total [####################..............................] 40.83%\n",
      "this epoch [########..........................................] 16.67%\n",
      "      4900 iter, 8 epoch / 20 epochs\n",
      "     226.8 iters/sec. Estimated time to finish: 0:00:31.304887.\n",
      "\u001b[4A\u001b[J     total [####################..............................] 41.67%\n",
      "this epoch [################..................................] 33.33%\n",
      "      5000 iter, 8 epoch / 20 epochs\n",
      "    226.78 iters/sec. Estimated time to finish: 0:00:30.867476.\n",
      "\u001b[4A\u001b[J     total [#####################.............................] 42.50%\n",
      "this epoch [#########################.........................] 50.00%\n",
      "      5100 iter, 8 epoch / 20 epochs\n",
      "     227.1 iters/sec. Estimated time to finish: 0:00:30.383143.\n",
      "\u001b[4A\u001b[J     total [#####################.............................] 43.33%\n",
      "this epoch [#################################.................] 66.67%\n",
      "      5200 iter, 8 epoch / 20 epochs\n",
      "     225.1 iters/sec. Estimated time to finish: 0:00:30.208433.\n",
      "\u001b[4A\u001b[J     total [######################............................] 44.17%\n",
      "this epoch [#########################################.........] 83.33%\n",
      "      5300 iter, 8 epoch / 20 epochs\n",
      "    222.38 iters/sec. Estimated time to finish: 0:00:30.127934.\n",
      "\u001b[4A\u001b[J9           0.93215                                  \n",
      "\u001b[J     total [######################............................] 45.00%\n",
      "this epoch [..................................................]  0.00%\n",
      "      5400 iter, 9 epoch / 20 epochs\n",
      "    222.59 iters/sec. Estimated time to finish: 0:00:29.650541.\n",
      "\u001b[4A\u001b[J     total [######################............................] 45.83%\n",
      "this epoch [########..........................................] 16.67%\n",
      "      5500 iter, 9 epoch / 20 epochs\n",
      "    223.23 iters/sec. Estimated time to finish: 0:00:29.118529.\n",
      "\u001b[4A\u001b[J     total [#######################...........................] 46.67%\n",
      "this epoch [################..................................] 33.33%\n",
      "      5600 iter, 9 epoch / 20 epochs\n",
      "    222.99 iters/sec. Estimated time to finish: 0:00:28.701022.\n",
      "\u001b[4A\u001b[J     total [#######################...........................] 47.50%\n",
      "this epoch [#########################.........................] 50.00%\n",
      "      5700 iter, 9 epoch / 20 epochs\n",
      "    223.32 iters/sec. Estimated time to finish: 0:00:28.210358.\n",
      "\u001b[4A\u001b[J     total [########################..........................] 48.33%\n",
      "this epoch [#################################.................] 66.67%\n",
      "      5800 iter, 9 epoch / 20 epochs\n",
      "    223.55 iters/sec. Estimated time to finish: 0:00:27.733861.\n",
      "\u001b[4A\u001b[J"
     ]
    },
    {
     "ename": "KeyboardInterrupt",
     "evalue": "",
     "output_type": "error",
     "traceback": [
      "\u001b[0;31m---------------------------------------------------------------------------\u001b[0m",
      "\u001b[0;31mKeyboardInterrupt\u001b[0m                         Traceback (most recent call last)",
      "\u001b[0;32m<ipython-input-167-b56f5c50794e>\u001b[0m in \u001b[0;36m<module>\u001b[0;34m()\u001b[0m\n\u001b[1;32m     38\u001b[0m \u001b[0mtrainer\u001b[0m\u001b[0;34m.\u001b[0m\u001b[0mextend\u001b[0m\u001b[0;34m(\u001b[0m\u001b[0mextensions\u001b[0m\u001b[0;34m.\u001b[0m\u001b[0mPrintReport\u001b[0m\u001b[0;34m(\u001b[0m\u001b[0;34m[\u001b[0m\u001b[0;34m'epoch'\u001b[0m\u001b[0;34m,\u001b[0m \u001b[0;34m'main/accuracy'\u001b[0m\u001b[0;34m,\u001b[0m \u001b[0;34m'validation/main/accuracy'\u001b[0m\u001b[0;34m]\u001b[0m\u001b[0;34m)\u001b[0m\u001b[0;34m)\u001b[0m\u001b[0;34m\u001b[0m\u001b[0m\n\u001b[1;32m     39\u001b[0m \u001b[0mtrainer\u001b[0m\u001b[0;34m.\u001b[0m\u001b[0mextend\u001b[0m\u001b[0;34m(\u001b[0m\u001b[0mextensions\u001b[0m\u001b[0;34m.\u001b[0m\u001b[0mProgressBar\u001b[0m\u001b[0;34m(\u001b[0m\u001b[0;34m)\u001b[0m\u001b[0;34m)\u001b[0m\u001b[0;34m\u001b[0m\u001b[0m\n\u001b[0;32m---> 40\u001b[0;31m \u001b[0mtrainer\u001b[0m\u001b[0;34m.\u001b[0m\u001b[0mrun\u001b[0m\u001b[0;34m(\u001b[0m\u001b[0;34m)\u001b[0m\u001b[0;34m\u001b[0m\u001b[0m\n\u001b[0m",
      "\u001b[0;32m/Users/miyamoto/.pyenv/versions/miniconda3-4.0.5/envs/py35/lib/python3.5/site-packages/chainer/training/trainer.py\u001b[0m in \u001b[0;36mrun\u001b[0;34m(self)\u001b[0m\n\u001b[1;32m    294\u001b[0m                 \u001b[0mself\u001b[0m\u001b[0;34m.\u001b[0m\u001b[0mobservation\u001b[0m \u001b[0;34m=\u001b[0m \u001b[0;34m{\u001b[0m\u001b[0;34m}\u001b[0m\u001b[0;34m\u001b[0m\u001b[0m\n\u001b[1;32m    295\u001b[0m                 \u001b[0;32mwith\u001b[0m \u001b[0mreporter\u001b[0m\u001b[0;34m.\u001b[0m\u001b[0mscope\u001b[0m\u001b[0;34m(\u001b[0m\u001b[0mself\u001b[0m\u001b[0;34m.\u001b[0m\u001b[0mobservation\u001b[0m\u001b[0;34m)\u001b[0m\u001b[0;34m:\u001b[0m\u001b[0;34m\u001b[0m\u001b[0m\n\u001b[0;32m--> 296\u001b[0;31m                     \u001b[0mupdate\u001b[0m\u001b[0;34m(\u001b[0m\u001b[0;34m)\u001b[0m\u001b[0;34m\u001b[0m\u001b[0m\n\u001b[0m\u001b[1;32m    297\u001b[0m                     \u001b[0;32mfor\u001b[0m \u001b[0mname\u001b[0m\u001b[0;34m,\u001b[0m \u001b[0mentry\u001b[0m \u001b[0;32min\u001b[0m \u001b[0mextensions\u001b[0m\u001b[0;34m:\u001b[0m\u001b[0;34m\u001b[0m\u001b[0m\n\u001b[1;32m    298\u001b[0m                         \u001b[0;32mif\u001b[0m \u001b[0mentry\u001b[0m\u001b[0;34m.\u001b[0m\u001b[0mtrigger\u001b[0m\u001b[0;34m(\u001b[0m\u001b[0mself\u001b[0m\u001b[0;34m)\u001b[0m\u001b[0;34m:\u001b[0m\u001b[0;34m\u001b[0m\u001b[0m\n",
      "\u001b[0;32m/Users/miyamoto/.pyenv/versions/miniconda3-4.0.5/envs/py35/lib/python3.5/site-packages/chainer/training/updater.py\u001b[0m in \u001b[0;36mupdate\u001b[0;34m(self)\u001b[0m\n\u001b[1;32m    175\u001b[0m \u001b[0;34m\u001b[0m\u001b[0m\n\u001b[1;32m    176\u001b[0m     \u001b[0;32mdef\u001b[0m \u001b[0mupdate\u001b[0m\u001b[0;34m(\u001b[0m\u001b[0mself\u001b[0m\u001b[0;34m)\u001b[0m\u001b[0;34m:\u001b[0m\u001b[0;34m\u001b[0m\u001b[0m\n\u001b[0;32m--> 177\u001b[0;31m         \u001b[0mself\u001b[0m\u001b[0;34m.\u001b[0m\u001b[0mupdate_core\u001b[0m\u001b[0;34m(\u001b[0m\u001b[0;34m)\u001b[0m\u001b[0;34m\u001b[0m\u001b[0m\n\u001b[0m\u001b[1;32m    178\u001b[0m         \u001b[0mself\u001b[0m\u001b[0;34m.\u001b[0m\u001b[0miteration\u001b[0m \u001b[0;34m+=\u001b[0m \u001b[0;36m1\u001b[0m\u001b[0;34m\u001b[0m\u001b[0m\n\u001b[1;32m    179\u001b[0m \u001b[0;34m\u001b[0m\u001b[0m\n",
      "\u001b[0;32m/Users/miyamoto/.pyenv/versions/miniconda3-4.0.5/envs/py35/lib/python3.5/site-packages/chainer/training/updater.py\u001b[0m in \u001b[0;36mupdate_core\u001b[0;34m(self)\u001b[0m\n\u001b[1;32m    186\u001b[0m \u001b[0;34m\u001b[0m\u001b[0m\n\u001b[1;32m    187\u001b[0m         \u001b[0;32mif\u001b[0m \u001b[0misinstance\u001b[0m\u001b[0;34m(\u001b[0m\u001b[0min_arrays\u001b[0m\u001b[0;34m,\u001b[0m \u001b[0mtuple\u001b[0m\u001b[0;34m)\u001b[0m\u001b[0;34m:\u001b[0m\u001b[0;34m\u001b[0m\u001b[0m\n\u001b[0;32m--> 188\u001b[0;31m             \u001b[0moptimizer\u001b[0m\u001b[0;34m.\u001b[0m\u001b[0mupdate\u001b[0m\u001b[0;34m(\u001b[0m\u001b[0mloss_func\u001b[0m\u001b[0;34m,\u001b[0m \u001b[0;34m*\u001b[0m\u001b[0min_arrays\u001b[0m\u001b[0;34m)\u001b[0m\u001b[0;34m\u001b[0m\u001b[0m\n\u001b[0m\u001b[1;32m    189\u001b[0m         \u001b[0;32melif\u001b[0m \u001b[0misinstance\u001b[0m\u001b[0;34m(\u001b[0m\u001b[0min_arrays\u001b[0m\u001b[0;34m,\u001b[0m \u001b[0mdict\u001b[0m\u001b[0;34m)\u001b[0m\u001b[0;34m:\u001b[0m\u001b[0;34m\u001b[0m\u001b[0m\n\u001b[1;32m    190\u001b[0m             \u001b[0moptimizer\u001b[0m\u001b[0;34m.\u001b[0m\u001b[0mupdate\u001b[0m\u001b[0;34m(\u001b[0m\u001b[0mloss_func\u001b[0m\u001b[0;34m,\u001b[0m \u001b[0;34m**\u001b[0m\u001b[0min_arrays\u001b[0m\u001b[0;34m)\u001b[0m\u001b[0;34m\u001b[0m\u001b[0m\n",
      "\u001b[0;32m/Users/miyamoto/.pyenv/versions/miniconda3-4.0.5/envs/py35/lib/python3.5/site-packages/chainer/optimizer.py\u001b[0m in \u001b[0;36mupdate\u001b[0;34m(self, lossfun, *args, **kwds)\u001b[0m\n\u001b[1;32m    525\u001b[0m         \u001b[0;32mif\u001b[0m \u001b[0mlossfun\u001b[0m \u001b[0;32mis\u001b[0m \u001b[0;32mnot\u001b[0m \u001b[0;32mNone\u001b[0m\u001b[0;34m:\u001b[0m\u001b[0;34m\u001b[0m\u001b[0m\n\u001b[1;32m    526\u001b[0m             \u001b[0muse_cleargrads\u001b[0m \u001b[0;34m=\u001b[0m \u001b[0mgetattr\u001b[0m\u001b[0;34m(\u001b[0m\u001b[0mself\u001b[0m\u001b[0;34m,\u001b[0m \u001b[0;34m'_use_cleargrads'\u001b[0m\u001b[0;34m,\u001b[0m \u001b[0;32mTrue\u001b[0m\u001b[0;34m)\u001b[0m\u001b[0;34m\u001b[0m\u001b[0m\n\u001b[0;32m--> 527\u001b[0;31m             \u001b[0mloss\u001b[0m \u001b[0;34m=\u001b[0m \u001b[0mlossfun\u001b[0m\u001b[0;34m(\u001b[0m\u001b[0;34m*\u001b[0m\u001b[0margs\u001b[0m\u001b[0;34m,\u001b[0m \u001b[0;34m**\u001b[0m\u001b[0mkwds\u001b[0m\u001b[0;34m)\u001b[0m\u001b[0;34m\u001b[0m\u001b[0m\n\u001b[0m\u001b[1;32m    528\u001b[0m             \u001b[0;32mif\u001b[0m \u001b[0muse_cleargrads\u001b[0m\u001b[0;34m:\u001b[0m\u001b[0;34m\u001b[0m\u001b[0m\n\u001b[1;32m    529\u001b[0m                 \u001b[0mself\u001b[0m\u001b[0;34m.\u001b[0m\u001b[0mtarget\u001b[0m\u001b[0;34m.\u001b[0m\u001b[0mcleargrads\u001b[0m\u001b[0;34m(\u001b[0m\u001b[0;34m)\u001b[0m\u001b[0;34m\u001b[0m\u001b[0m\n",
      "\u001b[0;32m/Users/miyamoto/.pyenv/versions/miniconda3-4.0.5/envs/py35/lib/python3.5/site-packages/chainer/links/model/classifier.py\u001b[0m in \u001b[0;36m__call__\u001b[0;34m(self, *args)\u001b[0m\n\u001b[1;32m     70\u001b[0m         \u001b[0mself\u001b[0m\u001b[0;34m.\u001b[0m\u001b[0my\u001b[0m \u001b[0;34m=\u001b[0m \u001b[0mself\u001b[0m\u001b[0;34m.\u001b[0m\u001b[0mpredictor\u001b[0m\u001b[0;34m(\u001b[0m\u001b[0;34m*\u001b[0m\u001b[0mx\u001b[0m\u001b[0;34m)\u001b[0m\u001b[0;34m\u001b[0m\u001b[0m\n\u001b[1;32m     71\u001b[0m         \u001b[0mself\u001b[0m\u001b[0;34m.\u001b[0m\u001b[0mloss\u001b[0m \u001b[0;34m=\u001b[0m \u001b[0mself\u001b[0m\u001b[0;34m.\u001b[0m\u001b[0mlossfun\u001b[0m\u001b[0;34m(\u001b[0m\u001b[0mself\u001b[0m\u001b[0;34m.\u001b[0m\u001b[0my\u001b[0m\u001b[0;34m,\u001b[0m \u001b[0mt\u001b[0m\u001b[0;34m)\u001b[0m\u001b[0;34m\u001b[0m\u001b[0m\n\u001b[0;32m---> 72\u001b[0;31m         \u001b[0mreporter\u001b[0m\u001b[0;34m.\u001b[0m\u001b[0mreport\u001b[0m\u001b[0;34m(\u001b[0m\u001b[0;34m{\u001b[0m\u001b[0;34m'loss'\u001b[0m\u001b[0;34m:\u001b[0m \u001b[0mself\u001b[0m\u001b[0;34m.\u001b[0m\u001b[0mloss\u001b[0m\u001b[0;34m}\u001b[0m\u001b[0;34m,\u001b[0m \u001b[0mself\u001b[0m\u001b[0;34m)\u001b[0m\u001b[0;34m\u001b[0m\u001b[0m\n\u001b[0m\u001b[1;32m     73\u001b[0m         \u001b[0;32mif\u001b[0m \u001b[0mself\u001b[0m\u001b[0;34m.\u001b[0m\u001b[0mcompute_accuracy\u001b[0m\u001b[0;34m:\u001b[0m\u001b[0;34m\u001b[0m\u001b[0m\n\u001b[1;32m     74\u001b[0m             \u001b[0mself\u001b[0m\u001b[0;34m.\u001b[0m\u001b[0maccuracy\u001b[0m \u001b[0;34m=\u001b[0m \u001b[0mself\u001b[0m\u001b[0;34m.\u001b[0m\u001b[0maccfun\u001b[0m\u001b[0;34m(\u001b[0m\u001b[0mself\u001b[0m\u001b[0;34m.\u001b[0m\u001b[0my\u001b[0m\u001b[0;34m,\u001b[0m \u001b[0mt\u001b[0m\u001b[0;34m)\u001b[0m\u001b[0;34m\u001b[0m\u001b[0m\n",
      "\u001b[0;32m/Users/miyamoto/.pyenv/versions/miniconda3-4.0.5/envs/py35/lib/python3.5/site-packages/chainer/reporter.py\u001b[0m in \u001b[0;36mreport\u001b[0;34m(values, observer)\u001b[0m\n\u001b[1;32m    223\u001b[0m     \u001b[0;32mif\u001b[0m \u001b[0m_reporters\u001b[0m\u001b[0;34m:\u001b[0m\u001b[0;34m\u001b[0m\u001b[0m\n\u001b[1;32m    224\u001b[0m         \u001b[0mcurrent\u001b[0m \u001b[0;34m=\u001b[0m \u001b[0m_reporters\u001b[0m\u001b[0;34m[\u001b[0m\u001b[0;34m-\u001b[0m\u001b[0;36m1\u001b[0m\u001b[0;34m]\u001b[0m\u001b[0;34m\u001b[0m\u001b[0m\n\u001b[0;32m--> 225\u001b[0;31m         \u001b[0mcurrent\u001b[0m\u001b[0;34m.\u001b[0m\u001b[0mreport\u001b[0m\u001b[0;34m(\u001b[0m\u001b[0mvalues\u001b[0m\u001b[0;34m,\u001b[0m \u001b[0mobserver\u001b[0m\u001b[0;34m)\u001b[0m\u001b[0;34m\u001b[0m\u001b[0m\n\u001b[0m\u001b[1;32m    226\u001b[0m \u001b[0;34m\u001b[0m\u001b[0m\n\u001b[1;32m    227\u001b[0m \u001b[0;34m\u001b[0m\u001b[0m\n",
      "\u001b[0;32m/Users/miyamoto/.pyenv/versions/miniconda3-4.0.5/envs/py35/lib/python3.5/site-packages/chainer/reporter.py\u001b[0m in \u001b[0;36mreport\u001b[0;34m(self, values, observer)\u001b[0m\n\u001b[1;32m    150\u001b[0m         \"\"\"\n\u001b[1;32m    151\u001b[0m         \u001b[0;32mif\u001b[0m \u001b[0;32mnot\u001b[0m \u001b[0mconfiguration\u001b[0m\u001b[0;34m.\u001b[0m\u001b[0mconfig\u001b[0m\u001b[0;34m.\u001b[0m\u001b[0mkeep_graph_on_report\u001b[0m\u001b[0;34m:\u001b[0m\u001b[0;34m\u001b[0m\u001b[0m\n\u001b[0;32m--> 152\u001b[0;31m             \u001b[0mvalues\u001b[0m \u001b[0;34m=\u001b[0m \u001b[0;34m{\u001b[0m\u001b[0mk\u001b[0m\u001b[0;34m:\u001b[0m \u001b[0m_copy_variable\u001b[0m\u001b[0;34m(\u001b[0m\u001b[0mv\u001b[0m\u001b[0;34m)\u001b[0m \u001b[0;32mfor\u001b[0m \u001b[0mk\u001b[0m\u001b[0;34m,\u001b[0m \u001b[0mv\u001b[0m \u001b[0;32min\u001b[0m \u001b[0msix\u001b[0m\u001b[0;34m.\u001b[0m\u001b[0miteritems\u001b[0m\u001b[0;34m(\u001b[0m\u001b[0mvalues\u001b[0m\u001b[0;34m)\u001b[0m\u001b[0;34m}\u001b[0m\u001b[0;34m\u001b[0m\u001b[0m\n\u001b[0m\u001b[1;32m    153\u001b[0m \u001b[0;34m\u001b[0m\u001b[0m\n\u001b[1;32m    154\u001b[0m         \u001b[0;32mif\u001b[0m \u001b[0mobserver\u001b[0m \u001b[0;32mis\u001b[0m \u001b[0;32mnot\u001b[0m \u001b[0;32mNone\u001b[0m\u001b[0;34m:\u001b[0m\u001b[0;34m\u001b[0m\u001b[0m\n",
      "\u001b[0;32m/Users/miyamoto/.pyenv/versions/miniconda3-4.0.5/envs/py35/lib/python3.5/site-packages/chainer/reporter.py\u001b[0m in \u001b[0;36m<dictcomp>\u001b[0;34m(.0)\u001b[0m\n\u001b[1;32m    150\u001b[0m         \"\"\"\n\u001b[1;32m    151\u001b[0m         \u001b[0;32mif\u001b[0m \u001b[0;32mnot\u001b[0m \u001b[0mconfiguration\u001b[0m\u001b[0;34m.\u001b[0m\u001b[0mconfig\u001b[0m\u001b[0;34m.\u001b[0m\u001b[0mkeep_graph_on_report\u001b[0m\u001b[0;34m:\u001b[0m\u001b[0;34m\u001b[0m\u001b[0m\n\u001b[0;32m--> 152\u001b[0;31m             \u001b[0mvalues\u001b[0m \u001b[0;34m=\u001b[0m \u001b[0;34m{\u001b[0m\u001b[0mk\u001b[0m\u001b[0;34m:\u001b[0m \u001b[0m_copy_variable\u001b[0m\u001b[0;34m(\u001b[0m\u001b[0mv\u001b[0m\u001b[0;34m)\u001b[0m \u001b[0;32mfor\u001b[0m \u001b[0mk\u001b[0m\u001b[0;34m,\u001b[0m \u001b[0mv\u001b[0m \u001b[0;32min\u001b[0m \u001b[0msix\u001b[0m\u001b[0;34m.\u001b[0m\u001b[0miteritems\u001b[0m\u001b[0;34m(\u001b[0m\u001b[0mvalues\u001b[0m\u001b[0;34m)\u001b[0m\u001b[0;34m}\u001b[0m\u001b[0;34m\u001b[0m\u001b[0m\n\u001b[0m\u001b[1;32m    153\u001b[0m \u001b[0;34m\u001b[0m\u001b[0m\n\u001b[1;32m    154\u001b[0m         \u001b[0;32mif\u001b[0m \u001b[0mobserver\u001b[0m \u001b[0;32mis\u001b[0m \u001b[0;32mnot\u001b[0m \u001b[0;32mNone\u001b[0m\u001b[0;34m:\u001b[0m\u001b[0;34m\u001b[0m\u001b[0m\n",
      "\u001b[0;32m/Users/miyamoto/.pyenv/versions/miniconda3-4.0.5/envs/py35/lib/python3.5/site-packages/chainer/reporter.py\u001b[0m in \u001b[0;36m_copy_variable\u001b[0;34m(value)\u001b[0m\n\u001b[1;32m     13\u001b[0m \u001b[0;32mdef\u001b[0m \u001b[0m_copy_variable\u001b[0m\u001b[0;34m(\u001b[0m\u001b[0mvalue\u001b[0m\u001b[0;34m)\u001b[0m\u001b[0;34m:\u001b[0m\u001b[0;34m\u001b[0m\u001b[0m\n\u001b[1;32m     14\u001b[0m     \u001b[0;32mif\u001b[0m \u001b[0misinstance\u001b[0m\u001b[0;34m(\u001b[0m\u001b[0mvalue\u001b[0m\u001b[0;34m,\u001b[0m \u001b[0mvariable\u001b[0m\u001b[0;34m.\u001b[0m\u001b[0mVariable\u001b[0m\u001b[0;34m)\u001b[0m\u001b[0;34m:\u001b[0m\u001b[0;34m\u001b[0m\u001b[0m\n\u001b[0;32m---> 15\u001b[0;31m         \u001b[0;32mreturn\u001b[0m \u001b[0mcopy\u001b[0m\u001b[0;34m.\u001b[0m\u001b[0mcopy\u001b[0m\u001b[0;34m(\u001b[0m\u001b[0mvalue\u001b[0m\u001b[0;34m)\u001b[0m\u001b[0;34m\u001b[0m\u001b[0m\n\u001b[0m\u001b[1;32m     16\u001b[0m     \u001b[0;32mreturn\u001b[0m \u001b[0mvalue\u001b[0m\u001b[0;34m\u001b[0m\u001b[0m\n\u001b[1;32m     17\u001b[0m \u001b[0;34m\u001b[0m\u001b[0m\n",
      "\u001b[0;32m/Users/miyamoto/.pyenv/versions/miniconda3-4.0.5/envs/py35/lib/python3.5/copy.py\u001b[0m in \u001b[0;36mcopy\u001b[0;34m(x)\u001b[0m\n\u001b[1;32m     78\u001b[0m \u001b[0;34m\u001b[0m\u001b[0m\n\u001b[1;32m     79\u001b[0m     \u001b[0;32mtry\u001b[0m\u001b[0;34m:\u001b[0m\u001b[0;34m\u001b[0m\u001b[0m\n\u001b[0;32m---> 80\u001b[0;31m         \u001b[0missc\u001b[0m \u001b[0;34m=\u001b[0m \u001b[0missubclass\u001b[0m\u001b[0;34m(\u001b[0m\u001b[0mcls\u001b[0m\u001b[0;34m,\u001b[0m \u001b[0mtype\u001b[0m\u001b[0;34m)\u001b[0m\u001b[0;34m\u001b[0m\u001b[0m\n\u001b[0m\u001b[1;32m     81\u001b[0m     \u001b[0;32mexcept\u001b[0m \u001b[0mTypeError\u001b[0m\u001b[0;34m:\u001b[0m \u001b[0;31m# cls is not a class\u001b[0m\u001b[0;34m\u001b[0m\u001b[0m\n\u001b[1;32m     82\u001b[0m         \u001b[0missc\u001b[0m \u001b[0;34m=\u001b[0m \u001b[0;32mFalse\u001b[0m\u001b[0;34m\u001b[0m\u001b[0m\n",
      "\u001b[0;31mKeyboardInterrupt\u001b[0m: "
     ]
    }
   ],
   "source": [
    "import numpy as np\n",
    "import chainer\n",
    "from chainer import cuda, Function, gradient_check, report, training, utils, Variable\n",
    "from chainer import datasets, iterators, optimizers, serializers\n",
    "from chainer import Link, Chain, ChainList\n",
    "import chainer.functions as F\n",
    "import chainer.links as L\n",
    "from chainer.training import extensions\n",
    "#データ取得\n",
    "train, test = datasets.get_mnist()\n",
    "\n",
    "train_iter = iterators.SerialIterator(train, batch_size=100, shuffle=True)\n",
    "test_iter = iterators.SerialIterator(test, batch_size=100, repeat=False, shuffle=False)\n",
    "\n",
    "class MLP(Chain):\n",
    "    def __init__(self, n_units, n_out):\n",
    "        super(MLP, self).__init__(\n",
    "        # the size of the inputs to each layer will be inferred\n",
    "        l1=L.Linear(None, n_units),  # n_in -> n_units\n",
    "        l2=L.Linear(None, n_units),  # n_units -> n_units\n",
    "        l3=L.Linear(None, n_out),    # n_units -> n_out\n",
    "        )\n",
    "        \n",
    "    def __call__(self, x):\n",
    "        h1 = F.relu(self.l1(x))\n",
    "        h2 = F.relu(self.l2(h1))\n",
    "        y = self.l3(h2)\n",
    "        return y\n",
    "\n",
    "model = L.Classifier(MLP(100, 10))\n",
    "optimizer = optimizers.SGD()\n",
    "optimizer.setup(model)\n",
    "\n",
    "updater = training.StandardUpdater(train_iter, optimizer)\n",
    "trainer = training.Trainer(updater, (20, 'epoch'), out='result')\n",
    "\n",
    "trainer.extend(extensions.LogReport())\n",
    "trainer.extend(extensions.PrintReport(['epoch', 'main/accuracy', 'validation/main/accuracy']))\n",
    "trainer.extend(extensions.ProgressBar())\n",
    "trainer.run()\n"
   ]
  },
  {
   "cell_type": "markdown",
   "metadata": {},
   "source": [
    "# Forward/Backward計算"
   ]
  },
  {
   "cell_type": "markdown",
   "metadata": {},
   "source": [
    "## 1.入力変数xのgrad属性に格納"
   ]
  },
  {
   "cell_type": "code",
   "execution_count": 121,
   "metadata": {
    "collapsed": true
   },
   "outputs": [],
   "source": [
    "#sympy"
   ]
  },
  {
   "cell_type": "code",
   "execution_count": 128,
   "metadata": {},
   "outputs": [
    {
     "data": {
      "image/png": "[encoded data removed]",
      "text/latex": [
       "$$x^{2} - 2 x + 1$$"
      ],
      "text/plain": [
       " 2          \n",
       "x  - 2⋅x + 1"
      ]
     },
     "execution_count": 128,
     "metadata": {},
     "output_type": "execute_result"
    }
   ],
   "source": [
    "x = Symbol('x')\n",
    "y = Symbol('y')\n",
    "x**2 - 2 * x + 1"
   ]
  },
  {
   "cell_type": "code",
   "execution_count": 129,
   "metadata": {},
   "outputs": [
    {
     "data": {
      "image/png": "[encoded data removed]",
      "text/latex": [
       "$$16$$"
      ],
      "text/plain": [
       "16"
      ]
     },
     "execution_count": 129,
     "metadata": {},
     "output_type": "execute_result"
    }
   ],
   "source": [
    "x = 5\n",
    "y = x**2 - 2 * x + 1\n",
    "y"
   ]
  },
  {
   "cell_type": "markdown",
   "metadata": {},
   "source": [
    "勾配情報をVariableに保持する。"
   ]
  },
  {
   "cell_type": "code",
   "execution_count": 103,
   "metadata": {
    "collapsed": true
   },
   "outputs": [],
   "source": [
    "#chainer"
   ]
  },
  {
   "cell_type": "code",
   "execution_count": 66,
   "metadata": {
    "collapsed": true
   },
   "outputs": [],
   "source": [
    "x_data = np.array([5], dtype=np.float32)\n",
    "x = Variable(x_data)"
   ]
  },
  {
   "cell_type": "code",
   "execution_count": 67,
   "metadata": {},
   "outputs": [
    {
     "data": {
      "text/plain": [
       "variable([ 16.])"
      ]
     },
     "execution_count": 67,
     "metadata": {},
     "output_type": "execute_result"
    }
   ],
   "source": [
    "y = x**2 - 2 * x + 1\n",
    "y"
   ]
  },
  {
   "cell_type": "code",
   "execution_count": 68,
   "metadata": {},
   "outputs": [
    {
     "data": {
      "text/plain": [
       "16.0"
      ]
     },
     "execution_count": 68,
     "metadata": {},
     "output_type": "execute_result"
    }
   ],
   "source": [
    "y.data[0]"
   ]
  },
  {
   "cell_type": "code",
   "execution_count": 70,
   "metadata": {
    "collapsed": true
   },
   "outputs": [],
   "source": [
    "y.backward()"
   ]
  },
  {
   "cell_type": "code",
   "execution_count": 71,
   "metadata": {},
   "outputs": [
    {
     "data": {
      "text/plain": [
       "8.0"
      ]
     },
     "execution_count": 71,
     "metadata": {},
     "output_type": "execute_result"
    }
   ],
   "source": [
    "x.grad[0] #backwardしてgrad情報が生成された"
   ]
  },
  {
   "cell_type": "markdown",
   "metadata": {},
   "source": [
    "### 良くない例：grad属性がまだない場合"
   ]
  },
  {
   "cell_type": "code",
   "execution_count": 92,
   "metadata": {},
   "outputs": [
    {
     "ename": "TypeError",
     "evalue": "'NoneType' object is not subscriptable",
     "output_type": "error",
     "traceback": [
      "\u001b[0;31m---------------------------------------------------------------------------\u001b[0m",
      "\u001b[0;31mTypeError\u001b[0m                                 Traceback (most recent call last)",
      "\u001b[0;32m<ipython-input-92-67bdf0e42bcc>\u001b[0m in \u001b[0;36m<module>\u001b[0;34m()\u001b[0m\n\u001b[1;32m      3\u001b[0m \u001b[0my\u001b[0m \u001b[0;34m=\u001b[0m \u001b[0mx\u001b[0m\u001b[0;34m**\u001b[0m\u001b[0;36m2\u001b[0m \u001b[0;34m-\u001b[0m \u001b[0;36m2\u001b[0m \u001b[0;34m*\u001b[0m \u001b[0mx\u001b[0m \u001b[0;34m+\u001b[0m \u001b[0;36m1\u001b[0m\u001b[0;34m\u001b[0m\u001b[0m\n\u001b[1;32m      4\u001b[0m \u001b[0my\u001b[0m\u001b[0;34m.\u001b[0m\u001b[0mdata\u001b[0m\u001b[0;34m[\u001b[0m\u001b[0;36m0\u001b[0m\u001b[0;34m]\u001b[0m\u001b[0;34m\u001b[0m\u001b[0m\n\u001b[0;32m----> 5\u001b[0;31m \u001b[0mx\u001b[0m\u001b[0;34m.\u001b[0m\u001b[0mgrad\u001b[0m\u001b[0;34m[\u001b[0m\u001b[0;36m0\u001b[0m\u001b[0;34m]\u001b[0m\u001b[0;34m\u001b[0m\u001b[0m\n\u001b[0m",
      "\u001b[0;31mTypeError\u001b[0m: 'NoneType' object is not subscriptable"
     ]
    }
   ],
   "source": [
    "x_data = np.array([5], dtype=np.float32)\n",
    "x = Variable(x_data)\n",
    "y = x**2 - 2 * x + 1\n",
    "y.data[0]\n",
    "x.grad[0]"
   ]
  },
  {
   "cell_type": "markdown",
   "metadata": {},
   "source": [
    "### 良くない例：Variableを使ってない場合"
   ]
  },
  {
   "cell_type": "code",
   "execution_count": 94,
   "metadata": {},
   "outputs": [
    {
     "ename": "AttributeError",
     "evalue": "'numpy.ndarray' object has no attribute 'grad'",
     "output_type": "error",
     "traceback": [
      "\u001b[0;31m---------------------------------------------------------------------------\u001b[0m",
      "\u001b[0;31mAttributeError\u001b[0m                            Traceback (most recent call last)",
      "\u001b[0;32m<ipython-input-94-1c1bc60d46f5>\u001b[0m in \u001b[0;36m<module>\u001b[0;34m()\u001b[0m\n\u001b[1;32m      3\u001b[0m \u001b[0my\u001b[0m \u001b[0;34m=\u001b[0m \u001b[0mx\u001b[0m\u001b[0;34m**\u001b[0m\u001b[0;36m2\u001b[0m \u001b[0;34m-\u001b[0m \u001b[0;36m2\u001b[0m \u001b[0;34m*\u001b[0m \u001b[0mx\u001b[0m \u001b[0;34m+\u001b[0m \u001b[0;36m1\u001b[0m\u001b[0;34m\u001b[0m\u001b[0m\n\u001b[1;32m      4\u001b[0m \u001b[0my\u001b[0m\u001b[0;34m.\u001b[0m\u001b[0mdata\u001b[0m\u001b[0;34m[\u001b[0m\u001b[0;36m0\u001b[0m\u001b[0;34m]\u001b[0m\u001b[0;34m\u001b[0m\u001b[0m\n\u001b[0;32m----> 5\u001b[0;31m \u001b[0mx\u001b[0m\u001b[0;34m.\u001b[0m\u001b[0mgrad\u001b[0m\u001b[0;34m[\u001b[0m\u001b[0;36m0\u001b[0m\u001b[0;34m]\u001b[0m\u001b[0;34m\u001b[0m\u001b[0m\n\u001b[0m",
      "\u001b[0;31mAttributeError\u001b[0m: 'numpy.ndarray' object has no attribute 'grad'"
     ]
    }
   ],
   "source": [
    "x_data = np.array([5], dtype=np.float32)\n",
    "x = (x_data)\n",
    "y = x**2 - 2 * x + 1\n",
    "y.data[0]\n",
    "x.grad[0]"
   ]
  },
  {
   "cell_type": "markdown",
   "metadata": {},
   "source": [
    "## 2.中間変数のgradを保持する"
   ]
  },
  {
   "cell_type": "code",
   "execution_count": 97,
   "metadata": {},
   "outputs": [],
   "source": [
    "x_data = np.array([5], dtype=np.float32)\n",
    "x = Variable(x_data)\n",
    "z = 2*x\n",
    "y = x**2 - z + 1\n",
    "y.backward()\n",
    "z.grad #中間変数が解放されてる。"
   ]
  },
  {
   "cell_type": "code",
   "execution_count": 98,
   "metadata": {},
   "outputs": [
    {
     "data": {
      "text/plain": [
       "array([-1.], dtype=float32)"
      ]
     },
     "execution_count": 98,
     "metadata": {},
     "output_type": "execute_result"
    }
   ],
   "source": [
    "z = 2*x\n",
    "y = x**2 - z + 1\n",
    "y.backward(retain_grad=True)\n",
    "z.grad"
   ]
  },
  {
   "cell_type": "markdown",
   "metadata": {},
   "source": [
    "## 3.多次元配列"
   ]
  },
  {
   "cell_type": "code",
   "execution_count": 101,
   "metadata": {},
   "outputs": [
    {
     "name": "stdout",
     "output_type": "stream",
     "text": [
      "(2, 3)\n"
     ]
    },
    {
     "data": {
      "text/plain": [
       "array([[  0.,   2.,   4.],\n",
       "       [  6.,   8.,  10.]], dtype=float32)"
      ]
     },
     "execution_count": 101,
     "metadata": {},
     "output_type": "execute_result"
    }
   ],
   "source": [
    "x = Variable(np.array([[1, 2, 3], [4, 5, 6]], dtype=np.float32))\n",
    "y = x**2 - 2*x + 1\n",
    "print(y.shape)\n",
    "y.grad = np.ones((2, 3), dtype=np.float32)\n",
    "y.backward()\n",
    "x.grad"
   ]
  },
  {
   "cell_type": "markdown",
   "metadata": {},
   "source": [
    "# Links"
   ]
  },
  {
   "cell_type": "code",
   "execution_count": 111,
   "metadata": {
    "collapsed": true
   },
   "outputs": [],
   "source": [
    "#sympy"
   ]
  },
  {
   "cell_type": "code",
   "execution_count": 134,
   "metadata": {},
   "outputs": [
    {
     "data": {
      "image/png": "[encoded data removed]",
      "text/latex": [
       "$$b + w x$$"
      ],
      "text/plain": [
       "b + w⋅x"
      ]
     },
     "execution_count": 134,
     "metadata": {},
     "output_type": "execute_result"
    }
   ],
   "source": [
    "X = Symbol('x')\n",
    "W = Symbol('w')\n",
    "b = Symbol('b')\n",
    "W*X + b"
   ]
  },
  {
   "cell_type": "code",
   "execution_count": 116,
   "metadata": {
    "collapsed": true
   },
   "outputs": [],
   "source": [
    "#chainer"
   ]
  },
  {
   "cell_type": "markdown",
   "metadata": {},
   "source": [
    "Linksは、パラメータ（すなわち、最適化ターゲット）を保持するオブジェクト。\n",
    "Linear linkは全結合。\n"
   ]
  },
  {
   "cell_type": "code",
   "execution_count": 154,
   "metadata": {},
   "outputs": [
    {
     "data": {
      "text/plain": [
       "<chainer.links.connection.linear.Linear at 0x10d0b0860>"
      ]
     },
     "execution_count": 154,
     "metadata": {},
     "output_type": "execute_result"
    }
   ],
   "source": [
    "f = L.Linear(3, 2)\n",
    "f"
   ]
  },
  {
   "cell_type": "code",
   "execution_count": 155,
   "metadata": {},
   "outputs": [
    {
     "data": {
      "text/plain": [
       "array([[ 0.43062508, -0.09243605,  0.62302077],\n",
       "       [ 0.49641687,  0.32307896, -0.56368285]], dtype=float32)"
      ]
     },
     "execution_count": 155,
     "metadata": {},
     "output_type": "execute_result"
    }
   ],
   "source": [
    "f.W.data"
   ]
  },
  {
   "cell_type": "code",
   "execution_count": 156,
   "metadata": {},
   "outputs": [
    {
     "data": {
      "text/plain": [
       "array([ 0.,  0.], dtype=float32)"
      ]
     },
     "execution_count": 156,
     "metadata": {},
     "output_type": "execute_result"
    }
   ],
   "source": [
    "f.b.data"
   ]
  },
  {
   "cell_type": "code",
   "execution_count": 157,
   "metadata": {},
   "outputs": [
    {
     "name": "stdout",
     "output_type": "stream",
     "text": [
      "(2, 3)\n"
     ]
    },
    {
     "data": {
      "text/plain": [
       "array([[ 2.11481524, -0.54847383],\n",
       "       [ 4.99844456,  0.21896505]], dtype=float32)"
      ]
     },
     "execution_count": 157,
     "metadata": {},
     "output_type": "execute_result"
    }
   ],
   "source": [
    "x = Variable(np.array([[1, 2, 3], [4, 5, 6]], dtype=np.float32))\n",
    "print(x.shape)\n",
    "y = f(x)\n",
    "y.data"
   ]
  },
  {
   "cell_type": "markdown",
   "metadata": {},
   "source": [
    "勾配は、上書きされるのではなく、メソッドによって累積されることに注意してください。したがって、まず計算を更新するためにグラデーションをクリアする必要があります。 cleargrads（）メソッドを呼び出すことで実行できます。"
   ]
  },
  {
   "cell_type": "code",
   "execution_count": 162,
   "metadata": {},
   "outputs": [],
   "source": [
    "f.cleargrads()\n",
    "y.grad = np.ones((2, 2), dtype=np.float32) #これなんで必要なんだっけ。。。\n",
    "y.backward()"
   ]
  },
  {
   "cell_type": "markdown",
   "metadata": {},
   "source": [
    "# モデルチェーンを書く"
   ]
  },
  {
   "cell_type": "code",
   "execution_count": 163,
   "metadata": {
    "collapsed": true
   },
   "outputs": [],
   "source": [
    "class MyProc(object):\n",
    "    def __init__(self):\n",
    "        self.l1 = L.Linear(4, 3)\n",
    "        self.l2 = L.Linear(3, 2)\n",
    "\n",
    "    def forward(self, x):\n",
    "        h = self.l1(x)\n",
    "        return self.l2(h)\n",
    "    "
   ]
  },
  {
   "cell_type": "markdown",
   "metadata": {},
   "source": [
    "# MNISTで多層パーセプトロン"
   ]
  },
  {
   "cell_type": "code",
   "execution_count": 179,
   "metadata": {
    "collapsed": true
   },
   "outputs": [],
   "source": [
    "#データ取得\n",
    "train, test = datasets.get_mnist()"
   ]
  },
  {
   "cell_type": "code",
   "execution_count": 184,
   "metadata": {},
   "outputs": [
    {
     "name": "stdout",
     "output_type": "stream",
     "text": [
      "(784,)\n"
     ]
    }
   ],
   "source": [
    "for t in train:\n",
    "    print(t[0].shape)\n",
    "    break"
   ]
  },
  {
   "cell_type": "code",
   "execution_count": null,
   "metadata": {
    "collapsed": true
   },
   "outputs": [],
   "source": []
  }
 ],
 "metadata": {
  "kernelspec": {
   "display_name": "Python 3",
   "language": "python",
   "name": "python3"
  },
  "language_info": {
   "codemirror_mode": {
    "name": "ipython",
    "version": 3
   },
   "file_extension": ".py",
   "mimetype": "text/x-python",
   "name": "python",
   "nbconvert_exporter": "python",
   "pygments_lexer": "ipython3",
   "version": "3.5.3"
  }
 },
 "nbformat": 4,
 "nbformat_minor": 2
}
