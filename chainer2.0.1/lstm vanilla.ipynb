{
 "cells": [
  {
   "cell_type": "markdown",
   "metadata": {},
   "source": [
    "https://arxiv.org/pdf/1503.04069.pdf\n",
    "\n",
    "ソース\n",
    "\n",
    "https://github.com/fomorians/lstm-odyssey\n",
    "\n",
    "https://github.com/suriyadeepan/rnn-from-scratch\n",
    "\n",
    "\n",
    "Investigating Gated Recurrent Neural Networks for Speech Synthesis\n",
    "\n",
    "http://homepages.inf.ed.ac.uk/zwu2/demo/icassp16/lstm.html\n",
    "\n",
    "LSTMのゲートの調整\n",
    "\n",
    "Natural: Natural recording speech.<br>\n",
    "LSTM: Baseline long short-term memory (LSTM) based RNN system.<br>\n",
    "NIG: LSTM without input gate.<br>\n",
    "NOG: LSTM without output gate.<br>\n",
    "NFG: LSTM without forget gate.<br>\n",
    "NPH: LSTM without peep-hole connections.<br>\n",
    "GRU: Gated Recurrent Unit.<br>\n",
    "S-LSTM: Simplified LSTM with only forget gate.<br>\n"
   ]
  },
  {
   "cell_type": "code",
   "execution_count": null,
   "metadata": {
    "collapsed": true
   },
   "outputs": [],
   "source": []
  },
  {
   "cell_type": "code",
   "execution_count": 1,
   "metadata": {
    "collapsed": true
   },
   "outputs": [],
   "source": [
    "# -*- coding: utf-8 -*-\n",
    "import numpy as np\n",
    "import chainer\n",
    "# from chainer import cuda, Function, gradient_check, Variable, optimizers, serializers, utils\n",
    "from chainer import cuda, Function, Variable, optimizers, serializers, utils\n",
    "from chainer import report, training, Chain, datasets, iterators, optimizers\n",
    "# from chainer import Link, Chain, ChainList\n",
    "import chainer.functions as F\n",
    "import chainer.links as L\n",
    "import time\n",
    "from matplotlib import pyplot as plt\n",
    "%matplotlib inline"
   ]
  },
  {
   "cell_type": "code",
   "execution_count": 2,
   "metadata": {},
   "outputs": [
    {
     "name": "stdout",
     "output_type": "stream",
     "text": [
      "(10,)\n",
      "(10,)\n"
     ]
    }
   ],
   "source": [
    "# データ\n",
    "def get_dataset(N):\n",
    "    x = np.linspace(0, 2 * np.pi, N)\n",
    "    y = np.sin(x)\n",
    "    return x, y\n",
    "print(get_dataset(10)[0].shape)\n",
    "print(get_dataset(10)[1].shape)"
   ]
  },
  {
   "cell_type": "code",
   "execution_count": null,
   "metadata": {
    "collapsed": true
   },
   "outputs": [],
   "source": [
    "#VanillaLSTM\n",
    "class RNN_Model(chainer.Chain):\n",
    "    def __init__(self, n_units=10):\n",
    "        super(RNN_Model, self).__init__(\n",
    "            l1=L.Linear(1, n_units),\n",
    "            l2=L.LSTM(n_units, n_units),\n",
    "            l3=L.Linear(n_units, 1),\n",
    "        )\n",
    "\n",
    "    def reset_state(self):\n",
    "        self.l2.reset_state()\n",
    "\n",
    "    def __call__(self, x):\n",
    "        x = Variable(x.reshape((len(x), 1)).astype(np.float32))\n",
    "        h1 = self.l1(x)\n",
    "        h2 = self.l2(h1)\n",
    "        y = self.l3(h2)\n",
    "        return y\n",
    "\n",
    "    def  predict(self, x):\n",
    "        x = x.reshape((len(x), 1)).astype(np.float32)\n",
    "        x = Variable(x)        \n",
    "        h1 = self.l1(x)\n",
    "        h2 = self.l2(h1)\n",
    "        y = self.l3(h2)\n",
    "        return y\n",
    "\n",
    "    def get_predata(self, x):\n",
    "        return self.predict(x)\n",
    "    \n",
    "class LossFuncL(chainer.Chain):\n",
    "    def __init__(self, predictor):\n",
    "        super(LossFuncL, self).__init__(predictor=predictor)\n",
    "\n",
    "    def __call__(self, x, t):\n",
    "        y = self.predictor(x)\n",
    "        x = x.astype(np.float32).reshape(len(x),1)\n",
    "        t = t.astype(np.float32).reshape(len(t),1)\n",
    "        loss = F.mean_squared_error(y, t)\n",
    "        report({'loss':loss}, self)\n",
    "        return loss\n"
   ]
  }
 ],
 "metadata": {
  "kernelspec": {
   "display_name": "Python 3",
   "language": "python",
   "name": "python3"
  },
  "language_info": {
   "codemirror_mode": {
    "name": "ipython",
    "version": 3
   },
   "file_extension": ".py",
   "mimetype": "text/x-python",
   "name": "python",
   "nbconvert_exporter": "python",
   "pygments_lexer": "ipython3",
   "version": "3.5.3"
  }
 },
 "nbformat": 4,
 "nbformat_minor": 2
}
