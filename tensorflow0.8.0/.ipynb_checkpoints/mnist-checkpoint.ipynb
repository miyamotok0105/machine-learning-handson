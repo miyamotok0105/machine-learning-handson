{
 "cells": [
  {
   "cell_type": "code",
   "execution_count": 28,
   "metadata": {},
   "outputs": [
    {
     "name": "stdout",
     "output_type": "stream",
     "text": [
      "Extracting MNIST_data/train-images-idx3-ubyte.gz\n",
      "Extracting MNIST_data/train-labels-idx1-ubyte.gz\n",
      "Extracting MNIST_data/t10k-images-idx3-ubyte.gz\n",
      "Extracting MNIST_data/t10k-labels-idx1-ubyte.gz\n"
     ]
    }
   ],
   "source": [
    "%matplotlib inline\n",
    "import tensorflow as tf\n",
    "from tensorflow.examples.tutorials.mnist import input_data\n",
    "mnist = input_data.read_data_sets(\"MNIST_data/\", one_hot=True)"
   ]
  },
  {
   "cell_type": "code",
   "execution_count": 29,
   "metadata": {},
   "outputs": [
    {
     "name": "stdout",
     "output_type": "stream",
     "text": [
      "Tensor(\"Placeholder_12:0\", shape=(?, 784), dtype=float32)\n",
      "Tensor(\"Placeholder_13:0\", shape=(?, 10), dtype=float32)\n"
     ]
    }
   ],
   "source": [
    "# Variables\n",
    "x = tf.placeholder(\"float\", [None, 784])\n",
    "y_ = tf.placeholder(\"float\", [None, 10])\n",
    "print(x)\n",
    "print(y_)\n",
    "w_h = tf.Variable(tf.random_normal([784, 625], mean=0.0, stddev=0.05))\n",
    "w_o = tf.Variable(tf.random_normal([625, 10], mean=0.0, stddev=0.05))\n",
    "b_h = tf.Variable(tf.zeros([625]))\n",
    "b_o = tf.Variable(tf.zeros([10]))\n"
   ]
  },
  {
   "cell_type": "code",
   "execution_count": 30,
   "metadata": {},
   "outputs": [
    {
     "name": "stdout",
     "output_type": "stream",
     "text": [
      "Tensor(\"Softmax_4:0\", shape=(?, 10), dtype=float32)\n"
     ]
    }
   ],
   "source": [
    "# Create the model\n",
    "def model(X, w_h, b_h, w_o, b_o):\n",
    "    h = tf.sigmoid(tf.matmul(X, w_h) + b_h)\n",
    "    pyx = tf.nn.softmax(tf.matmul(h, w_o) + b_o)\n",
    "    return pyx\n",
    "\n",
    "y_hypo = model(x, w_h, b_h, w_o, b_o)\n",
    "print(y_hypo)"
   ]
  },
  {
   "cell_type": "code",
   "execution_count": 31,
   "metadata": {
    "collapsed": true
   },
   "outputs": [],
   "source": [
    "#誤差関数\n",
    "cross_entropy = -tf.reduce_sum(y_*tf.log(y_hypo))"
   ]
  },
  {
   "cell_type": "code",
   "execution_count": 32,
   "metadata": {
    "collapsed": true
   },
   "outputs": [],
   "source": [
    "# Regularization terms (weight decay)\n",
    "L2_sqr = tf.nn.l2_loss(w_h) + tf.nn.l2_loss(w_o)\n",
    "lambda_2 = 0.01"
   ]
  },
  {
   "cell_type": "code",
   "execution_count": 33,
   "metadata": {
    "collapsed": true
   },
   "outputs": [],
   "source": [
    "# the loss and accuracy\n",
    "loss = cross_entropy + lambda_2 * L2_sqr"
   ]
  },
  {
   "cell_type": "code",
   "execution_count": 34,
   "metadata": {
    "collapsed": true
   },
   "outputs": [],
   "source": [
    "\n",
    "train_step = tf.train.GradientDescentOptimizer(0.001).minimize(loss)\n",
    "correct_prediction = tf.equal(tf.argmax(y_hypo,1), tf.argmax(y_,1))\n",
    "accuracy = tf.reduce_mean(tf.cast(correct_prediction, \"float\"))"
   ]
  },
  {
   "cell_type": "code",
   "execution_count": 35,
   "metadata": {},
   "outputs": [
    {
     "name": "stdout",
     "output_type": "stream",
     "text": [
      "Training...\n",
      "  step, accurary =      0:  0.200\n"
     ]
    }
   ],
   "source": [
    "# Train\n",
    "init = tf.initialize_all_variables()\n",
    "\n",
    "with tf.Session() as sess:\n",
    "    sess.run(init)\n",
    "    print('Training...')\n",
    "    for i in range(20):\n",
    "        batch_xs, batch_ys = mnist.train.next_batch(100)\n",
    "        train_step.run({x: batch_xs, y_: batch_ys})\n",
    "        if i % 2000 == 0:\n",
    "            train_accuracy = accuracy.eval({x: batch_xs, y_: batch_ys})\n",
    "            print('  step, accurary = %6d: %6.3f' % (i, train_accuracy))"
   ]
  },
  {
   "cell_type": "code",
   "execution_count": null,
   "metadata": {
    "collapsed": true
   },
   "outputs": [],
   "source": []
  }
 ],
 "metadata": {
  "kernelspec": {
   "display_name": "Python 3",
   "language": "python",
   "name": "python3"
  },
  "language_info": {
   "codemirror_mode": {
    "name": "ipython",
    "version": 3
   },
   "file_extension": ".py",
   "mimetype": "text/x-python",
   "name": "python",
   "nbconvert_exporter": "python",
   "pygments_lexer": "ipython3",
   "version": "3.5.3"
  }
 },
 "nbformat": 4,
 "nbformat_minor": 2
}
