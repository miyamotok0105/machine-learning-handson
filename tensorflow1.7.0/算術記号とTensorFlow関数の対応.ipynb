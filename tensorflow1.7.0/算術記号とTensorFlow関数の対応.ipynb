{
 "cells": [
  {
   "cell_type": "markdown",
   "metadata": {
    "colab_type": "text",
    "id": "LuZPxqPRWkbf"
   },
   "source": [
    "# 算術記号とTensorFlow関数の対応\n"
   ]
  },
  {
   "cell_type": "markdown",
   "metadata": {
    "colab_type": "text",
    "id": "xriHfEcsT5i1"
   },
   "source": [
    "https://www.saintsouth.net/blog/map-of-arithmetic-symbols-and-tensorflows-function/"
   ]
  },
  {
   "cell_type": "code",
   "execution_count": 0,
   "metadata": {
    "colab": {
     "autoexec": {
      "startup": false,
      "wait_interval": 0
     }
    },
    "colab_type": "code",
    "id": "XZRWffOkT58n"
   },
   "outputs": [],
   "source": []
  },
  {
   "cell_type": "markdown",
   "metadata": {
    "colab_type": "text",
    "id": "gOXijfUjcxzI"
   },
   "source": [
    "## 演算対象のテンソルxの定義\n"
   ]
  },
  {
   "cell_type": "code",
   "execution_count": 32,
   "metadata": {
    "colab": {
     "autoexec": {
      "startup": false,
      "wait_interval": 0
     },
     "base_uri": "https://localhost:8080/",
     "height": 67
    },
    "colab_type": "code",
    "executionInfo": {
     "elapsed": 660,
     "status": "ok",
     "timestamp": 1525412385690,
     "user": {
      "displayName": "宮本圭一郎",
      "photoUrl": "//lh5.googleusercontent.com/-5BLtx8oPSy8/AAAAAAAAAAI/AAAAAAAALtI/-tIwIsmAvCs/s50-c-k-no/photo.jpg",
      "userId": "100227668169464343249"
     },
     "user_tz": -540
    },
    "id": "S2xdTUJEc0Rc",
    "outputId": "cefe0d64-52c3-4ebb-98d0-4304b20d7482"
   },
   "outputs": [
    {
     "name": "stdout",
     "output_type": "stream",
     "text": [
      "[[1. 2. 3.]\n",
      " [4. 5. 6.]\n",
      " [7. 8. 9.]]\n"
     ]
    }
   ],
   "source": [
    "import tensorflow as tf\n",
    "\n",
    "x = tf.constant([1., 2., 3., 4., 5., 6., 7., 8., 9.], shape=[3, 3])\n",
    "y = x  # この行を置き換えて確認します。\n",
    "\n",
    "with tf.Session() as sess:\n",
    "    print(sess.run(y))"
   ]
  },
  {
   "cell_type": "markdown",
   "metadata": {
    "colab_type": "text",
    "id": "8sRkS_jbc8fD"
   },
   "source": [
    "## tf.negative 符号反転"
   ]
  },
  {
   "cell_type": "markdown",
   "metadata": {
    "colab_type": "text",
    "id": "6tGsSwgJc-5a"
   },
   "source": [
    "$y=-x$"
   ]
  },
  {
   "cell_type": "code",
   "execution_count": 4,
   "metadata": {
    "colab": {
     "autoexec": {
      "startup": false,
      "wait_interval": 0
     },
     "base_uri": "https://localhost:8080/",
     "height": 67
    },
    "colab_type": "code",
    "executionInfo": {
     "elapsed": 2798,
     "status": "ok",
     "timestamp": 1525358558869,
     "user": {
      "displayName": "宮本圭一郎",
      "photoUrl": "//lh5.googleusercontent.com/-5BLtx8oPSy8/AAAAAAAAAAI/AAAAAAAALtI/-tIwIsmAvCs/s50-c-k-no/photo.jpg",
      "userId": "100227668169464343249"
     },
     "user_tz": -540
    },
    "id": "sqXxb3hzc5CO",
    "outputId": "9b778b61-5d33-4e3b-f26f-5a417233c30a"
   },
   "outputs": [
    {
     "name": "stdout",
     "output_type": "stream",
     "text": [
      "[[-1. -2. -3.]\n",
      " [-4. -5. -6.]\n",
      " [-7. -8. -9.]]\n"
     ]
    }
   ],
   "source": [
    "y = tf.negative(x)\n",
    "with tf.Session() as sess:\n",
    "    print(sess.run(y))"
   ]
  },
  {
   "cell_type": "markdown",
   "metadata": {
    "colab_type": "text",
    "id": "UgqgDwlQdlwb"
   },
   "source": [
    "## tf.abs 絶対値"
   ]
  },
  {
   "cell_type": "markdown",
   "metadata": {
    "colab_type": "text",
    "id": "wKhctNWRdteM"
   },
   "source": [
    "$y=\\left | x \\right |$"
   ]
  },
  {
   "cell_type": "code",
   "execution_count": 5,
   "metadata": {
    "colab": {
     "autoexec": {
      "startup": false,
      "wait_interval": 0
     },
     "base_uri": "https://localhost:8080/",
     "height": 67
    },
    "colab_type": "code",
    "executionInfo": {
     "elapsed": 2393,
     "status": "ok",
     "timestamp": 1525358736445,
     "user": {
      "displayName": "宮本圭一郎",
      "photoUrl": "//lh5.googleusercontent.com/-5BLtx8oPSy8/AAAAAAAAAAI/AAAAAAAALtI/-tIwIsmAvCs/s50-c-k-no/photo.jpg",
      "userId": "100227668169464343249"
     },
     "user_tz": -540
    },
    "id": "XsBo-7U1dC2Q",
    "outputId": "d5a28810-3ea3-4272-ce63-b5610497a447"
   },
   "outputs": [
    {
     "name": "stdout",
     "output_type": "stream",
     "text": [
      "[[1. 2. 3.]\n",
      " [4. 5. 6.]\n",
      " [7. 8. 9.]]\n"
     ]
    }
   ],
   "source": [
    "y = tf.abs(x)\n",
    "with tf.Session() as sess:\n",
    "    print(sess.run(y))"
   ]
  },
  {
   "cell_type": "markdown",
   "metadata": {
    "colab_type": "text",
    "id": "Y2_fvUQmd3-7"
   },
   "source": [
    "## tf.reciprocal 逆数"
   ]
  },
  {
   "cell_type": "markdown",
   "metadata": {
    "colab_type": "text",
    "id": "99MzWpzGeDFM"
   },
   "source": [
    "$y=\\frac{1}{x}$"
   ]
  },
  {
   "cell_type": "code",
   "execution_count": 7,
   "metadata": {
    "colab": {
     "autoexec": {
      "startup": false,
      "wait_interval": 0
     },
     "base_uri": "https://localhost:8080/",
     "height": 67
    },
    "colab_type": "code",
    "executionInfo": {
     "elapsed": 740,
     "status": "ok",
     "timestamp": 1525358836716,
     "user": {
      "displayName": "宮本圭一郎",
      "photoUrl": "//lh5.googleusercontent.com/-5BLtx8oPSy8/AAAAAAAAAAI/AAAAAAAALtI/-tIwIsmAvCs/s50-c-k-no/photo.jpg",
      "userId": "100227668169464343249"
     },
     "user_tz": -540
    },
    "id": "ziKqPUCVdyqn",
    "outputId": "c199eb24-ad34-48db-b1c1-38a3eb215848"
   },
   "outputs": [
    {
     "name": "stdout",
     "output_type": "stream",
     "text": [
      "[[1.         0.5        0.33333334]\n",
      " [0.25       0.2        0.16666667]\n",
      " [0.14285715 0.125      0.11111111]]\n"
     ]
    }
   ],
   "source": [
    "y = tf.reciprocal(x)\n",
    "with tf.Session() as sess:\n",
    "    print(sess.run(y))"
   ]
  },
  {
   "cell_type": "markdown",
   "metadata": {
    "colab_type": "text",
    "id": "IuFMYLIzePK0"
   },
   "source": [
    "## tf.square 2乗"
   ]
  },
  {
   "cell_type": "markdown",
   "metadata": {
    "colab_type": "text",
    "id": "7g52qpZheTwC"
   },
   "source": [
    "$y=x^2$"
   ]
  },
  {
   "cell_type": "code",
   "execution_count": 8,
   "metadata": {
    "colab": {
     "autoexec": {
      "startup": false,
      "wait_interval": 0
     },
     "base_uri": "https://localhost:8080/",
     "height": 67
    },
    "colab_type": "code",
    "executionInfo": {
     "elapsed": 751,
     "status": "ok",
     "timestamp": 1525358865559,
     "user": {
      "displayName": "宮本圭一郎",
      "photoUrl": "//lh5.googleusercontent.com/-5BLtx8oPSy8/AAAAAAAAAAI/AAAAAAAALtI/-tIwIsmAvCs/s50-c-k-no/photo.jpg",
      "userId": "100227668169464343249"
     },
     "user_tz": -540
    },
    "id": "RCPjBsxid7zm",
    "outputId": "f1e47699-8c4f-4747-ed10-5b3d0d0e6a24"
   },
   "outputs": [
    {
     "name": "stdout",
     "output_type": "stream",
     "text": [
      "[[ 1.  4.  9.]\n",
      " [16. 25. 36.]\n",
      " [49. 64. 81.]]\n"
     ]
    }
   ],
   "source": [
    "y = tf.square(x)\n",
    "with tf.Session() as sess:\n",
    "    print(sess.run(y))"
   ]
  },
  {
   "cell_type": "markdown",
   "metadata": {
    "colab_type": "text",
    "id": "CYCjDxzbeffG"
   },
   "source": [
    "## tf.sqrt べき根"
   ]
  },
  {
   "cell_type": "markdown",
   "metadata": {
    "colab_type": "text",
    "id": "kktDc2R4eohY"
   },
   "source": [
    "$y=\\sqrt{x}$"
   ]
  },
  {
   "cell_type": "code",
   "execution_count": 9,
   "metadata": {
    "colab": {
     "autoexec": {
      "startup": false,
      "wait_interval": 0
     },
     "base_uri": "https://localhost:8080/",
     "height": 67
    },
    "colab_type": "code",
    "executionInfo": {
     "elapsed": 1805,
     "status": "ok",
     "timestamp": 1525358974120,
     "user": {
      "displayName": "宮本圭一郎",
      "photoUrl": "//lh5.googleusercontent.com/-5BLtx8oPSy8/AAAAAAAAAAI/AAAAAAAALtI/-tIwIsmAvCs/s50-c-k-no/photo.jpg",
      "userId": "100227668169464343249"
     },
     "user_tz": -540
    },
    "id": "EORTKo9ieSll",
    "outputId": "558e5c25-d99d-4719-c060-617844e6bce2"
   },
   "outputs": [
    {
     "name": "stdout",
     "output_type": "stream",
     "text": [
      "[[0.99999994 1.4142134  1.7320508 ]\n",
      " [1.9999999  2.236068   2.4494896 ]\n",
      " [2.6457512  2.8284268  3.        ]]\n"
     ]
    }
   ],
   "source": [
    "y = tf.sqrt(x)\n",
    "with tf.Session() as sess:\n",
    "    print(sess.run(y))"
   ]
  },
  {
   "cell_type": "markdown",
   "metadata": {
    "colab_type": "text",
    "id": "596b8SyLggUL"
   },
   "source": [
    "## tf.rsqrt べき根の逆数"
   ]
  },
  {
   "cell_type": "markdown",
   "metadata": {
    "colab_type": "text",
    "id": "R5vWbPQHgjbK"
   },
   "source": [
    "$y=\\frac{1}{\\sqrt{x}}$"
   ]
  },
  {
   "cell_type": "code",
   "execution_count": 10,
   "metadata": {
    "colab": {
     "autoexec": {
      "startup": false,
      "wait_interval": 0
     },
     "base_uri": "https://localhost:8080/",
     "height": 67
    },
    "colab_type": "code",
    "executionInfo": {
     "elapsed": 656,
     "status": "ok",
     "timestamp": 1525359500416,
     "user": {
      "displayName": "宮本圭一郎",
      "photoUrl": "//lh5.googleusercontent.com/-5BLtx8oPSy8/AAAAAAAAAAI/AAAAAAAALtI/-tIwIsmAvCs/s50-c-k-no/photo.jpg",
      "userId": "100227668169464343249"
     },
     "user_tz": -540
    },
    "id": "VYj9_xT8es1L",
    "outputId": "69bea3a0-14c6-430f-c79c-b0ecdb87f8dc"
   },
   "outputs": [
    {
     "name": "stdout",
     "output_type": "stream",
     "text": [
      "[[0.99999994 0.7071067  0.57735026]\n",
      " [0.49999997 0.4472136  0.40824828]\n",
      " [0.37796447 0.35355335 0.33333334]]\n"
     ]
    }
   ],
   "source": [
    "y = tf.rsqrt(x)\n",
    "with tf.Session() as sess:\n",
    "    print(sess.run(y))"
   ]
  },
  {
   "cell_type": "markdown",
   "metadata": {
    "colab_type": "text",
    "id": "d_Npy_EYgwKe"
   },
   "source": [
    "## tf.exp 指数"
   ]
  },
  {
   "cell_type": "markdown",
   "metadata": {
    "colab_type": "text",
    "id": "1PJ5lVpNg2C7"
   },
   "source": [
    "$y=e^x$"
   ]
  },
  {
   "cell_type": "code",
   "execution_count": 11,
   "metadata": {
    "colab": {
     "autoexec": {
      "startup": false,
      "wait_interval": 0
     },
     "base_uri": "https://localhost:8080/",
     "height": 67
    },
    "colab_type": "code",
    "executionInfo": {
     "elapsed": 1934,
     "status": "ok",
     "timestamp": 1525359557712,
     "user": {
      "displayName": "宮本圭一郎",
      "photoUrl": "//lh5.googleusercontent.com/-5BLtx8oPSy8/AAAAAAAAAAI/AAAAAAAALtI/-tIwIsmAvCs/s50-c-k-no/photo.jpg",
      "userId": "100227668169464343249"
     },
     "user_tz": -540
    },
    "id": "nu-oQ9F5gtmp",
    "outputId": "af693127-6082-4063-e3a0-98be081af10f"
   },
   "outputs": [
    {
     "name": "stdout",
     "output_type": "stream",
     "text": [
      "[[2.7182817e+00 7.3890562e+00 2.0085537e+01]\n",
      " [5.4598148e+01 1.4841316e+02 4.0342877e+02]\n",
      " [1.0966332e+03 2.9809580e+03 8.1030840e+03]]\n"
     ]
    }
   ],
   "source": [
    "y = tf.exp(x)\n",
    "with tf.Session() as sess:\n",
    "    print(sess.run(y))"
   ]
  },
  {
   "cell_type": "markdown",
   "metadata": {
    "colab_type": "text",
    "id": "Id-N0ZYvhAX6"
   },
   "source": [
    "## tf.log 自然対数"
   ]
  },
  {
   "cell_type": "markdown",
   "metadata": {
    "colab_type": "text",
    "id": "yLJ5v4_PhB2k"
   },
   "source": [
    "$y=log_{e}x$"
   ]
  },
  {
   "cell_type": "code",
   "execution_count": 12,
   "metadata": {
    "colab": {
     "autoexec": {
      "startup": false,
      "wait_interval": 0
     },
     "base_uri": "https://localhost:8080/",
     "height": 67
    },
    "colab_type": "code",
    "executionInfo": {
     "elapsed": 658,
     "status": "ok",
     "timestamp": 1525359691212,
     "user": {
      "displayName": "宮本圭一郎",
      "photoUrl": "//lh5.googleusercontent.com/-5BLtx8oPSy8/AAAAAAAAAAI/AAAAAAAALtI/-tIwIsmAvCs/s50-c-k-no/photo.jpg",
      "userId": "100227668169464343249"
     },
     "user_tz": -540
    },
    "id": "86Jcc4qyg7R_",
    "outputId": "26a7963a-8154-4d83-c496-0286037ca1e8"
   },
   "outputs": [
    {
     "name": "stdout",
     "output_type": "stream",
     "text": [
      "[[0.        0.6931472 1.0986123]\n",
      " [1.3862944 1.609438  1.7917595]\n",
      " [1.9459102 2.0794415 2.1972246]]\n"
     ]
    }
   ],
   "source": [
    "y = tf.log(x)\n",
    "with tf.Session() as sess:\n",
    "    print(sess.run(y))"
   ]
  },
  {
   "cell_type": "markdown",
   "metadata": {
    "colab_type": "text",
    "id": "UzJqUfZVhpFd"
   },
   "source": [
    "## tf.reduce_sum 総和"
   ]
  },
  {
   "cell_type": "markdown",
   "metadata": {
    "colab_type": "text",
    "id": "5_9hoqGDhyK2"
   },
   "source": [
    "reduce_sum はテンソルの任意の次元の要素を足し合わせて新しいテンソルを返します。何次元目を足し合わせるかは、第2引数またはreduction_indicesで指定します。指定がなければすべての次元で足し合わせて、1つの値を返します。"
   ]
  },
  {
   "cell_type": "markdown",
   "metadata": {
    "colab_type": "text",
    "id": "dsdzblhKhtmW"
   },
   "source": [
    "### i(1次元目)で足し合わせ"
   ]
  },
  {
   "cell_type": "markdown",
   "metadata": {
    "colab_type": "text",
    "id": "c8ehYbw2iPTF"
   },
   "source": [
    "$y=\\sum_{i=1}^{m}x_{ij}$"
   ]
  },
  {
   "cell_type": "code",
   "execution_count": 13,
   "metadata": {
    "colab": {
     "autoexec": {
      "startup": false,
      "wait_interval": 0
     },
     "base_uri": "https://localhost:8080/",
     "height": 34
    },
    "colab_type": "code",
    "executionInfo": {
     "elapsed": 681,
     "status": "ok",
     "timestamp": 1525359801622,
     "user": {
      "displayName": "宮本圭一郎",
      "photoUrl": "//lh5.googleusercontent.com/-5BLtx8oPSy8/AAAAAAAAAAI/AAAAAAAALtI/-tIwIsmAvCs/s50-c-k-no/photo.jpg",
      "userId": "100227668169464343249"
     },
     "user_tz": -540
    },
    "id": "aFirMcwJhcLi",
    "outputId": "0a6fe501-68a0-46be-d1b7-7b0f650a35e4"
   },
   "outputs": [
    {
     "name": "stdout",
     "output_type": "stream",
     "text": [
      "[12. 15. 18.]\n"
     ]
    }
   ],
   "source": [
    "y = tf.reduce_sum(x, 0)\n",
    "with tf.Session() as sess:\n",
    "    print(sess.run(y))"
   ]
  },
  {
   "cell_type": "markdown",
   "metadata": {
    "colab_type": "text",
    "id": "gqr4Sc2hMI4e"
   },
   "source": [
    "### j(2次元目)で足し合わせ"
   ]
  },
  {
   "cell_type": "markdown",
   "metadata": {
    "colab_type": "text",
    "id": "allKft4VMWAJ"
   },
   "source": [
    "$y=\\sum_{j=1}^{m}x_{ij}$"
   ]
  },
  {
   "cell_type": "code",
   "execution_count": 3,
   "metadata": {
    "colab": {
     "autoexec": {
      "startup": false,
      "wait_interval": 0
     },
     "base_uri": "https://localhost:8080/",
     "height": 34
    },
    "colab_type": "code",
    "executionInfo": {
     "elapsed": 568,
     "status": "ok",
     "timestamp": 1525404486068,
     "user": {
      "displayName": "宮本圭一郎",
      "photoUrl": "//lh5.googleusercontent.com/-5BLtx8oPSy8/AAAAAAAAAAI/AAAAAAAALtI/-tIwIsmAvCs/s50-c-k-no/photo.jpg",
      "userId": "100227668169464343249"
     },
     "user_tz": -540
    },
    "id": "RW66CdBVh3IX",
    "outputId": "5e91b957-c3a0-4230-8bb2-3d5d9cbd07a5"
   },
   "outputs": [
    {
     "name": "stdout",
     "output_type": "stream",
     "text": [
      "[ 6. 15. 24.]\n"
     ]
    }
   ],
   "source": [
    "y = tf.reduce_sum(x, 1)\n",
    "with tf.Session() as sess:\n",
    "    print(sess.run(y))"
   ]
  },
  {
   "cell_type": "markdown",
   "metadata": {
    "colab_type": "text",
    "id": "5WvAxaKmMapx"
   },
   "source": [
    "### すべての次元で足し合わせ"
   ]
  },
  {
   "cell_type": "markdown",
   "metadata": {
    "colab_type": "text",
    "id": "FeP1oqPcMgvj"
   },
   "source": [
    "$y=\\sum_{i=1}^{m}\\sum_{j=1}^{n}x_{ij}$"
   ]
  },
  {
   "cell_type": "code",
   "execution_count": 4,
   "metadata": {
    "colab": {
     "autoexec": {
      "startup": false,
      "wait_interval": 0
     },
     "base_uri": "https://localhost:8080/",
     "height": 34
    },
    "colab_type": "code",
    "executionInfo": {
     "elapsed": 532,
     "status": "ok",
     "timestamp": 1525404524274,
     "user": {
      "displayName": "宮本圭一郎",
      "photoUrl": "//lh5.googleusercontent.com/-5BLtx8oPSy8/AAAAAAAAAAI/AAAAAAAALtI/-tIwIsmAvCs/s50-c-k-no/photo.jpg",
      "userId": "100227668169464343249"
     },
     "user_tz": -540
    },
    "id": "aBuVf9mcMM6g",
    "outputId": "82983683-820d-4d22-c76a-f6545d0fe939"
   },
   "outputs": [
    {
     "name": "stdout",
     "output_type": "stream",
     "text": [
      "45.0\n"
     ]
    }
   ],
   "source": [
    "y = tf.reduce_sum(x)\n",
    "with tf.Session() as sess:\n",
    "    print(sess.run(y))"
   ]
  },
  {
   "cell_type": "markdown",
   "metadata": {
    "colab_type": "text",
    "id": "w8ZLeMWyOD5x"
   },
   "source": [
    "## tf.reduce_prod 総乗"
   ]
  },
  {
   "cell_type": "markdown",
   "metadata": {
    "colab_type": "text",
    "id": "NLeNyBp5OQJI"
   },
   "source": [
    "reduce_sum はテンソルの任意の次元の要素をかけ合わせて新しいテンソルを返します。何次元目をかけ合わせるかは、第2引数またはreduction_indicesで指定します。指定がなければすべての次元でかけ合わせて、1つの値を返します。"
   ]
  },
  {
   "cell_type": "markdown",
   "metadata": {
    "colab_type": "text",
    "id": "eG4BowYGOSHC"
   },
   "source": [
    "### i(1次元目)でかけ合わせ"
   ]
  },
  {
   "cell_type": "markdown",
   "metadata": {
    "colab_type": "text",
    "id": "hfcyTUz5OeJA"
   },
   "source": [
    "$y=\\prod_{i=1}^{m}x_{ij}$"
   ]
  },
  {
   "cell_type": "code",
   "execution_count": 5,
   "metadata": {
    "colab": {
     "autoexec": {
      "startup": false,
      "wait_interval": 0
     },
     "base_uri": "https://localhost:8080/",
     "height": 34
    },
    "colab_type": "code",
    "executionInfo": {
     "elapsed": 567,
     "status": "ok",
     "timestamp": 1525405075587,
     "user": {
      "displayName": "宮本圭一郎",
      "photoUrl": "//lh5.googleusercontent.com/-5BLtx8oPSy8/AAAAAAAAAAI/AAAAAAAALtI/-tIwIsmAvCs/s50-c-k-no/photo.jpg",
      "userId": "100227668169464343249"
     },
     "user_tz": -540
    },
    "id": "l_e6s2S_Mdxl",
    "outputId": "aef9c126-a527-439f-a675-ba925e5d3f59"
   },
   "outputs": [
    {
     "name": "stdout",
     "output_type": "stream",
     "text": [
      "[ 28.  80. 162.]\n"
     ]
    }
   ],
   "source": [
    "y = tf.reduce_prod(x, 0)\n",
    "with tf.Session() as sess:\n",
    "    print(sess.run(y))"
   ]
  },
  {
   "cell_type": "markdown",
   "metadata": {
    "colab_type": "text",
    "id": "5KDgK9TyOnGK"
   },
   "source": [
    "### j(2次元目)でかけ合わせ"
   ]
  },
  {
   "cell_type": "markdown",
   "metadata": {
    "colab_type": "text",
    "id": "0dAREM2cOoys"
   },
   "source": [
    "$y=\\prod_{j=1}^{n}x_{ij}$"
   ]
  },
  {
   "cell_type": "code",
   "execution_count": 6,
   "metadata": {
    "colab": {
     "autoexec": {
      "startup": false,
      "wait_interval": 0
     },
     "base_uri": "https://localhost:8080/",
     "height": 34
    },
    "colab_type": "code",
    "executionInfo": {
     "elapsed": 467,
     "status": "ok",
     "timestamp": 1525405154301,
     "user": {
      "displayName": "宮本圭一郎",
      "photoUrl": "//lh5.googleusercontent.com/-5BLtx8oPSy8/AAAAAAAAAAI/AAAAAAAALtI/-tIwIsmAvCs/s50-c-k-no/photo.jpg",
      "userId": "100227668169464343249"
     },
     "user_tz": -540
    },
    "id": "JQcdeZW1OkXh",
    "outputId": "4d2447c7-4355-461e-dacb-959373d73695"
   },
   "outputs": [
    {
     "name": "stdout",
     "output_type": "stream",
     "text": [
      "[  6. 120. 504.]\n"
     ]
    }
   ],
   "source": [
    "y = tf.reduce_prod(x, 1)\n",
    "with tf.Session() as sess:\n",
    "    print(sess.run(y))"
   ]
  },
  {
   "cell_type": "markdown",
   "metadata": {
    "colab_type": "text",
    "id": "-Ihn4SsiO6gi"
   },
   "source": [
    "### すべての次元でかけ合わせ"
   ]
  },
  {
   "cell_type": "code",
   "execution_count": 7,
   "metadata": {
    "colab": {
     "autoexec": {
      "startup": false,
      "wait_interval": 0
     },
     "base_uri": "https://localhost:8080/",
     "height": 34
    },
    "colab_type": "code",
    "executionInfo": {
     "elapsed": 2256,
     "status": "ok",
     "timestamp": 1525405179913,
     "user": {
      "displayName": "宮本圭一郎",
      "photoUrl": "//lh5.googleusercontent.com/-5BLtx8oPSy8/AAAAAAAAAAI/AAAAAAAALtI/-tIwIsmAvCs/s50-c-k-no/photo.jpg",
      "userId": "100227668169464343249"
     },
     "user_tz": -540
    },
    "id": "YP4C1IvlO3nW",
    "outputId": "70066fb3-8f7a-42ec-f642-dfb4f2c4cc87"
   },
   "outputs": [
    {
     "name": "stdout",
     "output_type": "stream",
     "text": [
      "362880.0\n"
     ]
    }
   ],
   "source": [
    "y = tf.reduce_prod(x)\n",
    "with tf.Session() as sess:\n",
    "    print(sess.run(y))"
   ]
  },
  {
   "cell_type": "code",
   "execution_count": 0,
   "metadata": {
    "colab": {
     "autoexec": {
      "startup": false,
      "wait_interval": 0
     }
    },
    "colab_type": "code",
    "id": "39PmrwH9O9be"
   },
   "outputs": [],
   "source": []
  },
  {
   "cell_type": "markdown",
   "metadata": {
    "colab_type": "text",
    "id": "SypCdJfhPZgK"
   },
   "source": [
    "## tf.reduce_mean 平均"
   ]
  },
  {
   "cell_type": "markdown",
   "metadata": {
    "colab_type": "text",
    "id": "kUWikJkuPgkR"
   },
   "source": [
    "reduce_mean はテンソルの任意の次元の要素の平均を計算して、新しいテンソルを返します。何次元目の平均をとるかは、第2引数またはreduction_indicesで指定します。指定がなければすべての次元の要素の平均を計算して、1つの値を返します。"
   ]
  },
  {
   "cell_type": "markdown",
   "metadata": {
    "colab_type": "text",
    "id": "5dQSnsQmPif6"
   },
   "source": [
    "### i(1次元目)の平均"
   ]
  },
  {
   "cell_type": "markdown",
   "metadata": {
    "colab_type": "text",
    "id": "PuvmHev2P4e9"
   },
   "source": [
    "$y=\\frac{1}{m}\\sum_{i=1}^{m}x_{ij}$"
   ]
  },
  {
   "cell_type": "code",
   "execution_count": 8,
   "metadata": {
    "colab": {
     "autoexec": {
      "startup": false,
      "wait_interval": 0
     },
     "base_uri": "https://localhost:8080/",
     "height": 34
    },
    "colab_type": "code",
    "executionInfo": {
     "elapsed": 2204,
     "status": "ok",
     "timestamp": 1525405351130,
     "user": {
      "displayName": "宮本圭一郎",
      "photoUrl": "//lh5.googleusercontent.com/-5BLtx8oPSy8/AAAAAAAAAAI/AAAAAAAALtI/-tIwIsmAvCs/s50-c-k-no/photo.jpg",
      "userId": "100227668169464343249"
     },
     "user_tz": -540
    },
    "id": "5EpVwMupPamc",
    "outputId": "c4048513-fdad-479e-d7c5-6326e3192239"
   },
   "outputs": [
    {
     "name": "stdout",
     "output_type": "stream",
     "text": [
      "[4. 5. 6.]\n"
     ]
    }
   ],
   "source": [
    "y = tf.reduce_mean(x, 0)\n",
    "with tf.Session() as sess:\n",
    "    print(sess.run(y))"
   ]
  },
  {
   "cell_type": "markdown",
   "metadata": {
    "colab_type": "text",
    "id": "c5ZOJ1DDQvM-"
   },
   "source": [
    "### j(2次元目)の平均"
   ]
  },
  {
   "cell_type": "markdown",
   "metadata": {
    "colab_type": "text",
    "id": "NtPp0_tzQ0E-"
   },
   "source": [
    "$y=\\frac{1}{n}\\sum_{j=1}^{m}x_{ij}$"
   ]
  },
  {
   "cell_type": "code",
   "execution_count": 9,
   "metadata": {
    "colab": {
     "autoexec": {
      "startup": false,
      "wait_interval": 0
     },
     "base_uri": "https://localhost:8080/",
     "height": 34
    },
    "colab_type": "code",
    "executionInfo": {
     "elapsed": 1422,
     "status": "ok",
     "timestamp": 1525405659165,
     "user": {
      "displayName": "宮本圭一郎",
      "photoUrl": "//lh5.googleusercontent.com/-5BLtx8oPSy8/AAAAAAAAAAI/AAAAAAAALtI/-tIwIsmAvCs/s50-c-k-no/photo.jpg",
      "userId": "100227668169464343249"
     },
     "user_tz": -540
    },
    "id": "590C5BXlPnPm",
    "outputId": "f5e47c6a-7a56-4ddb-9baa-79f87933cda7"
   },
   "outputs": [
    {
     "name": "stdout",
     "output_type": "stream",
     "text": [
      "[2. 5. 8.]\n"
     ]
    }
   ],
   "source": [
    "y = tf.reduce_mean(x, 1)\n",
    "with tf.Session() as sess:\n",
    "    print(sess.run(y))"
   ]
  },
  {
   "cell_type": "markdown",
   "metadata": {
    "colab_type": "text",
    "id": "e5Ej0jewQ51h"
   },
   "source": [
    "### すべての次元の平均"
   ]
  },
  {
   "cell_type": "markdown",
   "metadata": {
    "colab_type": "text",
    "id": "4mXXWhiORB2X"
   },
   "source": [
    "$y=\\frac{1}{mn}\\sum_{i=1}^{m}\\sum_{j=1}^{n}x_{ij}$"
   ]
  },
  {
   "cell_type": "code",
   "execution_count": 10,
   "metadata": {
    "colab": {
     "autoexec": {
      "startup": false,
      "wait_interval": 0
     },
     "base_uri": "https://localhost:8080/",
     "height": 34
    },
    "colab_type": "code",
    "executionInfo": {
     "elapsed": 1144,
     "status": "ok",
     "timestamp": 1525405710097,
     "user": {
      "displayName": "宮本圭一郎",
      "photoUrl": "//lh5.googleusercontent.com/-5BLtx8oPSy8/AAAAAAAAAAI/AAAAAAAALtI/-tIwIsmAvCs/s50-c-k-no/photo.jpg",
      "userId": "100227668169464343249"
     },
     "user_tz": -540
    },
    "id": "Ouji4kmiQyoY",
    "outputId": "46260b1b-3e14-4d3e-cb79-cfd38d4baeca"
   },
   "outputs": [
    {
     "name": "stdout",
     "output_type": "stream",
     "text": [
      "5.0\n"
     ]
    }
   ],
   "source": [
    "y = tf.reduce_mean(x)\n",
    "with tf.Session() as sess:\n",
    "    print(sess.run(y))"
   ]
  },
  {
   "cell_type": "markdown",
   "metadata": {
    "colab_type": "text",
    "id": "FXAQMY4fSckT"
   },
   "source": [
    "## tf.reduce_all　bool処理"
   ]
  },
  {
   "cell_type": "markdown",
   "metadata": {
    "colab_type": "text",
    "id": "U8GXO-sOTFdR"
   },
   "source": [
    "今までの要領でand条件でbool処理を行う。全要素にTrueが入ってるとTrueになる。"
   ]
  },
  {
   "cell_type": "code",
   "execution_count": 13,
   "metadata": {
    "colab": {
     "autoexec": {
      "startup": false,
      "wait_interval": 0
     },
     "base_uri": "https://localhost:8080/",
     "height": 67
    },
    "colab_type": "code",
    "executionInfo": {
     "elapsed": 553,
     "status": "ok",
     "timestamp": 1525406045265,
     "user": {
      "displayName": "宮本圭一郎",
      "photoUrl": "//lh5.googleusercontent.com/-5BLtx8oPSy8/AAAAAAAAAAI/AAAAAAAALtI/-tIwIsmAvCs/s50-c-k-no/photo.jpg",
      "userId": "100227668169464343249"
     },
     "user_tz": -540
    },
    "id": "frwfMsEdQ_Io",
    "outputId": "b76d0983-035f-4bee-9eb0-0cb4787d6c34"
   },
   "outputs": [
    {
     "name": "stdout",
     "output_type": "stream",
     "text": [
      "False\n",
      "[False False]\n",
      "[ True False]\n"
     ]
    }
   ],
   "source": [
    "x = tf.constant([[True,  True], [False, False]])\n",
    "y1 = tf.reduce_all(x)  # False\n",
    "y2 = tf.reduce_all(x, 0)  # [False, False]\n",
    "y3 = tf.reduce_all(x, 1)  # [True, False]\n",
    "with tf.Session() as sess:\n",
    "    print(sess.run(y1))\n",
    "    print(sess.run(y2))\n",
    "    print(sess.run(y3))"
   ]
  },
  {
   "cell_type": "code",
   "execution_count": 18,
   "metadata": {
    "colab": {
     "autoexec": {
      "startup": false,
      "wait_interval": 0
     },
     "base_uri": "https://localhost:8080/",
     "height": 67
    },
    "colab_type": "code",
    "executionInfo": {
     "elapsed": 676,
     "status": "ok",
     "timestamp": 1525406388405,
     "user": {
      "displayName": "宮本圭一郎",
      "photoUrl": "//lh5.googleusercontent.com/-5BLtx8oPSy8/AAAAAAAAAAI/AAAAAAAALtI/-tIwIsmAvCs/s50-c-k-no/photo.jpg",
      "userId": "100227668169464343249"
     },
     "user_tz": -540
    },
    "id": "-_7Oh9bfSFGe",
    "outputId": "fc57c623-b741-4d6c-ec4d-72990e09f869"
   },
   "outputs": [
    {
     "name": "stdout",
     "output_type": "stream",
     "text": [
      "True\n",
      "[ True  True]\n",
      "[ True  True]\n"
     ]
    }
   ],
   "source": [
    "x = tf.constant([[True,  True], [True, True]])\n",
    "y1 = tf.reduce_all(x)  # True\n",
    "y2 = tf.reduce_all(x, 0)  # [True, False]\n",
    "y3 = tf.reduce_all(x, 1)  # [True, True]\n",
    "with tf.Session() as sess:\n",
    "    print(sess.run(y1))\n",
    "    print(sess.run(y2))\n",
    "    print(sess.run(y3))"
   ]
  },
  {
   "cell_type": "markdown",
   "metadata": {
    "colab_type": "text",
    "id": "eLSA6hzdTR37"
   },
   "source": [
    "## tf.reduce_any"
   ]
  },
  {
   "cell_type": "markdown",
   "metadata": {
    "colab_type": "text",
    "id": "D-90aKnnTyOO"
   },
   "source": [
    "or条件でTrue要素が一つでもあればTrueになる。"
   ]
  },
  {
   "cell_type": "code",
   "execution_count": 16,
   "metadata": {
    "colab": {
     "autoexec": {
      "startup": false,
      "wait_interval": 0
     },
     "base_uri": "https://localhost:8080/",
     "height": 67
    },
    "colab_type": "code",
    "executionInfo": {
     "elapsed": 514,
     "status": "ok",
     "timestamp": 1525406343029,
     "user": {
      "displayName": "宮本圭一郎",
      "photoUrl": "//lh5.googleusercontent.com/-5BLtx8oPSy8/AAAAAAAAAAI/AAAAAAAALtI/-tIwIsmAvCs/s50-c-k-no/photo.jpg",
      "userId": "100227668169464343249"
     },
     "user_tz": -540
    },
    "id": "pfRY20CFS58p",
    "outputId": "7a82767c-80ff-4302-e506-a4902742e3db"
   },
   "outputs": [
    {
     "name": "stdout",
     "output_type": "stream",
     "text": [
      "True\n",
      "[ True  True]\n",
      "[ True False]\n"
     ]
    }
   ],
   "source": [
    "x = tf.constant([[True,  True], [False, False]])\n",
    "y1 = tf.reduce_any(x)  # True\n",
    "y2 = tf.reduce_any(x, 0)  # [True, True]\n",
    "y3 = tf.reduce_any(x, 1)  # [True, False]\n",
    "with tf.Session() as sess:\n",
    "    print(sess.run(y1))\n",
    "    print(sess.run(y2))\n",
    "    print(sess.run(y3))"
   ]
  },
  {
   "cell_type": "markdown",
   "metadata": {
    "colab_type": "text",
    "id": "6ossJFIhUfub"
   },
   "source": [
    "## tf.reduce_join"
   ]
  },
  {
   "cell_type": "code",
   "execution_count": 27,
   "metadata": {
    "colab": {
     "autoexec": {
      "startup": false,
      "wait_interval": 0
     },
     "base_uri": "https://localhost:8080/",
     "height": 168
    },
    "colab_type": "code",
    "executionInfo": {
     "elapsed": 514,
     "status": "ok",
     "timestamp": 1525407811203,
     "user": {
      "displayName": "宮本圭一郎",
      "photoUrl": "//lh5.googleusercontent.com/-5BLtx8oPSy8/AAAAAAAAAAI/AAAAAAAALtI/-tIwIsmAvCs/s50-c-k-no/photo.jpg",
      "userId": "100227668169464343249"
     },
     "user_tz": -540
    },
    "id": "8oze06hkTPZU",
    "outputId": "bdd97e1a-efee-4240-8bbb-7ab7cdaf3360"
   },
   "outputs": [
    {
     "name": "stdout",
     "output_type": "stream",
     "text": [
      "=======\n",
      "[b'ac' b'bd']\n",
      "[b'ab' b'cd']\n",
      "=======\n",
      "[b'ac' b'bd']\n",
      "[b'ac' b'bd']\n",
      "=======\n",
      "[b'ab' b'cd']\n",
      "[b'ab' b'cd']\n"
     ]
    }
   ],
   "source": [
    "x = tf.constant([[\"a\",  \"b\"], [\"c\", \"d\"]])\n",
    "y1 = tf.reduce_join(x, 0) # [\"ac\", \"bd\"]\n",
    "y2 = tf.reduce_join(x, 1) # [\"ab\", \"cd\"]\n",
    "y_a1 = tf.reduce_join(x, -2) # [\"ac\", \"bd\"]\n",
    "y_a2 = tf.reduce_join(x, 0) # [\"ac\", \"bd\"]\n",
    "y_b1 = tf.reduce_join(x, -1)\n",
    "y_b2 = tf.reduce_join(x, 1)\n",
    "\n",
    "\n",
    "with tf.Session() as sess:\n",
    "    print(\"=======\")\n",
    "    print(sess.run(y1))\n",
    "    print(sess.run(y2))\n",
    "    print(\"=======\")\n",
    "    print(sess.run(y_a1))\n",
    "    print(sess.run(y_a2))\n",
    "    print(\"=======\")\n",
    "    print(sess.run(y_b1))\n",
    "    print(sess.run(y_b2))"
   ]
  },
  {
   "cell_type": "markdown",
   "metadata": {
    "colab_type": "text",
    "id": "uvC_DausZFq_"
   },
   "source": [
    "## tf.reduce_logsumexp"
   ]
  },
  {
   "cell_type": "markdown",
   "metadata": {
    "colab_type": "text",
    "id": "kTf2ZeE_ZLp1"
   },
   "source": [
    "log(sum(exp(テンソル次元間の要素)))"
   ]
  },
  {
   "cell_type": "code",
   "execution_count": 31,
   "metadata": {
    "colab": {
     "autoexec": {
      "startup": false,
      "wait_interval": 0
     },
     "base_uri": "https://localhost:8080/",
     "height": 151
    },
    "colab_type": "code",
    "executionInfo": {
     "elapsed": 515,
     "status": "ok",
     "timestamp": 1525408592003,
     "user": {
      "displayName": "宮本圭一郎",
      "photoUrl": "//lh5.googleusercontent.com/-5BLtx8oPSy8/AAAAAAAAAAI/AAAAAAAALtI/-tIwIsmAvCs/s50-c-k-no/photo.jpg",
      "userId": "100227668169464343249"
     },
     "user_tz": -540
    },
    "id": "uaNUTo4AWOaH",
    "outputId": "f1472cf1-86de-4cbc-e09d-0f590c9ae332"
   },
   "outputs": [
    {
     "name": "stdout",
     "output_type": "stream",
     "text": [
      "[[0. 0. 0.]\n",
      " [0. 0. 0.]]\n",
      "1.7917595\n",
      "[0.6931472 0.6931472 0.6931472]\n",
      "[1.0986123 1.0986123]\n",
      "[[1.0986123]\n",
      " [1.0986123]]\n",
      "1.7917595\n"
     ]
    }
   ],
   "source": [
    "x = tf.constant([[0., 0., 0.], [0., 0., 0.]])\n",
    "y1 = tf.reduce_logsumexp(x)  # log(6)\n",
    "y2 = tf.reduce_logsumexp(x, 0)  # [log(2), log(2), log(2)]\n",
    "y3 = tf.reduce_logsumexp(x, 1)  # [log(3), log(3)]\n",
    "y4 = tf.reduce_logsumexp(x, 1, keepdims=True)  # [[log(3)], [log(3)]]\n",
    "y5 = tf.reduce_logsumexp(x, [0, 1])  # log(6)\n",
    "\n",
    "with tf.Session() as sess:\n",
    "    print(sess.run(x))\n",
    "    print(sess.run(y1))\n",
    "    print(sess.run(y2))\n",
    "    print(sess.run(y3))\n",
    "    print(sess.run(y4))\n",
    "    print(sess.run(y5))"
   ]
  },
  {
   "cell_type": "code",
   "execution_count": 0,
   "metadata": {
    "colab": {
     "autoexec": {
      "startup": false,
      "wait_interval": 0
     }
    },
    "colab_type": "code",
    "id": "UTDFzIXcZtXy"
   },
   "outputs": [],
   "source": []
  },
  {
   "cell_type": "markdown",
   "metadata": {
    "colab_type": "text",
    "id": "AUnyKWqQqhdT"
   },
   "source": [
    "## tf.argmax"
   ]
  },
  {
   "cell_type": "markdown",
   "metadata": {
    "colab_type": "text",
    "id": "OYJkykCWsuxz"
   },
   "source": [
    "axisはデフォルトは0。"
   ]
  },
  {
   "cell_type": "code",
   "execution_count": 40,
   "metadata": {
    "colab": {
     "autoexec": {
      "startup": false,
      "wait_interval": 0
     },
     "base_uri": "https://localhost:8080/",
     "height": 101
    },
    "colab_type": "code",
    "executionInfo": {
     "elapsed": 2011,
     "status": "ok",
     "timestamp": 1525412661480,
     "user": {
      "displayName": "宮本圭一郎",
      "photoUrl": "//lh5.googleusercontent.com/-5BLtx8oPSy8/AAAAAAAAAAI/AAAAAAAALtI/-tIwIsmAvCs/s50-c-k-no/photo.jpg",
      "userId": "100227668169464343249"
     },
     "user_tz": -540
    },
    "id": "WSZyP2t0qh9U",
    "outputId": "ee7942c4-ee76-490d-9604-ccef41aafe73"
   },
   "outputs": [
    {
     "name": "stdout",
     "output_type": "stream",
     "text": [
      "[[1 2 3]\n",
      " [4 5 6]]\n",
      "[1 1 1]\n",
      "[1 1 1]\n",
      "[2 2]\n"
     ]
    }
   ],
   "source": [
    "x = tf.constant([[1, 2, 3], [4, 5, 6]])\n",
    "y1 = tf.argmax(x)\n",
    "y2 = tf.argmax(x, 0)\n",
    "y3 = tf.argmax(x, 1)\n",
    "with tf.Session() as sess:\n",
    "    print(sess.run(x))\n",
    "    print(sess.run(y1))\n",
    "    print(sess.run(y2))\n",
    "    print(sess.run(y3))"
   ]
  },
  {
   "cell_type": "markdown",
   "metadata": {
    "colab_type": "text",
    "id": "kB8A0yPmtBgD"
   },
   "source": [
    "列方向に比較    \n",
    "[7,,]と[8,,]を比較。[,7,]と[,8,]を比較。"
   ]
  },
  {
   "cell_type": "code",
   "execution_count": 44,
   "metadata": {
    "colab": {
     "autoexec": {
      "startup": false,
      "wait_interval": 0
     },
     "base_uri": "https://localhost:8080/",
     "height": 67
    },
    "colab_type": "code",
    "executionInfo": {
     "elapsed": 604,
     "status": "ok",
     "timestamp": 1525413047595,
     "user": {
      "displayName": "宮本圭一郎",
      "photoUrl": "//lh5.googleusercontent.com/-5BLtx8oPSy8/AAAAAAAAAAI/AAAAAAAALtI/-tIwIsmAvCs/s50-c-k-no/photo.jpg",
      "userId": "100227668169464343249"
     },
     "user_tz": -540
    },
    "id": "NrzvtWU0slWZ",
    "outputId": "9b3693fc-8fd9-4a6b-e7c1-eca3279e7bcd"
   },
   "outputs": [
    {
     "name": "stdout",
     "output_type": "stream",
     "text": [
      "[[7 7 7]\n",
      " [8 8 8]]\n",
      "[1 1 1]\n"
     ]
    }
   ],
   "source": [
    "x = tf.constant([[7, 7, 7], [8, 8, 8]])\n",
    "y1 = tf.argmax(x)\n",
    "with tf.Session() as sess:\n",
    "    print(sess.run(x))\n",
    "    print(sess.run(y1))"
   ]
  },
  {
   "cell_type": "code",
   "execution_count": 45,
   "metadata": {
    "colab": {
     "autoexec": {
      "startup": false,
      "wait_interval": 0
     },
     "base_uri": "https://localhost:8080/",
     "height": 67
    },
    "colab_type": "code",
    "executionInfo": {
     "elapsed": 473,
     "status": "ok",
     "timestamp": 1525413129293,
     "user": {
      "displayName": "宮本圭一郎",
      "photoUrl": "//lh5.googleusercontent.com/-5BLtx8oPSy8/AAAAAAAAAAI/AAAAAAAALtI/-tIwIsmAvCs/s50-c-k-no/photo.jpg",
      "userId": "100227668169464343249"
     },
     "user_tz": -540
    },
    "id": "JfSrljnFs5rD",
    "outputId": "306c64dc-e9a2-4fb2-c7b6-a9d82847046d"
   },
   "outputs": [
    {
     "name": "stdout",
     "output_type": "stream",
     "text": [
      "[[8 8 8]\n",
      " [7 7 7]]\n",
      "[0 0 0]\n"
     ]
    }
   ],
   "source": [
    "x = tf.constant([[8, 8, 8], [7, 7, 7]])\n",
    "y1 = tf.argmax(x)\n",
    "with tf.Session() as sess:\n",
    "    print(sess.run(x))\n",
    "    print(sess.run(y1))"
   ]
  },
  {
   "cell_type": "markdown",
   "metadata": {
    "colab_type": "text",
    "id": "KsdK70m6tbBE"
   },
   "source": [
    "行方向に比較?    \n",
    "[7, 7, 7]の中で一番大きいの。\n"
   ]
  },
  {
   "cell_type": "code",
   "execution_count": 46,
   "metadata": {
    "colab": {
     "autoexec": {
      "startup": false,
      "wait_interval": 0
     },
     "base_uri": "https://localhost:8080/",
     "height": 67
    },
    "colab_type": "code",
    "executionInfo": {
     "elapsed": 496,
     "status": "ok",
     "timestamp": 1525413142414,
     "user": {
      "displayName": "宮本圭一郎",
      "photoUrl": "//lh5.googleusercontent.com/-5BLtx8oPSy8/AAAAAAAAAAI/AAAAAAAALtI/-tIwIsmAvCs/s50-c-k-no/photo.jpg",
      "userId": "100227668169464343249"
     },
     "user_tz": -540
    },
    "id": "B-hEXtPXtUWs",
    "outputId": "28e00a0a-ddac-4b04-f7d0-67dc8714f822"
   },
   "outputs": [
    {
     "name": "stdout",
     "output_type": "stream",
     "text": [
      "[[7 7 7]\n",
      " [8 8 8]]\n",
      "[0 0]\n"
     ]
    }
   ],
   "source": [
    "x = tf.constant([[7, 7, 7], [8, 8, 8]])\n",
    "y1 = tf.argmax(x, 1)\n",
    "with tf.Session() as sess:\n",
    "    print(sess.run(x))\n",
    "    print(sess.run(y1))"
   ]
  },
  {
   "cell_type": "code",
   "execution_count": 48,
   "metadata": {
    "colab": {
     "autoexec": {
      "startup": false,
      "wait_interval": 0
     },
     "base_uri": "https://localhost:8080/",
     "height": 84
    },
    "colab_type": "code",
    "executionInfo": {
     "elapsed": 582,
     "status": "ok",
     "timestamp": 1525413225015,
     "user": {
      "displayName": "宮本圭一郎",
      "photoUrl": "//lh5.googleusercontent.com/-5BLtx8oPSy8/AAAAAAAAAAI/AAAAAAAALtI/-tIwIsmAvCs/s50-c-k-no/photo.jpg",
      "userId": "100227668169464343249"
     },
     "user_tz": -540
    },
    "id": "aPNLUwPptd7v",
    "outputId": "d1620bfc-bd18-4d79-9fb9-5f1ece0d624d"
   },
   "outputs": [
    {
     "name": "stdout",
     "output_type": "stream",
     "text": [
      "[[1 2 3]\n",
      " [1 3 2]\n",
      " [3 2 1]]\n",
      "[2 1 0]\n"
     ]
    }
   ],
   "source": [
    "x = tf.constant([[1, 2, 3], [1,3,2], [3, 2, 1]])\n",
    "y1 = tf.argmax(x, 1)\n",
    "with tf.Session() as sess:\n",
    "    print(sess.run(x))\n",
    "    print(sess.run(y1))"
   ]
  },
  {
   "cell_type": "markdown",
   "metadata": {
    "colab_type": "text",
    "id": "TQ9e5C6nrmOR"
   },
   "source": [
    "## tf.argmin"
   ]
  },
  {
   "cell_type": "code",
   "execution_count": 41,
   "metadata": {
    "colab": {
     "autoexec": {
      "startup": false,
      "wait_interval": 0
     },
     "base_uri": "https://localhost:8080/",
     "height": 101
    },
    "colab_type": "code",
    "executionInfo": {
     "elapsed": 572,
     "status": "ok",
     "timestamp": 1525412700935,
     "user": {
      "displayName": "宮本圭一郎",
      "photoUrl": "//lh5.googleusercontent.com/-5BLtx8oPSy8/AAAAAAAAAAI/AAAAAAAALtI/-tIwIsmAvCs/s50-c-k-no/photo.jpg",
      "userId": "100227668169464343249"
     },
     "user_tz": -540
    },
    "id": "2Xhyl4qmquKZ",
    "outputId": "fa7d9507-2d5c-44d7-802a-e9ae240e7b72"
   },
   "outputs": [
    {
     "name": "stdout",
     "output_type": "stream",
     "text": [
      "[[1 2 3]\n",
      " [4 5 6]]\n",
      "[0 0 0]\n",
      "[0 0 0]\n",
      "[0 0]\n"
     ]
    }
   ],
   "source": [
    "x = tf.constant([[1, 2, 3], [4, 5, 6]])\n",
    "y1 = tf.argmin(x)\n",
    "y2 = tf.argmin(x, 0)\n",
    "y3 = tf.argmin(x, 1)\n",
    "with tf.Session() as sess:\n",
    "    print(sess.run(x))\n",
    "    print(sess.run(y1))\n",
    "    print(sess.run(y2))\n",
    "    print(sess.run(y3))"
   ]
  },
  {
   "cell_type": "code",
   "execution_count": 0,
   "metadata": {
    "colab": {
     "autoexec": {
      "startup": false,
      "wait_interval": 0
     }
    },
    "colab_type": "code",
    "id": "NjvQuGHxrqAq"
   },
   "outputs": [],
   "source": []
  },
  {
   "cell_type": "markdown",
   "metadata": {
    "colab_type": "text",
    "id": "NoAqrGqQuh-2"
   },
   "source": [
    "## tf.cast"
   ]
  },
  {
   "cell_type": "code",
   "execution_count": 51,
   "metadata": {
    "colab": {
     "autoexec": {
      "startup": false,
      "wait_interval": 0
     },
     "base_uri": "https://localhost:8080/",
     "height": 51
    },
    "colab_type": "code",
    "executionInfo": {
     "elapsed": 1937,
     "status": "ok",
     "timestamp": 1525413530164,
     "user": {
      "displayName": "宮本圭一郎",
      "photoUrl": "//lh5.googleusercontent.com/-5BLtx8oPSy8/AAAAAAAAAAI/AAAAAAAALtI/-tIwIsmAvCs/s50-c-k-no/photo.jpg",
      "userId": "100227668169464343249"
     },
     "user_tz": -540
    },
    "id": "4S1UDNAeuiup",
    "outputId": "74817ff6-fa4b-4df1-83bc-79d00d5821a8"
   },
   "outputs": [
    {
     "name": "stdout",
     "output_type": "stream",
     "text": [
      "float32\n",
      "int32\n"
     ]
    }
   ],
   "source": [
    "x = tf.constant([1.8, 2.2], dtype=tf.float32)\n",
    "y = tf.cast(x, tf.int32)  # [1, 2], dtype=tf.int32\n",
    "with tf.Session() as sess:\n",
    "    print(sess.run(x).dtype)\n",
    "    print(sess.run(y).dtype)"
   ]
  },
  {
   "cell_type": "code",
   "execution_count": 0,
   "metadata": {
    "colab": {
     "autoexec": {
      "startup": false,
      "wait_interval": 0
     }
    },
    "colab_type": "code",
    "id": "YXNhGjt5utiq"
   },
   "outputs": [],
   "source": []
  }
 ],
 "metadata": {
  "accelerator": "GPU",
  "colab": {
   "collapsed_sections": [],
   "default_view": {},
   "name": "算術記号とTensorFlow関数の対応.ipynb",
   "provenance": [],
   "version": "0.3.2",
   "views": {}
  },
  "kernelspec": {
   "display_name": "Python 3",
   "language": "python",
   "name": "python3"
  },
  "language_info": {
   "codemirror_mode": {
    "name": "ipython",
    "version": 3
   },
   "file_extension": ".py",
   "mimetype": "text/x-python",
   "name": "python",
   "nbconvert_exporter": "python",
   "pygments_lexer": "ipython3",
   "version": "3.5.5"
  }
 },
 "nbformat": 4,
 "nbformat_minor": 1
}
