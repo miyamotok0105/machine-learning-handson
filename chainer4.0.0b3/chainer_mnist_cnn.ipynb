{
  "nbformat": 4,
  "nbformat_minor": 0,
  "metadata": {
    "colab": {
      "name": "chainer_mnist_cnn.ipynb",
      "version": "0.3.2",
      "views": {},
      "default_view": {},
      "provenance": [],
      "collapsed_sections": []
    },
    "kernelspec": {
      "name": "python3",
      "display_name": "Python 3"
    },
    "accelerator": "GPU"
  },
  "cells": [
    {
      "metadata": {
        "id": "lWfvcr3PLNQo",
        "colab_type": "code",
        "colab": {
          "autoexec": {
            "startup": false,
            "wait_interval": 0
          },
          "output_extras": [
            {
              "item_id": 3
            }
          ],
          "base_uri": "https://localhost:8080/",
          "height": 276
        },
        "outputId": "75d756b4-b7af-47c2-fad7-dc9eb8379e02",
        "executionInfo": {
          "status": "ok",
          "timestamp": 1520521248565,
          "user_tz": -540,
          "elapsed": 129492,
          "user": {
            "displayName": "宮本圭一郎",
            "photoUrl": "https://lh3.googleusercontent.com/a/default-user=s128",
            "userId": "100227668169464343249"
          }
        }
      },
      "cell_type": "code",
      "source": [
        "!apt-get -qq -y install libcusparse8.0 libnvrtc8.0 libnvtoolsext1 > /dev/null\n",
        "!ln -snf /usr/lib/x86_64-linux-gnu/libnvrtc-builtins.so.8.0 /usr/lib/x86_64-linux-gnu/libnvrtc-builtins.so\n",
        "!pip -q install https://github.com/kmaehashi/chainer-colab/releases/download/2018-02-06/cupy_cuda80-4.0.0b3-cp36-cp36m-linux_x86_64.whl\n",
        "!pip -q install 'chainer==4.0.0b3'\n",
        "!apt-get -qq -y install xvfb freeglut3-dev ffmpeg> /dev/null\n",
        "!pip -q install chainerrl\n",
        "!pip -q install gym\n",
        "!pip -q install pyglet\n",
        "!pip -q install pyopengl\n",
        "!pip -q install pyvirtualdisplay\n",
        "!pip install scikit-image"
      ],
      "execution_count": 1,
      "outputs": [
        {
          "output_type": "stream",
          "text": [
            "Extracting templates from packages: 100%\n",
            "Requirement already satisfied: scikit-image in /usr/local/lib/python3.6/dist-packages\n",
            "Requirement already satisfied: matplotlib>=1.3.1 in /usr/local/lib/python3.6/dist-packages (from scikit-image)\n",
            "Requirement already satisfied: pillow>=2.1.0 in /usr/local/lib/python3.6/dist-packages (from scikit-image)\n",
            "Requirement already satisfied: scipy>=0.17.0 in /usr/local/lib/python3.6/dist-packages (from scikit-image)\n",
            "Requirement already satisfied: six>=1.7.3 in /usr/local/lib/python3.6/dist-packages (from scikit-image)\n",
            "Requirement already satisfied: networkx>=1.8 in /usr/local/lib/python3.6/dist-packages (from scikit-image)\n",
            "Requirement already satisfied: PyWavelets>=0.4.0 in /usr/local/lib/python3.6/dist-packages (from scikit-image)\n",
            "Requirement already satisfied: pyparsing!=2.0.4,!=2.1.2,!=2.1.6,>=2.0.1 in /usr/local/lib/python3.6/dist-packages (from matplotlib>=1.3.1->scikit-image)\n",
            "Requirement already satisfied: python-dateutil>=2.1 in /usr/local/lib/python3.6/dist-packages (from matplotlib>=1.3.1->scikit-image)\n",
            "Requirement already satisfied: numpy>=1.7.1 in /usr/local/lib/python3.6/dist-packages (from matplotlib>=1.3.1->scikit-image)\n",
            "Requirement already satisfied: cycler>=0.10 in /usr/local/lib/python3.6/dist-packages (from matplotlib>=1.3.1->scikit-image)\n",
            "Requirement already satisfied: pytz in /usr/local/lib/python3.6/dist-packages (from matplotlib>=1.3.1->scikit-image)\n",
            "Requirement already satisfied: olefile in /usr/local/lib/python3.6/dist-packages (from pillow>=2.1.0->scikit-image)\n",
            "Requirement already satisfied: decorator>=4.1.0 in /usr/local/lib/python3.6/dist-packages (from networkx>=1.8->scikit-image)\n"
          ],
          "name": "stdout"
        }
      ]
    },
    {
      "metadata": {
        "id": "O2n5-VuzMvEN",
        "colab_type": "code",
        "colab": {
          "autoexec": {
            "startup": false,
            "wait_interval": 0
          }
        }
      },
      "cell_type": "code",
      "source": [
        "# !wget https://www.dropbox.com/s/ak394rqfx00r4cr/facades.zip\n",
        "# !unzip facades.zip"
      ],
      "execution_count": 0,
      "outputs": []
    },
    {
      "metadata": {
        "id": "PruMfoHwMvqX",
        "colab_type": "code",
        "colab": {
          "autoexec": {
            "startup": false,
            "wait_interval": 0
          }
        }
      },
      "cell_type": "code",
      "source": [
        "from __future__ import print_function\n",
        "import os\n",
        "import argparse\n",
        "from os.path import join\n",
        "import numpy as np\n",
        "from os import listdir\n",
        "from os.path import join\n",
        "from scipy.misc import imread, imresize, imsave\n",
        "\n",
        "import chainer\n",
        "import chainer.links as L\n",
        "from chainer import cuda\n",
        "import chainer.functions as F\n",
        "from chainer import training\n",
        "from chainer.training import extensions\n",
        "from chainer import serializers\n",
        "from chainer.utils import force_array\n",
        "from chainer import optimizers, cuda, serializers\n",
        "from chainer import Variable\n",
        "from chainer.dataset import dataset_mixin"
      ],
      "execution_count": 0,
      "outputs": []
    },
    {
      "metadata": {
        "id": "s_CRs66ePzF7",
        "colab_type": "text"
      },
      "cell_type": "markdown",
      "source": [
        "chainerの元からついてるmnistのデータの形にも注意。普通の画像の形にはなってない。"
      ]
    },
    {
      "metadata": {
        "id": "ukRkljTRrXQG",
        "colab_type": "code",
        "colab": {
          "autoexec": {
            "startup": false,
            "wait_interval": 0
          }
        }
      },
      "cell_type": "code",
      "source": [
        "class MLP(chainer.Chain):\n",
        "\n",
        "    def __init__(self, n_units, n_out):\n",
        "        super(MLP, self).__init__()\n",
        "        with self.init_scope():\n",
        "            self.l1 = L.Linear(None, n_units)  # n_in -> n_units\n",
        "            self.l2 = L.Linear(None, n_units)  # n_units -> n_units\n",
        "            self.l3 = L.Linear(None, n_out)  # n_units -> n_out\n",
        "\n",
        "    def __call__(self, x, t):\n",
        "        h1 = F.relu(self.l1(x))\n",
        "        h2 = F.relu(self.l2(h1))\n",
        "        return F.softmax_cross_entropy(self.l3(h2), t)\n",
        "      \n",
        "    def predict(self, x):\n",
        "        h1 = F.relu(self.l1(x))\n",
        "        h2 = F.relu(self.l2(h1))\n",
        "        return F.softmax(self.l3(h2))"
      ],
      "execution_count": 0,
      "outputs": []
    },
    {
      "metadata": {
        "id": "y_dnFpIIMz6k",
        "colab_type": "code",
        "colab": {
          "autoexec": {
            "startup": false,
            "wait_interval": 0
          }
        }
      },
      "cell_type": "code",
      "source": [
        "def main1():\n",
        "    batch_size = 128\n",
        "    num_classes = 10\n",
        "    epochs = 1\n",
        "    chanel = 1\n",
        "    val_interval = (10 if False else 100000), 'iteration'\n",
        "    log_interval = (10 if False else 1000), 'iteration'\n",
        "    print(type(val_interval))\n",
        "    # x_train, x_test = chainer.datasets.get_mnist(dtype=cuda.cupy)\n",
        "    x_train, x_test = chainer.datasets.get_mnist()\n",
        "    train_iter = chainer.iterators.SerialIterator(x_train, batch_size)\n",
        "    test_iter = chainer.iterators.SerialIterator(x_test, batch_size,\n",
        "                                                     repeat=False, shuffle=False)\n",
        "    chainer.cuda.get_device_from_id(0).use()\n",
        "    \n",
        "    #モデル作成\n",
        "    mlp_model = MLP(chanel, num_classes)\n",
        "    mlp_model.to_gpu()\n",
        "\n",
        "    optimizer = chainer.optimizers.Adam(alpha=0.0002, beta1=0.5)\n",
        "    optimizer.setup(mlp_model)\n",
        "\n",
        "    updater = training.StandardUpdater(train_iter, optimizer, device=0)\n",
        "    trainer = training.Trainer(updater, (epochs, 'epoch'), \"./\")\n",
        "    trainer.extend(extensions.PrintReport([\n",
        "        'epoch', 'iteration', 'main/loss', 'validation/main/loss',\n",
        "        'main/accuracy', 'validation/main/accuracy', 'lr'\n",
        "    ]), trigger=log_interval)\n",
        "    trainer.extend(extensions.ProgressBar(update_interval=10))\n",
        "    trainer.run()\n",
        "    \n",
        "    #予測\n",
        "    xp = cuda.cupy\n",
        "    for x_train_ in train_iter:\n",
        "      print(x_train_[0][0].shape)\n",
        "      x = x_train_[0][0].reshape(784, 1).transpose(1, 0)\n",
        "      print(mlp_model.predict(xp.asarray(x)))\n",
        "      break\n"
      ],
      "execution_count": 0,
      "outputs": []
    },
    {
      "metadata": {
        "id": "ZaKJdH-q4GT_",
        "colab_type": "code",
        "colab": {
          "autoexec": {
            "startup": false,
            "wait_interval": 0
          },
          "output_extras": [
            {
              "item_id": 5
            },
            {
              "item_id": 10
            }
          ],
          "base_uri": "https://localhost:8080/",
          "height": 3264
        },
        "outputId": "e25a69a1-6f57-47d0-d148-a2e0be3f8aac",
        "executionInfo": {
          "status": "ok",
          "timestamp": 1520470805192,
          "user_tz": -540,
          "elapsed": 3934,
          "user": {
            "displayName": "宮本圭一郎",
            "photoUrl": "https://lh3.googleusercontent.com/a/default-user=s128",
            "userId": "100227668169464343249"
          }
        }
      },
      "cell_type": "code",
      "source": [
        "if __name__ == '__main__':\n",
        "    main1()"
      ],
      "execution_count": 11,
      "outputs": [
        {
          "output_type": "stream",
          "text": [
            "<class 'tuple'>\n",
            "\u001b[J     total [#.................................................]  2.13%\n",
            "this epoch [#.................................................]  2.13%\n",
            "        10 iter, 0 epoch / 1 epochs\n",
            "       inf iters/sec. Estimated time to finish: 0:00:00.\n",
            "\u001b[4A\u001b[J     total [##................................................]  4.27%\n",
            "this epoch [##................................................]  4.27%\n",
            "        20 iter, 0 epoch / 1 epochs\n",
            "     174.8 iters/sec. Estimated time to finish: 0:00:02.567169.\n",
            "\u001b[4A\u001b[J     total [###...............................................]  6.40%\n",
            "this epoch [###...............................................]  6.40%\n",
            "        30 iter, 0 epoch / 1 epochs\n",
            "    182.07 iters/sec. Estimated time to finish: 0:00:02.409828.\n",
            "\u001b[4A\u001b[J     total [####..............................................]  8.53%\n",
            "this epoch [####..............................................]  8.53%\n",
            "        40 iter, 0 epoch / 1 epochs\n",
            "    183.55 iters/sec. Estimated time to finish: 0:00:02.335895.\n",
            "\u001b[4A\u001b[J     total [#####.............................................] 10.67%\n",
            "this epoch [#####.............................................] 10.67%\n",
            "        50 iter, 0 epoch / 1 epochs\n",
            "    183.59 iters/sec. Estimated time to finish: 0:00:02.280916.\n",
            "\u001b[4A\u001b[J     total [######............................................] 12.80%\n",
            "this epoch [######............................................] 12.80%\n",
            "        60 iter, 0 epoch / 1 epochs\n",
            "    183.75 iters/sec. Estimated time to finish: 0:00:02.224515.\n",
            "\u001b[4A\u001b[J     total [#######...........................................] 14.93%\n",
            "this epoch [#######...........................................] 14.93%\n",
            "        70 iter, 0 epoch / 1 epochs\n",
            "    184.26 iters/sec. Estimated time to finish: 0:00:02.164078.\n",
            "\u001b[4A\u001b[J     total [########..........................................] 17.07%\n",
            "this epoch [########..........................................] 17.07%\n",
            "        80 iter, 0 epoch / 1 epochs\n",
            "    184.43 iters/sec. Estimated time to finish: 0:00:02.107818.\n",
            "\u001b[4A\u001b[J     total [#########.........................................] 19.20%\n",
            "this epoch [#########.........................................] 19.20%\n",
            "        90 iter, 0 epoch / 1 epochs\n",
            "    183.06 iters/sec. Estimated time to finish: 0:00:02.069000.\n",
            "\u001b[4A\u001b[J     total [##########........................................] 21.33%\n",
            "this epoch [##########........................................] 21.33%\n",
            "       100 iter, 0 epoch / 1 epochs\n",
            "    184.05 iters/sec. Estimated time to finish: 0:00:02.003577.\n",
            "\u001b[4A\u001b[J     total [###########.......................................] 23.47%\n",
            "this epoch [###########.......................................] 23.47%\n",
            "       110 iter, 0 epoch / 1 epochs\n",
            "    184.26 iters/sec. Estimated time to finish: 0:00:01.946957.\n",
            "\u001b[4A\u001b[J     total [############......................................] 25.60%\n",
            "this epoch [############......................................] 25.60%\n",
            "       120 iter, 0 epoch / 1 epochs\n",
            "    184.21 iters/sec. Estimated time to finish: 0:00:01.893263.\n",
            "\u001b[4A\u001b[J     total [#############.....................................] 27.73%\n",
            "this epoch [#############.....................................] 27.73%\n",
            "       130 iter, 0 epoch / 1 epochs\n",
            "    184.44 iters/sec. Estimated time to finish: 0:00:01.836593.\n",
            "\u001b[4A\u001b[J     total [##############....................................] 29.87%\n",
            "this epoch [##############....................................] 29.87%\n",
            "       140 iter, 0 epoch / 1 epochs\n",
            "    184.85 iters/sec. Estimated time to finish: 0:00:01.778460.\n",
            "\u001b[4A\u001b[J     total [################..................................] 32.00%\n",
            "this epoch [################..................................] 32.00%\n",
            "       150 iter, 0 epoch / 1 epochs\n",
            "     184.4 iters/sec. Estimated time to finish: 0:00:01.728581.\n",
            "\u001b[4A\u001b[J     total [#################.................................] 34.13%\n",
            "this epoch [#################.................................] 34.13%\n",
            "       160 iter, 0 epoch / 1 epochs\n",
            "    183.99 iters/sec. Estimated time to finish: 0:00:01.678042.\n",
            "\u001b[4A\u001b[J     total [##################................................] 36.27%\n",
            "this epoch [##################................................] 36.27%\n",
            "       170 iter, 0 epoch / 1 epochs\n",
            "     183.9 iters/sec. Estimated time to finish: 0:00:01.624540.\n",
            "\u001b[4A\u001b[J     total [###################...............................] 38.40%\n",
            "this epoch [###################...............................] 38.40%\n",
            "       180 iter, 0 epoch / 1 epochs\n",
            "    184.14 iters/sec. Estimated time to finish: 0:00:01.568139.\n",
            "\u001b[4A\u001b[J     total [####################..............................] 40.53%\n",
            "this epoch [####################..............................] 40.53%\n",
            "       190 iter, 0 epoch / 1 epochs\n",
            "    184.25 iters/sec. Estimated time to finish: 0:00:01.512858.\n",
            "\u001b[4A\u001b[J     total [#####################.............................] 42.67%\n",
            "this epoch [#####################.............................] 42.67%\n",
            "       200 iter, 0 epoch / 1 epochs\n",
            "    184.47 iters/sec. Estimated time to finish: 0:00:01.456888.\n",
            "\u001b[4A\u001b[J     total [######################............................] 44.80%\n",
            "this epoch [######################............................] 44.80%\n",
            "       210 iter, 0 epoch / 1 epochs\n",
            "     184.5 iters/sec. Estimated time to finish: 0:00:01.402426.\n",
            "\u001b[4A\u001b[J     total [#######################...........................] 46.93%\n",
            "this epoch [#######################...........................] 46.93%\n",
            "       220 iter, 0 epoch / 1 epochs\n",
            "    183.26 iters/sec. Estimated time to finish: 0:00:01.357353.\n",
            "\u001b[4A\u001b[J     total [########################..........................] 49.07%\n",
            "this epoch [########################..........................] 49.07%\n",
            "       230 iter, 0 epoch / 1 epochs\n",
            "    183.33 iters/sec. Estimated time to finish: 0:00:01.302263.\n",
            "\u001b[4A\u001b[J     total [#########################.........................] 51.20%\n",
            "this epoch [#########################.........................] 51.20%\n",
            "       240 iter, 0 epoch / 1 epochs\n",
            "    183.36 iters/sec. Estimated time to finish: 0:00:01.247551.\n",
            "\u001b[4A\u001b[J     total [##########################........................] 53.33%\n",
            "this epoch [##########################........................] 53.33%\n",
            "       250 iter, 0 epoch / 1 epochs\n",
            "    183.51 iters/sec. Estimated time to finish: 0:00:01.192003.\n",
            "\u001b[4A\u001b[J     total [###########################.......................] 55.47%\n",
            "this epoch [###########################.......................] 55.47%\n",
            "       260 iter, 0 epoch / 1 epochs\n",
            "    183.54 iters/sec. Estimated time to finish: 0:00:01.137368.\n",
            "\u001b[4A\u001b[J     total [############################......................] 57.60%\n",
            "this epoch [############################......................] 57.60%\n",
            "       270 iter, 0 epoch / 1 epochs\n",
            "    183.43 iters/sec. Estimated time to finish: 0:00:01.083492.\n",
            "\u001b[4A"
          ],
          "name": "stdout"
        },
        {
          "output_type": "stream",
          "text": [
            "\u001b[J     total [#############################.....................] 59.73%\n",
            "this epoch [#############################.....................] 59.73%\n",
            "       280 iter, 0 epoch / 1 epochs\n",
            "    182.96 iters/sec. Estimated time to finish: 0:00:01.031643.\n",
            "\u001b[4A\u001b[J     total [##############################....................] 61.87%\n",
            "this epoch [##############################....................] 61.87%\n",
            "       290 iter, 0 epoch / 1 epochs\n",
            "     183.1 iters/sec. Estimated time to finish: 0:00:00.976230.\n",
            "\u001b[4A\u001b[J     total [################################..................] 64.00%\n",
            "this epoch [################################..................] 64.00%\n",
            "       300 iter, 0 epoch / 1 epochs\n",
            "    183.18 iters/sec. Estimated time to finish: 0:00:00.921225.\n",
            "\u001b[4A\u001b[J     total [#################################.................] 66.13%\n",
            "this epoch [#################################.................] 66.13%\n",
            "       310 iter, 0 epoch / 1 epochs\n",
            "    183.43 iters/sec. Estimated time to finish: 0:00:00.865440.\n",
            "\u001b[4A\u001b[J     total [##################################................] 68.27%\n",
            "this epoch [##################################................] 68.27%\n",
            "       320 iter, 0 epoch / 1 epochs\n",
            "    183.36 iters/sec. Estimated time to finish: 0:00:00.811229.\n",
            "\u001b[4A\u001b[J     total [###################################...............] 70.40%\n",
            "this epoch [###################################...............] 70.40%\n",
            "       330 iter, 0 epoch / 1 epochs\n",
            "    182.94 iters/sec. Estimated time to finish: 0:00:00.758437.\n",
            "\u001b[4A\u001b[J     total [####################################..............] 72.53%\n",
            "this epoch [####################################..............] 72.53%\n",
            "       340 iter, 0 epoch / 1 epochs\n",
            "    183.07 iters/sec. Estimated time to finish: 0:00:00.703293.\n",
            "\u001b[4A\u001b[J     total [#####################################.............] 74.67%\n",
            "this epoch [#####################################.............] 74.67%\n",
            "       350 iter, 0 epoch / 1 epochs\n",
            "    183.13 iters/sec. Estimated time to finish: 0:00:00.648430.\n",
            "\u001b[4A\u001b[J     total [######################################............] 76.80%\n",
            "this epoch [######################################............] 76.80%\n",
            "       360 iter, 0 epoch / 1 epochs\n",
            "    183.36 iters/sec. Estimated time to finish: 0:00:00.593107.\n",
            "\u001b[4A\u001b[J     total [#######################################...........] 78.93%\n",
            "this epoch [#######################################...........] 78.93%\n",
            "       370 iter, 0 epoch / 1 epochs\n",
            "    182.95 iters/sec. Estimated time to finish: 0:00:00.539780.\n",
            "\u001b[4A\u001b[J     total [########################################..........] 81.07%\n",
            "this epoch [########################################..........] 81.07%\n",
            "       380 iter, 0 epoch / 1 epochs\n",
            "    183.06 iters/sec. Estimated time to finish: 0:00:00.484821.\n",
            "\u001b[4A\u001b[J     total [#########################################.........] 83.20%\n",
            "this epoch [#########################################.........] 83.20%\n",
            "       390 iter, 0 epoch / 1 epochs\n",
            "    183.14 iters/sec. Estimated time to finish: 0:00:00.430003.\n",
            "\u001b[4A\u001b[J     total [##########################################........] 85.33%\n",
            "this epoch [##########################################........] 85.33%\n",
            "       400 iter, 0 epoch / 1 epochs\n",
            "    183.22 iters/sec. Estimated time to finish: 0:00:00.375225.\n",
            "\u001b[4A\u001b[J     total [###########################################.......] 87.47%\n",
            "this epoch [###########################################.......] 87.47%\n",
            "       410 iter, 0 epoch / 1 epochs\n",
            "    183.33 iters/sec. Estimated time to finish: 0:00:00.320454.\n",
            "\u001b[4A\u001b[J     total [############################################......] 89.60%\n",
            "this epoch [############################################......] 89.60%\n",
            "       420 iter, 0 epoch / 1 epochs\n",
            "    183.05 iters/sec. Estimated time to finish: 0:00:00.266324.\n",
            "\u001b[4A\u001b[J     total [#############################################.....] 91.73%\n",
            "this epoch [#############################################.....] 91.73%\n",
            "       430 iter, 0 epoch / 1 epochs\n",
            "    183.13 iters/sec. Estimated time to finish: 0:00:00.211599.\n",
            "\u001b[4A\u001b[J     total [##############################################....] 93.87%\n",
            "this epoch [##############################################....] 93.87%\n",
            "       440 iter, 0 epoch / 1 epochs\n",
            "    183.16 iters/sec. Estimated time to finish: 0:00:00.156966.\n",
            "\u001b[4A\u001b[J     total [################################################..] 96.00%\n",
            "this epoch [################################################..] 96.00%\n",
            "       450 iter, 0 epoch / 1 epochs\n",
            "    183.18 iters/sec. Estimated time to finish: 0:00:00.102357.\n",
            "\u001b[4A\u001b[J     total [#################################################.] 98.13%\n",
            "this epoch [#################################################.] 98.13%\n",
            "       460 iter, 0 epoch / 1 epochs\n",
            "    182.99 iters/sec. Estimated time to finish: 0:00:00.047816.\n",
            "\u001b[4A\u001b[J(784,)\n",
            "variable([[0.09967539 0.10338076 0.09974803 0.10070744 0.09919883\n",
            "           0.09721436 0.0996008  0.10145527 0.09925622 0.09976297]])\n"
          ],
          "name": "stdout"
        }
      ]
    },
    {
      "metadata": {
        "id": "9HdJ3x33PNE4",
        "colab_type": "text"
      },
      "cell_type": "markdown",
      "source": [
        "# sklearnでデータを作成"
      ]
    },
    {
      "metadata": {
        "id": "MZENA8AQPQtK",
        "colab_type": "text"
      },
      "cell_type": "markdown",
      "source": [
        "trainerを使うのであればVariableはつけなくても中でやってくれる。Chainerのtrainerでは(学習データ、正解ラベル)のタプルをリストにしてインテレータに渡す。"
      ]
    },
    {
      "metadata": {
        "id": "HnDTB15-z7aZ",
        "colab_type": "code",
        "colab": {
          "autoexec": {
            "startup": false,
            "wait_interval": 0
          },
          "output_extras": [
            {
              "item_id": 1
            }
          ],
          "base_uri": "https://localhost:8080/",
          "height": 72
        },
        "outputId": "8570a621-9fcc-445b-d282-7abd4b70066a",
        "executionInfo": {
          "status": "ok",
          "timestamp": 1520521681510,
          "user_tz": -540,
          "elapsed": 591,
          "user": {
            "displayName": "宮本圭一郎",
            "photoUrl": "https://lh3.googleusercontent.com/a/default-user=s128",
            "userId": "100227668169464343249"
          }
        }
      },
      "cell_type": "code",
      "source": [
        "from sklearn import datasets, model_selection, svm, metrics\n",
        "from sklearn.cross_validation import train_test_split\n",
        "mnist = datasets.fetch_mldata('MNIST original', data_home='./')"
      ],
      "execution_count": 7,
      "outputs": [
        {
          "output_type": "stream",
          "text": [
            "/usr/local/lib/python3.6/dist-packages/sklearn/cross_validation.py:41: DeprecationWarning: This module was deprecated in version 0.18 in favor of the model_selection module into which all the refactored classes and functions are moved. Also note that the interface of the new CV iterators are different from that of this module. This module will be removed in 0.20.\n",
            "  \"This module will be removed in 0.20.\", DeprecationWarning)\n"
          ],
          "name": "stderr"
        }
      ]
    },
    {
      "metadata": {
        "id": "kyZ1jXHbc79a",
        "colab_type": "code",
        "colab": {
          "autoexec": {
            "startup": false,
            "wait_interval": 0
          }
        }
      },
      "cell_type": "code",
      "source": [
        "dataset = np.asarray(mnist.data, np.float32)\n",
        "dataset = dataset /255\n",
        "target = np.asarray(mnist.target, np.int32)\n",
        "data_train, data_test, label_train, label_test = train_test_split(dataset, target, test_size=0.2)\n",
        "data_train = data_train.reshape((len(data_train), 1, 28, 28))\n",
        "data_test = data_test.reshape((len(data_test), 1, 28, 28))\n",
        "\n",
        "x_train = []\n",
        "x_test = []\n",
        "for (train, label) in zip(data_train, label_train):\n",
        "  x_train.append((train,label))\n",
        "for (test, label) in zip(data_test, label_test):\n",
        "  x_test.append((test,label))\n",
        "\n",
        "# print(x_train[0][0].shape)\n",
        "# print(x_train[0][1])"
      ],
      "execution_count": 0,
      "outputs": []
    },
    {
      "metadata": {
        "id": "hfN1Ixh-FOt0",
        "colab_type": "code",
        "colab": {
          "autoexec": {
            "startup": false,
            "wait_interval": 0
          }
        }
      },
      "cell_type": "code",
      "source": [
        "class Cnn(chainer.Chain):\n",
        "    def __init__(self, n_units, n_out):\n",
        "      super(Cnn, self).__init__()\n",
        "      with self.init_scope():\n",
        "        #Convolution2D(self, in_channels, out_channels, ksize=None, stride=1, pad=0, nobias=False, initialW=None, initial_bias=None)\n",
        "        self.conv1 = L.Convolution2D(None, 32, 3)\n",
        "        self.conv2 = L.Convolution2D(None, 32*2, 3)\n",
        "        self.conv3 = L.Convolution2D(None, 32*3, 3)\n",
        "        #ksizeを入れないとエラー\n",
        "#         self.conv1 = L.Convolution2D(None, 64)\n",
        "#         self.conv2 = L.Convolution2D(None, 64 * 2)\n",
        "#         self.conv3 = L.Convolution2D(None, 64 * 3)\n",
        "#         self.loss1_conv = L.Convolution2D(None, 128, 1)\n",
        "        self.loss1_fc1 = L.Linear(None, n_out)\n",
        "\n",
        "    def __call__(self, input_cnn, t):\n",
        "        cnn1 = F.relu(self.conv1(input_cnn))\n",
        "        cnn2 = F.relu(self.conv2(cnn1))\n",
        "        cnn3 = F.relu(self.conv3(cnn2))\n",
        "        fc1 = self.loss1_fc1(cnn3)\n",
        "        loss = F.softmax_cross_entropy(fc1, t)\n",
        "        #accuracy\n",
        "        accuracy = F.accuracy(fc1, t)\n",
        "        chainer.report({\n",
        "            'loss': loss,\n",
        "            'accuracy': accuracy\n",
        "        }, self)\n",
        "        return loss\n",
        "      \n",
        "    def predict(self, input_cnn):\n",
        "        cnn1 = F.relu(self.conv1(input_cnn))\n",
        "        cnn2 = F.relu(self.conv2(cnn1))\n",
        "        cnn3 = F.relu(self.conv3(cnn2))\n",
        "        fc1 = self.loss1_fc1(cnn3)\n",
        "        return F.softmax(fc1)"
      ],
      "execution_count": 0,
      "outputs": []
    },
    {
      "metadata": {
        "id": "2rIY4YECtsPM",
        "colab_type": "code",
        "colab": {
          "autoexec": {
            "startup": false,
            "wait_interval": 0
          }
        }
      },
      "cell_type": "code",
      "source": [
        "def main2():\n",
        "    batch_size = 128\n",
        "    num_classes = 10\n",
        "    epochs = 1\n",
        "    chanel = 1\n",
        "    val_interval = (100 if True else 100000), 'iteration'\n",
        "    log_interval = (100 if True else 1000), 'iteration'\n",
        "    print(type(val_interval))\n",
        "#     x_train, x_test = chainer.datasets.get_mnist(rgb_format=False)\n",
        "    train_iter = chainer.iterators.SerialIterator(x_train, batch_size)\n",
        "    test_iter = chainer.iterators.SerialIterator(x_test, batch_size,\n",
        "                                                     repeat=False, shuffle=False)\n",
        "    chainer.cuda.get_device_from_id(0).use()\n",
        "    for x_train_ in train_iter:\n",
        "      print(x_train_[0][0].shape)\n",
        "      break\n",
        "    \n",
        "    #モデル作成\n",
        "    mlp_model = Cnn(chanel, num_classes)\n",
        "    mlp_model.to_gpu()\n",
        "\n",
        "    optimizer = chainer.optimizers.Adam(alpha=0.0002, beta1=0.5)\n",
        "    optimizer.setup(mlp_model)\n",
        "\n",
        "    updater = training.StandardUpdater(train_iter, optimizer, device=0)\n",
        "    trainer = training.Trainer(updater, (epochs, 'epoch'), \"./\")\n",
        "    trainer.extend(extensions.LogReport(trigger=log_interval))\n",
        "    trainer.extend(extensions.observe_lr(), trigger=log_interval)\n",
        "    trainer.extend(extensions.Evaluator(test_iter, mlp_model, device=0), trigger=val_interval)\n",
        "    trainer.extend(extensions.PrintReport([\n",
        "        'epoch', 'iteration', 'main/loss', 'validation/main/loss',\n",
        "        'main/accuracy', 'validation/main/accuracy', 'lr'\n",
        "    ]), trigger=log_interval)\n",
        "    trainer.extend(extensions.ProgressBar(update_interval=100))\n",
        "    trainer.run()\n",
        "    \n",
        "    #予測\n",
        "    xp = cuda.cupy\n",
        "    for x_train_ in train_iter:\n",
        "      print(x_train_[0][0].shape)\n",
        "      x = x_train_[0][0].reshape(1, 28, 28, 1).transpose(3, 0, 1, 2)\n",
        "      print(mlp_model.predict(xp.asarray(x)))\n",
        "      break\n"
      ],
      "execution_count": 0,
      "outputs": []
    },
    {
      "metadata": {
        "id": "f-XkkeJ4IHPw",
        "colab_type": "code",
        "colab": {
          "autoexec": {
            "startup": false,
            "wait_interval": 0
          },
          "output_extras": [
            {
              "item_id": 7
            }
          ],
          "base_uri": "https://localhost:8080/",
          "height": 483
        },
        "outputId": "240079ec-e1db-4e88-dc5b-918eae112cb5",
        "executionInfo": {
          "status": "ok",
          "timestamp": 1520524518768,
          "user_tz": -540,
          "elapsed": 25062,
          "user": {
            "displayName": "宮本圭一郎",
            "photoUrl": "https://lh3.googleusercontent.com/a/default-user=s128",
            "userId": "100227668169464343249"
          }
        }
      },
      "cell_type": "code",
      "source": [
        "if __name__ == '__main__':\n",
        "    main2()"
      ],
      "execution_count": 55,
      "outputs": [
        {
          "output_type": "stream",
          "text": [
            "<class 'tuple'>\n",
            "(1, 28, 28)\n",
            "epoch       iteration   main/loss   validation/main/loss  main/accuracy  validation/main/accuracy  lr        \n",
            "\u001b[J0           100         0.475861    0.226339              0.866875       0.932315                  6.17115e-05  \n",
            "\u001b[J     total [###########.......................................] 23.09%\n",
            "this epoch [###########.......................................] 23.09%\n",
            "       100 iter, 0 epoch / 1 epochs\n",
            "       inf iters/sec. Estimated time to finish: 0:00:00.\n",
            "\u001b[4A\u001b[J0           200         0.143337    0.10831               0.959063       0.969484                  8.51707e-05  \n",
            "\u001b[J     total [######################............................] 45.94%\n",
            "this epoch [######################............................] 45.94%\n",
            "       200 iter, 0 epoch / 1 epochs\n",
            "    17.666 iters/sec. Estimated time to finish: 0:00:13.386965.\n",
            "\u001b[4A\u001b[J0           300         0.094525    0.0869222             0.972891       0.974526                  0.000101842  \n",
            "\u001b[J     total [##################################................] 68.80%\n",
            "this epoch [##################################................] 68.80%\n",
            "       300 iter, 0 epoch / 1 epochs\n",
            "    17.667 iters/sec. Estimated time to finish: 0:00:07.726481.\n",
            "\u001b[4A\u001b[J0           400         0.0846741   0.0751699             0.976016       0.976586                  0.000114859  \n",
            "\u001b[J     total [#############################################.....] 91.66%\n",
            "this epoch [#############################################.....] 91.66%\n",
            "       400 iter, 0 epoch / 1 epochs\n",
            "    17.668 iters/sec. Estimated time to finish: 0:00:02.065869.\n",
            "\u001b[4A\u001b[J(1, 28, 28)\n",
            "variable([[1.6517701e-05 1.0725269e-06 1.6690776e-05 9.9648321e-01\n",
            "           7.8016569e-08 3.4704222e-03 7.5327918e-08 4.3650452e-08\n",
            "           1.1074578e-05 8.0134356e-07]])\n"
          ],
          "name": "stdout"
        }
      ]
    },
    {
      "metadata": {
        "id": "W_NPmO8m0tiW",
        "colab_type": "code",
        "colab": {
          "autoexec": {
            "startup": false,
            "wait_interval": 0
          }
        }
      },
      "cell_type": "code",
      "source": [
        ""
      ],
      "execution_count": 0,
      "outputs": []
    },
    {
      "metadata": {
        "id": "GInoMhiaWdUN",
        "colab_type": "text"
      },
      "cell_type": "markdown",
      "source": [
        "カーネルサイズ（受容野）ksizeの変更"
      ]
    },
    {
      "metadata": {
        "id": "uE1YOPFxMz9K",
        "colab_type": "code",
        "colab": {
          "autoexec": {
            "startup": false,
            "wait_interval": 0
          }
        }
      },
      "cell_type": "code",
      "source": [
        "class Cnn2(chainer.Chain):\n",
        "    def __init__(self, n_units, n_out):\n",
        "      super(Cnn2, self).__init__()\n",
        "      with self.init_scope():\n",
        "        #Convolution2D(self, in_channels, out_channels, ksize=None, stride=1, pad=0, nobias=False, initialW=None, initial_bias=None)\n",
        "        self.conv1 = L.Convolution2D(None, 32, 1)\n",
        "        self.conv2 = L.Convolution2D(None, 32*2, 3)\n",
        "        self.conv3 = L.Convolution2D(None, 32*3, 3)\n",
        "        self.loss1_fc1 = L.Linear(None, n_out)\n",
        "\n",
        "    def __call__(self, input_cnn, t):\n",
        "        cnn1 = F.relu(self.conv1(input_cnn))\n",
        "        cnn2 = F.relu(self.conv2(cnn1))\n",
        "        cnn3 = F.relu(self.conv3(cnn2))\n",
        "        fc1 = self.loss1_fc1(cnn3)\n",
        "        loss = F.softmax_cross_entropy(fc1, t)\n",
        "        #accuracy\n",
        "        accuracy = F.accuracy(fc1, t)\n",
        "        chainer.report({\n",
        "            'loss': loss,\n",
        "            'accuracy': accuracy\n",
        "        }, self)\n",
        "        return loss\n",
        "      \n",
        "    def predict(self, input_cnn):\n",
        "        cnn1 = F.relu(self.conv1(input_cnn))\n",
        "        cnn2 = F.relu(self.conv2(cnn1))\n",
        "        cnn3 = F.relu(self.conv3(cnn2))\n",
        "        fc1 = self.loss1_fc1(cnn3)\n",
        "        return F.softmax(fc1)"
      ],
      "execution_count": 0,
      "outputs": []
    },
    {
      "metadata": {
        "id": "LElggkLKVTNP",
        "colab_type": "code",
        "colab": {
          "autoexec": {
            "startup": false,
            "wait_interval": 0
          },
          "output_extras": [
            {
              "item_id": 6
            }
          ],
          "base_uri": "https://localhost:8080/",
          "height": 449
        },
        "outputId": "61ac8587-53b4-41be-bebc-ecd9c9e961e4",
        "executionInfo": {
          "status": "ok",
          "timestamp": 1520524883593,
          "user_tz": -540,
          "elapsed": 28347,
          "user": {
            "displayName": "宮本圭一郎",
            "photoUrl": "https://lh3.googleusercontent.com/a/default-user=s128",
            "userId": "100227668169464343249"
          }
        }
      },
      "cell_type": "code",
      "source": [
        "def main3():\n",
        "    batch_size = 128\n",
        "    num_classes = 10\n",
        "    epochs = 1\n",
        "    chanel = 1\n",
        "    val_interval = (100 if True else 100000), 'iteration'\n",
        "    log_interval = (100 if True else 1000), 'iteration'\n",
        "    train_iter = chainer.iterators.SerialIterator(x_train, batch_size)\n",
        "    test_iter = chainer.iterators.SerialIterator(x_test, batch_size,\n",
        "                                                     repeat=False, shuffle=False)\n",
        "    chainer.cuda.get_device_from_id(0).use()\n",
        "    #モデル作成\n",
        "    mlp_model = Cnn2(chanel, num_classes)\n",
        "    mlp_model.to_gpu()\n",
        "\n",
        "    optimizer = chainer.optimizers.Adam(alpha=0.0002, beta1=0.5)\n",
        "    optimizer.setup(mlp_model)\n",
        "\n",
        "    updater = training.StandardUpdater(train_iter, optimizer, device=0)\n",
        "    trainer = training.Trainer(updater, (epochs, 'epoch'), \"./\")\n",
        "    trainer.extend(extensions.LogReport(trigger=log_interval))\n",
        "    trainer.extend(extensions.observe_lr(), trigger=log_interval)\n",
        "    trainer.extend(extensions.Evaluator(test_iter, mlp_model, device=0), trigger=val_interval)\n",
        "    trainer.extend(extensions.PrintReport([\n",
        "        'epoch', 'iteration', 'main/loss', 'validation/main/loss',\n",
        "        'main/accuracy', 'validation/main/accuracy', 'lr'\n",
        "    ]), trigger=log_interval)\n",
        "    trainer.extend(extensions.ProgressBar(update_interval=100))\n",
        "    trainer.run()\n",
        "    \n",
        "    #予測\n",
        "    xp = cuda.cupy\n",
        "    for x_train_ in train_iter:\n",
        "      print(x_train_[0][0].shape)\n",
        "      x = x_train_[0][0].reshape(1, 28, 28, 1).transpose(3, 0, 1, 2)\n",
        "      print(mlp_model.predict(xp.asarray(x)))\n",
        "      break\n",
        "\n",
        "if __name__ == '__main__':\n",
        "    main3()"
      ],
      "execution_count": 66,
      "outputs": [
        {
          "output_type": "stream",
          "text": [
            "epoch       iteration   main/loss   validation/main/loss  main/accuracy  validation/main/accuracy  lr        \n",
            "\u001b[J0           100         0.423277    0.20837               0.880703       0.94188                   6.17115e-05  \n",
            "\u001b[J     total [###########.......................................] 22.86%\n",
            "this epoch [###########.......................................] 22.86%\n",
            "       100 iter, 0 epoch / 1 epochs\n",
            "       inf iters/sec. Estimated time to finish: 0:00:00.\n",
            "\u001b[4A\u001b[J0           200         0.135527    0.109774              0.959766       0.967945                  8.51707e-05  \n",
            "\u001b[J     total [######################............................] 45.71%\n",
            "this epoch [######################............................] 45.71%\n",
            "       200 iter, 0 epoch / 1 epochs\n",
            "    15.566 iters/sec. Estimated time to finish: 0:00:15.257199.\n",
            "\u001b[4A\u001b[J0           300         0.103145    0.0858165             0.970391       0.975166                  0.000101842  \n",
            "\u001b[J     total [##################################................] 68.57%\n",
            "this epoch [##################################................] 68.57%\n",
            "       300 iter, 0 epoch / 1 epochs\n",
            "    15.552 iters/sec. Estimated time to finish: 0:00:08.841183.\n",
            "\u001b[4A\u001b[J0           400         0.0899592   0.0799771             0.974531       0.975758                  0.000114859  \n",
            "\u001b[J     total [#############################################.....] 91.43%\n",
            "this epoch [#############################################.....] 91.43%\n",
            "       400 iter, 0 epoch / 1 epochs\n",
            "    15.553 iters/sec. Estimated time to finish: 0:00:02.411173.\n",
            "\u001b[4A\u001b[J(1, 28, 28)\n",
            "variable([[9.9946684e-01 7.2374640e-09 3.2854849e-05 5.8969880e-07\n",
            "           3.5786590e-07 2.9486108e-07 5.0216858e-07 1.8154686e-04\n",
            "           2.6752675e-04 4.9510843e-05]])\n"
          ],
          "name": "stdout"
        }
      ]
    },
    {
      "metadata": {
        "id": "ikP2ctPsVTRy",
        "colab_type": "code",
        "colab": {
          "autoexec": {
            "startup": false,
            "wait_interval": 0
          }
        }
      },
      "cell_type": "code",
      "source": [
        ""
      ],
      "execution_count": 0,
      "outputs": []
    },
    {
      "metadata": {
        "id": "PW2Phy3xad7U",
        "colab_type": "text"
      },
      "cell_type": "markdown",
      "source": [
        "# VGG"
      ]
    },
    {
      "metadata": {
        "id": "sIJsQepcfj6h",
        "colab_type": "text"
      },
      "cell_type": "markdown",
      "source": [
        "VGG64をmnistに適応しようと思ったらpaddingを入れまくらないとプーリングできない。結果的に発散して全然うまくいかない。224 × 224*3のデータのスケールにすごい最適化されてるんじゃないのかな？なので全体的にスケールを小さくモデルを作ればいいのでは。"
      ]
    },
    {
      "metadata": {
        "id": "W8_nxUowaf7j",
        "colab_type": "code",
        "colab": {
          "autoexec": {
            "startup": false,
            "wait_interval": 0
          }
        }
      },
      "cell_type": "code",
      "source": [
        "#https://arxiv.org/pdf/1409.1556.pdf\n",
        "#これの真似。\n",
        "class VGG64(chainer.Chain):\n",
        "    def __init__(self, n_units, n_out):\n",
        "      super(VGG64, self).__init__()\n",
        "      with self.init_scope():\n",
        "        #Convolution2D(self, in_channels, out_channels, ksize=None, stride=1, pad=0, nobias=False, initialW=None, initial_bias=None)\n",
        "        self.conv1 = L.Convolution2D(None, 64, 3)\n",
        "        self.conv2 = L.Convolution2D(None, 128, 3)\n",
        "        self.conv3 = L.Convolution2D(None, 256, 3)\n",
        "        self.conv4 = L.Convolution2D(None, 256, 3)\n",
        "        self.conv5 = L.Convolution2D(None, 512, 3)\n",
        "        self.conv6 = L.Convolution2D(None, 512, 3)\n",
        "        self.conv7 = L.Convolution2D(None, 512, 3)\n",
        "        self.conv8 = L.Convolution2D(None, 512, 3)\n",
        "        self.fc1 = L.Linear(None, 256)\n",
        "        self.fc2 = L.Linear(None, 128)\n",
        "        self.fc3 = L.Linear(None, n_out)\n",
        "\n",
        "    def __call__(self, input_cnn, t):\n",
        "        h = self.conv1(input_cnn)\n",
        "        h = F.max_pooling_2d(h, ksize=2, stride=2, pad=2)\n",
        "        h = self.conv2(h)\n",
        "        h = F.max_pooling_2d(h, ksize=2, stride=2, pad=2)\n",
        "#         print(h.shape)\n",
        "        h = self.conv3(h)\n",
        "        h = self.conv4(h)\n",
        "        h = F.max_pooling_2d(h, ksize=2, stride=2, pad=2)\n",
        "#         print(h.shape)\n",
        "        h = self.conv5(h)\n",
        "        h = self.conv6(h)\n",
        "        h = F.max_pooling_2d(h, ksize=2, stride=2, pad=5)\n",
        "        h = self.conv7(h)\n",
        "        h = self.conv8(h)\n",
        "        h = F.max_pooling_2d(h, ksize=2, stride=2, pad=2)\n",
        "        h = self.fc1(h)\n",
        "        h = self.fc2(h)\n",
        "        h = self.fc3(h)\n",
        "        loss = F.softmax_cross_entropy(h, t)\n",
        "        #accuracy\n",
        "        accuracy = F.accuracy(h, t)\n",
        "        chainer.report({\n",
        "            'loss': loss,\n",
        "            'accuracy': accuracy\n",
        "        }, self)\n",
        "        return loss\n",
        "      \n",
        "    def predict(self, input_cnn):\n",
        "        h = self.conv1(input_cnn)\n",
        "        h = F.max_pooling_2d(h, ksize=2, stride=2, pad=2)\n",
        "        h = self.conv2(h)\n",
        "        h = F.max_pooling_2d(h, ksize=2, stride=2, pad=2)\n",
        "#         print(h.shape)\n",
        "        h = self.conv3(h)\n",
        "        h = self.conv4(h)\n",
        "        h = F.max_pooling_2d(h, ksize=2, stride=2, pad=2)\n",
        "#         print(h.shape)\n",
        "        h = self.conv5(h)\n",
        "        h = self.conv6(h)\n",
        "        h = F.max_pooling_2d(h, ksize=2, stride=2, pad=5)\n",
        "        h = self.conv7(h)\n",
        "        h = self.conv8(h)\n",
        "        h = F.max_pooling_2d(h, ksize=2, stride=2, pad=2)\n",
        "        h = self.fc1(h)\n",
        "        h = self.fc2(h)\n",
        "        h = self.fc3(h)\n",
        "        return F.softmax(h)"
      ],
      "execution_count": 0,
      "outputs": []
    },
    {
      "metadata": {
        "id": "RC2ZMvhdagI1",
        "colab_type": "code",
        "colab": {
          "autoexec": {
            "startup": false,
            "wait_interval": 0
          },
          "output_extras": [
            {
              "item_id": 6
            }
          ],
          "base_uri": "https://localhost:8080/",
          "height": 414
        },
        "outputId": "fb5f698d-c16d-407f-8b16-0ef3f2adb593",
        "executionInfo": {
          "status": "ok",
          "timestamp": 1520527337831,
          "user_tz": -540,
          "elapsed": 47056,
          "user": {
            "displayName": "宮本圭一郎",
            "photoUrl": "https://lh3.googleusercontent.com/a/default-user=s128",
            "userId": "100227668169464343249"
          }
        }
      },
      "cell_type": "code",
      "source": [
        "def main3():\n",
        "    batch_size = 128\n",
        "    num_classes = 10\n",
        "    epochs = 1\n",
        "    chanel = 1\n",
        "    val_interval = (100 if True else 100000), 'iteration'\n",
        "    log_interval = (100 if True else 1000), 'iteration'\n",
        "    train_iter = chainer.iterators.SerialIterator(x_train, batch_size)\n",
        "    test_iter = chainer.iterators.SerialIterator(x_test, batch_size,\n",
        "                                                     repeat=False, shuffle=False)\n",
        "    chainer.cuda.get_device_from_id(0).use()\n",
        "    #モデル作成\n",
        "    model = VGG64(chanel, num_classes)\n",
        "    model.to_gpu()\n",
        "\n",
        "    optimizer = chainer.optimizers.Adam(alpha=0.0002, beta1=0.5)\n",
        "    optimizer.setup(model)\n",
        "\n",
        "    updater = training.StandardUpdater(train_iter, optimizer, device=0)\n",
        "    trainer = training.Trainer(updater, (epochs, 'epoch'), \"./\")\n",
        "    trainer.extend(extensions.LogReport(trigger=log_interval))\n",
        "    trainer.extend(extensions.observe_lr(), trigger=log_interval)\n",
        "    trainer.extend(extensions.Evaluator(test_iter, model, device=0), trigger=val_interval)\n",
        "    trainer.extend(extensions.PrintReport([\n",
        "        'epoch', 'iteration', 'main/loss', 'validation/main/loss',\n",
        "        'main/accuracy', 'validation/main/accuracy', 'lr'\n",
        "    ]), trigger=log_interval)\n",
        "    trainer.extend(extensions.ProgressBar(update_interval=100))\n",
        "    trainer.run()\n",
        "    \n",
        "    #予測\n",
        "    xp = cuda.cupy\n",
        "    for x_train_ in train_iter:\n",
        "      print(x_train_[0][0].shape)\n",
        "      x = x_train_[0][0].reshape(1, 28, 28, 1).transpose(3, 0, 1, 2)\n",
        "      print(model.predict(xp.asarray(x)))\n",
        "      break\n",
        "\n",
        "if __name__ == '__main__':\n",
        "    main3()"
      ],
      "execution_count": 88,
      "outputs": [
        {
          "output_type": "stream",
          "text": [
            "epoch       iteration   main/loss   validation/main/loss  main/accuracy  validation/main/accuracy  lr        \n",
            "\u001b[J0           100         nan         nan                   0.095          0.0990294                 6.17115e-05  \n",
            "\u001b[J     total [###########.......................................] 22.86%\n",
            "this epoch [###########.......................................] 22.86%\n",
            "       100 iter, 0 epoch / 1 epochs\n",
            "       inf iters/sec. Estimated time to finish: 0:00:00.\n",
            "\u001b[4A\u001b[J0           200         nan         nan                   0.100938       0.0990294                 8.51707e-05  \n",
            "\u001b[J     total [######################............................] 45.71%\n",
            "this epoch [######################............................] 45.71%\n",
            "       200 iter, 0 epoch / 1 epochs\n",
            "     9.317 iters/sec. Estimated time to finish: 0:00:25.490922.\n",
            "\u001b[4A\u001b[J0           300         nan         nan                   0.0996094      0.0990294                 0.000101842  \n",
            "\u001b[J     total [##################################................] 68.57%\n",
            "this epoch [##################################................] 68.57%\n",
            "       300 iter, 0 epoch / 1 epochs\n",
            "    9.3134 iters/sec. Estimated time to finish: 0:00:14.763600.\n",
            "\u001b[4A\u001b[J0           400         nan         nan                   0.09875        0.0990294                 0.000114859  \n",
            "\u001b[J     total [#############################################.....] 91.43%\n",
            "this epoch [#############################################.....] 91.43%\n",
            "       400 iter, 0 epoch / 1 epochs\n",
            "    9.3149 iters/sec. Estimated time to finish: 0:00:04.025793.\n",
            "\u001b[4A\u001b[J(1, 28, 28)\n",
            "variable([[nan nan nan nan nan nan nan nan nan nan]])\n"
          ],
          "name": "stdout"
        }
      ]
    },
    {
      "metadata": {
        "id": "kO8jRvoEagGs",
        "colab_type": "code",
        "colab": {
          "autoexec": {
            "startup": false,
            "wait_interval": 0
          }
        }
      },
      "cell_type": "code",
      "source": [
        ""
      ],
      "execution_count": 0,
      "outputs": []
    },
    {
      "metadata": {
        "id": "erU5_2d6agD8",
        "colab_type": "code",
        "colab": {
          "autoexec": {
            "startup": false,
            "wait_interval": 0
          }
        }
      },
      "cell_type": "code",
      "source": [
        ""
      ],
      "execution_count": 0,
      "outputs": []
    },
    {
      "metadata": {
        "id": "fWPySCp-agBy",
        "colab_type": "code",
        "colab": {
          "autoexec": {
            "startup": false,
            "wait_interval": 0
          }
        }
      },
      "cell_type": "code",
      "source": [
        ""
      ],
      "execution_count": 0,
      "outputs": []
    },
    {
      "metadata": {
        "id": "PM3Zq2eHaf_z",
        "colab_type": "code",
        "colab": {
          "autoexec": {
            "startup": false,
            "wait_interval": 0
          }
        }
      },
      "cell_type": "code",
      "source": [
        ""
      ],
      "execution_count": 0,
      "outputs": []
    },
    {
      "metadata": {
        "id": "GtSkYIVhMz_r",
        "colab_type": "code",
        "colab": {
          "autoexec": {
            "startup": false,
            "wait_interval": 0
          }
        }
      },
      "cell_type": "code",
      "source": [
        "# class Cnn(chainer.Chain):\n",
        "#     def __init__(self, input_nc, output_nc, ngf):\n",
        "#       super(Cnn, self).__init__()\n",
        "#       with self.init_scope():\n",
        "#         #input_nc=3, output_nc=3\n",
        "#         #ngf=64\n",
        "#         #Convolution2D(self, in_channels, out_channels, ksize=None, stride=1, pad=0, nobias=False, initialW=None, initial_bias=None)\n",
        "#         self.conv1 = L.Convolution2D(input_nc, ngf, 4, 2, 1)\n",
        "#         self.conv2 = L.Convolution2D(ngf, ngf * 2, 4, 2, 1)\n",
        "#         self.conv3 = L.Convolution2D(ngf * 2, ngf * 4, 4, 2, 1)\n",
        "#         self.conv4 = L.Convolution2D(ngf * 4, ngf * 8, 4, 2, 1)\n",
        "#         self.conv5 = L.Convolution2D(ngf * 8, ngf * 8, 4, 2, 1)\n",
        "#         self.conv6 = L.Convolution2D(ngf * 8, ngf * 8, 4, 2, 1)\n",
        "#         self.conv7 = L.Convolution2D(ngf * 8, ngf * 8, 4, 2, 1)\n",
        "#         self.conv8 = L.Convolution2D(ngf * 8, ngf * 8, 4, 2, 1)\n",
        "#         self.batch_norm = L.BatchNormalization(ngf)\n",
        "#         self.batch_norm2 = L.BatchNormalization(ngf * 2)\n",
        "#         self.batch_norm4 = L.BatchNormalization(ngf * 4)\n",
        "#         self.batch_norm8 = L.BatchNormalization(ngf * 8)\n",
        "#         self.dconv1 = L.Deconvolution2D(ngf * 8, ngf * 8, 4, 2, 1)\n",
        "#         self.dconv2 = L.Deconvolution2D(ngf * 8 * 2, ngf * 8, 4, 2, 1)\n",
        "#         self.dconv3 = L.Deconvolution2D(ngf * 8 * 2, ngf * 8, 4, 2, 1)\n",
        "#         self.dconv4 = L.Deconvolution2D(ngf * 8 * 2, ngf * 8, 4, 2, 1)\n",
        "#         self.dconv5 = L.Deconvolution2D(ngf * 8 * 2, ngf * 4, 4, 2, 1)\n",
        "#         self.dconv6 = L.Deconvolution2D(ngf * 4 * 2, ngf * 2, 4, 2, 1)\n",
        "#         self.dconv7 = L.Deconvolution2D(ngf * 2 * 2, ngf, 4, 2, 1)\n",
        "#         self.dconv8 = L.Deconvolution2D(ngf * 2, output_nc, 4, 2, 1)\n",
        "\n",
        "#     def __call__(self, input_encdec):\n",
        "#         # Encoder\n",
        "#         # Convolution layers:\n",
        "#         # input_encdec is (nc) x 256 x 256\n",
        "#         e1 = self.conv1(input_encdec)\n",
        "#         # state size is (ngf) x 128 x 128\n",
        "#         e2 = self.batch_norm2(self.conv2(F.leaky_relu(e1)))\n",
        "#         # state size is (ngf x 2) x 64 x 64\n",
        "#         e3 = self.batch_norm4(self.conv3(F.leaky_relu(e2)))\n",
        "#         # state size is (ngf x 4) x 32 x 32\n",
        "#         e4 = self.batch_norm8(self.conv4(F.leaky_relu(e3)))\n",
        "#         # state size is (ngf x 8) x 16 x 16\n",
        "#         e5 = self.batch_norm8(self.conv5(F.leaky_relu(e4)))\n",
        "#         # state size is (ngf x 8) x 8 x 8\n",
        "#         e6 = self.batch_norm8(self.conv6(F.leaky_relu(e5)))\n",
        "#         # state size is (ngf x 8) x 4 x 4\n",
        "#         e7 = self.batch_norm8(self.conv7(F.leaky_relu(e6)))\n",
        "#         # state size is (ngf x 8) x 2 x 2\n",
        "#         # No batch norm on output of Encoder\n",
        "#         e8 = self.conv8(F.leaky_relu(e7))\n",
        "\n",
        "#         # Decoder\n",
        "#         # Deconvolution layers:\n",
        "#         # state size is (ngf x 8) x 1 x 1\n",
        "#         d1_ = F.dropout(self.batch_norm8(self.dconv1(F.relu(e8))))\n",
        "#         # state size is (ngf x 8) x 2 x 2\n",
        "#         d1 = F.concat((d1_, e7), axis=1)\n",
        "#         d2_ = F.dropout(self.batch_norm8(self.dconv2(F.relu(d1))))\n",
        "#         # state size is (ngf x 8) x 4 x 4\n",
        "#         d2 = F.concat((d2_, e6), axis=1)\n",
        "#         d3_ = F.dropout(self.batch_norm8(self.dconv3(F.relu(d2))))\n",
        "#         # state size is (ngf x 8) x 8 x 8\n",
        "#         d3 = F.concat((d3_, e5), axis=1)\n",
        "#         d4_ = self.batch_norm8(self.dconv4(F.relu(d3)))\n",
        "#         # state size is (ngf x 8) x 16 x 16\n",
        "#         d4 = F.concat((d4_, e4), axis=1)\n",
        "#         d5_ = self.batch_norm4(self.dconv5(F.relu(d4)))\n",
        "#         # state size is (ngf x 4) x 32 x 32\n",
        "#         d5 = F.concat((d5_, e3), axis=1)\n",
        "#         d6_ = self.batch_norm2(self.dconv6(F.relu(d5)))\n",
        "#         # state size is (ngf x 2) x 64 x 64\n",
        "#         d6 = F.concat((d6_, e2), axis=1)\n",
        "#         d7_ = self.batch_norm(self.dconv7(F.relu(d6)))\n",
        "#         # state size is (ngf) x 128 x 128\n",
        "#         d7 = F.concat((d7_, e1), axis=1)\n",
        "#         d8 = self.dconv8(F.relu(d7))\n",
        "#         # state size is (nc) x 256 x 256\n",
        "#         output = F.tanh(d8)\n",
        "#         return output"
      ],
      "execution_count": 0,
      "outputs": []
    },
    {
      "metadata": {
        "id": "olRmv-KiM0CJ",
        "colab_type": "code",
        "colab": {
          "autoexec": {
            "startup": false,
            "wait_interval": 0
          }
        }
      },
      "cell_type": "code",
      "source": [
        ""
      ],
      "execution_count": 0,
      "outputs": []
    },
    {
      "metadata": {
        "id": "Ao0CWcPRM0Ec",
        "colab_type": "code",
        "colab": {
          "autoexec": {
            "startup": false,
            "wait_interval": 0
          }
        }
      },
      "cell_type": "code",
      "source": [
        ""
      ],
      "execution_count": 0,
      "outputs": []
    }
  ]
}