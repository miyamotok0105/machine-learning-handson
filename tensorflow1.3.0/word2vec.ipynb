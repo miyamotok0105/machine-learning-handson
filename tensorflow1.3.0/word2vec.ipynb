{
 "cells": [
  {
   "cell_type": "code",
   "execution_count": 2,
   "metadata": {
    "collapsed": true
   },
   "outputs": [],
   "source": [
    "#!/usr/bin/env python\n",
    "\n",
    "import numpy as np\n",
    "import os\n",
    "import time\n",
    "import tensorflow as tf\n",
    "from tensorflow.contrib import slim\n",
    "import collections"
   ]
  },
  {
   "cell_type": "code",
   "execution_count": 4,
   "metadata": {},
   "outputs": [
    {
     "name": "stdout",
     "output_type": "stream",
     "text": [
      "１個目\n",
      "Rush\n",
      "1\n",
      "２個目\n",
      "(August\n",
      "2\n",
      "datasetのindex [0, 1, 2, 3, 4, 5, 6, 7, 8, 9]\n"
     ]
    }
   ],
   "source": [
    "# Set data\n",
    "index2word = {}\n",
    "word2index = {}\n",
    "counts = collections.Counter()\n",
    "dataset = []\n",
    "with open('./data/ptb.train.txt') as f:\n",
    "    for line in f:\n",
    "        for word in line.split():\n",
    "            if word not in word2index:\n",
    "                ind = len(word2index)\n",
    "                word2index[word] = ind\n",
    "                index2word[ind] = word\n",
    "            counts[word2index[word]] += 1\n",
    "            dataset.append(word2index[word])\n",
    "\n",
    "print(\"１個目\")\n",
    "print(index2word[1])\n",
    "print(word2index[index2word[1]])\n",
    "print(\"２個目\")\n",
    "print(index2word[2])\n",
    "print(word2index[index2word[2]])\n",
    "\n",
    "print(\"datasetのindex\",dataset[:10])"
   ]
  },
  {
   "cell_type": "code",
   "execution_count": 5,
   "metadata": {},
   "outputs": [
    {
     "ename": "NameError",
     "evalue": "name 'walker_alias' is not defined",
     "output_type": "error",
     "traceback": [
      "\u001b[0;31m---------------------------------------------------------------------------\u001b[0m",
      "\u001b[0;31mNameError\u001b[0m                                 Traceback (most recent call last)",
      "\u001b[0;32m<ipython-input-5-9dd35506f4bb>\u001b[0m in \u001b[0;36m<module>\u001b[0;34m()\u001b[0m\n\u001b[1;32m      5\u001b[0m \u001b[0mpower\u001b[0m \u001b[0;34m=\u001b[0m \u001b[0mnp\u001b[0m\u001b[0;34m.\u001b[0m\u001b[0mfloat32\u001b[0m\u001b[0;34m(\u001b[0m\u001b[0;36m0.75\u001b[0m\u001b[0;34m)\u001b[0m\u001b[0;34m\u001b[0m\u001b[0m\n\u001b[1;32m      6\u001b[0m \u001b[0mp\u001b[0m \u001b[0;34m=\u001b[0m \u001b[0mnp\u001b[0m\u001b[0;34m.\u001b[0m\u001b[0marray\u001b[0m\u001b[0;34m(\u001b[0m\u001b[0mcs\u001b[0m\u001b[0;34m,\u001b[0m \u001b[0mpower\u001b[0m\u001b[0;34m.\u001b[0m\u001b[0mdtype\u001b[0m\u001b[0;34m)\u001b[0m\u001b[0;34m\u001b[0m\u001b[0m\n\u001b[0;32m----> 7\u001b[0;31m \u001b[0msampler\u001b[0m \u001b[0;34m=\u001b[0m \u001b[0mwalker_alias\u001b[0m\u001b[0;34m.\u001b[0m\u001b[0mWalkerAlias\u001b[0m\u001b[0;34m(\u001b[0m\u001b[0mp\u001b[0m\u001b[0;34m)\u001b[0m \u001b[0;31m#random sample用\u001b[0m\u001b[0;34m\u001b[0m\u001b[0m\n\u001b[0m",
      "\u001b[0;31mNameError\u001b[0m: name 'walker_alias' is not defined"
     ]
    }
   ],
   "source": [
    "n_vocab = len(word2index)\n",
    "datasize = len(dataset)\n",
    "\n",
    "cs = [counts[w] for w in range(len(counts))]\n",
    "power = np.float32(0.75)\n",
    "p = np.array(cs, power.dtype)\n",
    "sampler = walker_alias.WalkerAlias(p) #random sample用"
   ]
  },
  {
   "cell_type": "code",
   "execution_count": null,
   "metadata": {
    "collapsed": true
   },
   "outputs": [],
   "source": []
  }
 ],
 "metadata": {
  "kernelspec": {
   "display_name": "Python 3",
   "language": "python",
   "name": "python3"
  },
  "language_info": {
   "codemirror_mode": {
    "name": "ipython",
    "version": 3
   },
   "file_extension": ".py",
   "mimetype": "text/x-python",
   "name": "python",
   "nbconvert_exporter": "python",
   "pygments_lexer": "ipython3",
   "version": "3.5.3"
  }
 },
 "nbformat": 4,
 "nbformat_minor": 2
}
