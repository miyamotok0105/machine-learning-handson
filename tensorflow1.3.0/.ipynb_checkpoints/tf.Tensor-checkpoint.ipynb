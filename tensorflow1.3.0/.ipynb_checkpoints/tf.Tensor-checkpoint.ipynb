{
 "cells": [
  {
   "cell_type": "markdown",
   "metadata": {},
   "source": [
    "TensorFlowのキーコンセプト: Opノード、セッション、変数\n",
    "\n",
    "https://qiita.com/yanosen_jp/items/70e6d6afc36e1c0a3ef3\n",
    "\n",
    "Opノード(operation:計算操作の略)\n",
    "\n",
    "セッション\n",
    "\n",
    "変数"
   ]
  },
  {
   "cell_type": "code",
   "execution_count": 64,
   "metadata": {},
   "outputs": [
    {
     "name": "stdout",
     "output_type": "stream",
     "text": [
      "b'Hello, TensorFlow!'\n"
     ]
    }
   ],
   "source": [
    "#helloって計算グラフを作って\n",
    "hello = tf.constant('Hello, TensorFlow!') #constant：定数\n",
    "#セッションに流す\n",
    "sess = tf.Session() \n",
    "result = sess.run(hello)\n",
    "print(result)"
   ]
  },
  {
   "cell_type": "markdown",
   "metadata": {},
   "source": [
    "# tf.add"
   ]
  },
  {
   "cell_type": "code",
   "execution_count": 31,
   "metadata": {},
   "outputs": [
    {
     "name": "stdout",
     "output_type": "stream",
     "text": [
      "6\n"
     ]
    }
   ],
   "source": [
    "import tensorflow as tf \n",
    "num1 = tf.constant(1)\n",
    "num2 = tf.constant(2)\n",
    "num3 = tf.constant(3)\n",
    "num1PlusNum2 = tf.add(num1,num2)\n",
    "num1PlusNum2PlusNum3 = tf.add(num1PlusNum2,num3)\n",
    "sess = tf.Session()\n",
    "result = sess.run(num1PlusNum2PlusNum3)\n",
    "print(result)"
   ]
  },
  {
   "cell_type": "markdown",
   "metadata": {},
   "source": [
    "# tf.assign"
   ]
  },
  {
   "cell_type": "markdown",
   "metadata": {},
   "source": [
    "変数代入"
   ]
  },
  {
   "cell_type": "code",
   "execution_count": 69,
   "metadata": {},
   "outputs": [
    {
     "name": "stdout",
     "output_type": "stream",
     "text": [
      "0\n",
      "1\n",
      "2\n"
     ]
    }
   ],
   "source": [
    "import tensorflow as tf \n",
    "State = tf.Variable(0, name=\"counter\") #名前をつけて変数を定義\n",
    "one = tf.constant(1)\n",
    "\n",
    "#0 + 1\n",
    "new_value = tf.add(State, one)\n",
    "\n",
    "#runしたタイミングでStateにnew_valueに代入される\n",
    "update = tf.assign(State, new_value) #new_valueの計算結果をState変数に代入\n",
    "\n",
    "init_op = tf.global_variables_initializer()\n",
    "sess = tf.Session()\n",
    "sess.run(init_op)\n",
    "print(sess.run(State))\n",
    "\n",
    "sess.run(update)\n",
    "print(sess.run(State))\n",
    "\n",
    "sess.run(update)\n",
    "print(sess.run(State))\n"
   ]
  },
  {
   "cell_type": "markdown",
   "metadata": {},
   "source": [
    "# tf.Session"
   ]
  },
  {
   "cell_type": "markdown",
   "metadata": {},
   "source": [
    "sess.run()を複数回行っても変数の値は保持される。\n",
    "別名でsessionを作ると変数は別々に保持される。"
   ]
  },
  {
   "cell_type": "code",
   "execution_count": 36,
   "metadata": {},
   "outputs": [
    {
     "name": "stdout",
     "output_type": "stream",
     "text": [
      "1\n",
      "2\n"
     ]
    }
   ],
   "source": [
    "import tensorflow as tf \n",
    "State = tf.Variable(0, name=\"counter\")\n",
    "one = tf.constant(1)\n",
    "new_value = tf.add(State, one)\n",
    "update = tf.assign(State, new_value) \n",
    "init_op = tf.global_variables_initializer() \n",
    "\n",
    "sess = tf.Session()\n",
    "sess.run(init_op)\n",
    "sess.run(update)\n",
    "print(sess.run(State))\n",
    "\n",
    "sess2 = tf.Session()\n",
    "sess2.run(init_op)\n",
    "sess2.run(update)\n",
    "sess2.run(update)\n",
    "print(sess2.run(State))"
   ]
  },
  {
   "cell_type": "markdown",
   "metadata": {},
   "source": [
    "# tf.square"
   ]
  },
  {
   "cell_type": "markdown",
   "metadata": {},
   "source": [
    "２乗"
   ]
  },
  {
   "cell_type": "code",
   "execution_count": 38,
   "metadata": {},
   "outputs": [
    {
     "name": "stdout",
     "output_type": "stream",
     "text": [
      "[7.0]\n"
     ]
    }
   ],
   "source": [
    "import tensorflow as tf\n",
    "\n",
    "def x2_plus_b(x, b):\n",
    "    _x = tf.constant(x)\n",
    "    _b = tf.constant(b)\n",
    "    result = tf.square(_x)\n",
    "    result = tf.add(result, _b)\n",
    "    return result\n",
    "with tf.Session() as sess:\n",
    "    result = sess.run([x2_plus_b(2., 3.)])\n",
    "    print(result)"
   ]
  },
  {
   "cell_type": "markdown",
   "metadata": {},
   "source": [
    "# tf.placeholder"
   ]
  },
  {
   "cell_type": "markdown",
   "metadata": {},
   "source": [
    "feed_dictでplaceholderから値を引き渡す"
   ]
  },
  {
   "cell_type": "code",
   "execution_count": 39,
   "metadata": {},
   "outputs": [
    {
     "name": "stdout",
     "output_type": "stream",
     "text": [
      "[array([ 7.], dtype=float32)]\n"
     ]
    }
   ],
   "source": [
    "import tensorflow as tf\n",
    "\n",
    "p_x = tf.placeholder(tf.float32)\n",
    "p_b = tf.placeholder(tf.float32)\n",
    "p_x2_plus_b = tf.add(tf.square(p_x), p_b)\n",
    "\n",
    "with tf.Session() as sess:\n",
    "    result = sess.run([p_x2_plus_b], feed_dict={p_x: [2.], p_b: [3.]})\n",
    "    print(result)"
   ]
  },
  {
   "cell_type": "markdown",
   "metadata": {},
   "source": [
    "# 可視化"
   ]
  },
  {
   "cell_type": "code",
   "execution_count": null,
   "metadata": {
    "collapsed": true
   },
   "outputs": [],
   "source": [
    "#バージョンによって違うので注意\n",
    "#https://qiita.com/shu223/items/ef160cbe1e9d9f57c248\n",
    "\n",
    "# 関数のところを抜粋するとこんな感じです。（旧 -> 1.0）\n",
    "\n",
    "# tf.audio_summary -> `tf.summary.audio\n",
    "# tf.contrib.deprecated.histogram_summary -> tf.summary.histogram\n",
    "# tf.contrib.deprecated.scalar_summary -> `tf.summary.scalar\n",
    "# tf.histogram_summary -> tf.summary.histogram\n",
    "# tf.image_summary -> tf.summary.image\n",
    "# tf.merge_all_summaries -> tf.summary.merge_all\n",
    "# tf.merge_summary -> tf.summary.merge\n",
    "# tf.scalar_summary -> tf.summary.scalar\n",
    "# tf.train.SummaryWriter -> tf.summary.FileWriter"
   ]
  },
  {
   "cell_type": "code",
   "execution_count": 53,
   "metadata": {},
   "outputs": [
    {
     "name": "stdout",
     "output_type": "stream",
     "text": [
      "INFO:tensorflow:Summary name counter:0 is illegal; using counter_0 instead.\n"
     ]
    },
    {
     "name": "stderr",
     "output_type": "stream",
     "text": [
      "INFO:tensorflow:Summary name counter:0 is illegal; using counter_0 instead.\n"
     ]
    },
    {
     "name": "stdout",
     "output_type": "stream",
     "text": [
      "INFO:tensorflow:Summary name counter_1:0 is illegal; using counter_1_0 instead.\n"
     ]
    },
    {
     "name": "stderr",
     "output_type": "stream",
     "text": [
      "INFO:tensorflow:Summary name counter_1:0 is illegal; using counter_1_0 instead.\n"
     ]
    },
    {
     "name": "stdout",
     "output_type": "stream",
     "text": [
      "INFO:tensorflow:Summary name counter_2:0 is illegal; using counter_2_0 instead.\n"
     ]
    },
    {
     "name": "stderr",
     "output_type": "stream",
     "text": [
      "INFO:tensorflow:Summary name counter_2:0 is illegal; using counter_2_0 instead.\n"
     ]
    },
    {
     "name": "stdout",
     "output_type": "stream",
     "text": [
      "INFO:tensorflow:Summary name counter_3:0 is illegal; using counter_3_0 instead.\n"
     ]
    },
    {
     "name": "stderr",
     "output_type": "stream",
     "text": [
      "INFO:tensorflow:Summary name counter_3:0 is illegal; using counter_3_0 instead.\n"
     ]
    },
    {
     "name": "stdout",
     "output_type": "stream",
     "text": [
      "INFO:tensorflow:Summary name counter_4:0 is illegal; using counter_4_0 instead.\n"
     ]
    },
    {
     "name": "stderr",
     "output_type": "stream",
     "text": [
      "INFO:tensorflow:Summary name counter_4:0 is illegal; using counter_4_0 instead.\n"
     ]
    }
   ],
   "source": [
    "#issue\n",
    "#https://github.com/fchollet/keras/issues/5746\n",
    "for v in tf.trainable_variables():\n",
    "   vrm = tf.reduce_mean(v)\n",
    "   tf.summary.scalar(v.name, vrm)"
   ]
  },
  {
   "cell_type": "markdown",
   "metadata": {},
   "source": [
    "# シンプル可視化"
   ]
  },
  {
   "cell_type": "code",
   "execution_count": 43,
   "metadata": {
    "collapsed": true
   },
   "outputs": [],
   "source": [
    "import tensorflow as tf\n",
    "sess = tf.InteractiveSession()\n",
    "summary_writer = tf.summary.FileWriter('/tmp/tensorboard', sess.graph) #FileWriterでtensorboardに書き出しできるようになる\n",
    "summary_op = tf.summary.text('config/config', tf.convert_to_tensor('hello world'))\n",
    "another_summary_op = tf.summary.scalar('scalar/data', tf.convert_to_tensor(3.14))\n",
    "text = sess.run(summary_op)\n",
    "scalar = sess.run(another_summary_op)\n",
    "for data in [text, scalar]:\n",
    "    summary_writer.add_summary(data, 0)\n",
    "    summary_writer.add_summary(data, 100)\n",
    "    summary_writer.add_summary(data, 200)\n",
    "summary_writer.flush()\n",
    "summary_writer.close()"
   ]
  },
  {
   "cell_type": "markdown",
   "metadata": {},
   "source": [
    "tensorboard --logdir=/tmp/tensorboard\n",
    "\n",
    "で実行\n",
    "\n",
    "http://localhost:6006/"
   ]
  },
  {
   "cell_type": "code",
   "execution_count": null,
   "metadata": {
    "collapsed": true
   },
   "outputs": [],
   "source": [
    "#TensorBoardの手順\n",
    "#https://deepage.net/tensorflow/2017/04/25/tensorboard.html\n",
    "# (1) Graphを定義してモデルを作成する\n",
    "# (2) tf.summaryモジュールの関数でログを記録する\n",
    "# (3) Graph定義の最後にサマリをmergeする\n",
    "# (4) tf.FileWriterを定義する\n",
    "# (5) Sessionで(3)でマージしたサマリを評価する\n",
    "# (6) FileWriterにサマリを追加する"
   ]
  },
  {
   "cell_type": "markdown",
   "metadata": {},
   "source": [
    "# mnist可視化"
   ]
  },
  {
   "cell_type": "code",
   "execution_count": 63,
   "metadata": {},
   "outputs": [
    {
     "name": "stdout",
     "output_type": "stream",
     "text": [
      "Extracting MNIST_data/train-images-idx3-ubyte.gz\n",
      "Extracting MNIST_data/train-labels-idx1-ubyte.gz\n",
      "Extracting MNIST_data/t10k-images-idx3-ubyte.gz\n",
      "Extracting MNIST_data/t10k-labels-idx1-ubyte.gz\n",
      "0.9192\n"
     ]
    }
   ],
   "source": [
    "# coding:utf-8\n",
    "import tensorflow as tf\n",
    "from tensorflow.examples.tutorials.mnist import input_data\n",
    "\n",
    "mnist = input_data.read_data_sets(\"MNIST_data/\", one_hot=True)\n",
    "x = tf.placeholder(tf.float32, [None, 784])\n",
    "W = tf.Variable(tf.zeros([784, 10]))\n",
    "b = tf.Variable(tf.zeros([10]))\n",
    "y = tf.nn.softmax(tf.matmul(x, W) + b)\n",
    "y_ = tf.placeholder(tf.float32, [None, 10])\n",
    "cross_entropy = tf.reduce_mean(-tf.reduce_sum(y_ * tf.log(y), reduction_indices=[1]))\n",
    "train_step = tf.train.GradientDescentOptimizer(0.5).minimize(cross_entropy)\n",
    "init = tf.global_variables_initializer()\n",
    "sess = tf.Session()\n",
    "sess.run(init)\n",
    "summary_writer = tf.summary.FileWriter('/tmp/tensorboard/mnist1_data', sess.graph) #テンソルボードにグラフ追加\n",
    "\n",
    "for i in range(1000):\n",
    "    batch_xs, batch_ys = mnist.train.next_batch(100)\n",
    "    sess.run(train_step, feed_dict={x: batch_xs, y_: batch_ys})\n",
    "correct_prediction = tf.equal(tf.argmax(y,1), tf.argmax(y_,1))\n",
    "accuracy = tf.reduce_mean(tf.cast(correct_prediction, tf.float32))\n",
    "print(sess.run(accuracy, feed_dict={x: mnist.test.images, y_: mnist.test.labels}))\n"
   ]
  },
  {
   "cell_type": "markdown",
   "metadata": {},
   "source": [
    "tensorboard --logdir=/tmp/tensorboard/mnist1_data\n",
    "\n",
    "で実行\n",
    "\n",
    "http://localhost:6006/"
   ]
  },
  {
   "cell_type": "markdown",
   "metadata": {},
   "source": [
    "# eval"
   ]
  },
  {
   "cell_type": "markdown",
   "metadata": {},
   "source": [
    "tensorの中身を表示"
   ]
  },
  {
   "cell_type": "code",
   "execution_count": 26,
   "metadata": {},
   "outputs": [
    {
     "name": "stdout",
     "output_type": "stream",
     "text": [
      "c\n",
      "Tensor(\"Const_27:0\", shape=(2, 2), dtype=float32)\n",
      "[[ 1.  2.]\n",
      " [ 3.  4.]]\n",
      "d\n",
      "[[ 1.  1.]\n",
      " [ 0.  1.]]\n",
      "e\n",
      "[[ 1.  3.]\n",
      " [ 3.  7.]]\n",
      "result\n",
      "[[ 1.  3.]\n",
      " [ 3.  7.]]\n"
     ]
    }
   ],
   "source": [
    "#https://www.tensorflow.org/api_docs/python/tf/Tensor\n",
    "\n",
    "import numpy as np\n",
    "import tensorflow as tf\n",
    "import matplotlib.pyplot as plt\n",
    "from sklearn.model_selection import train_test_split\n",
    "from sklearn.utils import shuffle\n",
    "\n",
    "# Build a dataflow graph.\n",
    "c = tf.constant([[1.0, 2.0], [3.0, 4.0]])\n",
    "d = tf.constant([[1.0, 1.0], [0.0, 1.0]])\n",
    "e = tf.matmul(c, d)\n",
    "\n",
    "print(\"c\")\n",
    "print(c.eval(session=sess))\n",
    "print(\"d\")\n",
    "print(d.eval(session=sess))\n",
    "print(\"e\")\n",
    "print(e.eval(session=sess))\n",
    "\n",
    "# Construct a `Session` to execute the graph.\n",
    "sess = tf.Session()\n",
    "\n",
    "# Execute the graph and store the value that `e` represents in `result`.\n",
    "result = sess.run(e)\n",
    "\n",
    "print(\"result\")\n",
    "print(result)"
   ]
  },
  {
   "cell_type": "code",
   "execution_count": 5,
   "metadata": {},
   "outputs": [
    {
     "name": "stdout",
     "output_type": "stream",
     "text": [
      "(2, 3)\n",
      "Tensor(\"Const_5:0\", shape=(2, 3), dtype=float32)\n"
     ]
    }
   ],
   "source": [
    "c = tf.constant([[1.0, 2.0, 3.0], [4.0, 5.0, 6.0]])\n",
    "\n",
    "print(c.shape)\n",
    "print(c)"
   ]
  },
  {
   "cell_type": "code",
   "execution_count": 6,
   "metadata": {},
   "outputs": [
    {
     "name": "stdout",
     "output_type": "stream",
     "text": [
      "(4, 2)\n"
     ]
    }
   ],
   "source": [
    "d = tf.constant([[1.0, 0.0], [0.0, 1.0], [1.0, 0.0], [0.0, 1.0]])\n",
    "\n",
    "print(d.shape)"
   ]
  },
  {
   "cell_type": "code",
   "execution_count": 10,
   "metadata": {},
   "outputs": [
    {
     "name": "stdout",
     "output_type": "stream",
     "text": [
      "(3, 4)\n"
     ]
    }
   ],
   "source": [
    "f = tf.matmul(c, d, transpose_a=True, transpose_b=True)\n",
    "\n",
    "print(f.shape)"
   ]
  },
  {
   "cell_type": "code",
   "execution_count": 14,
   "metadata": {},
   "outputs": [
    {
     "name": "stdout",
     "output_type": "stream",
     "text": [
      "[3 4]\n"
     ]
    }
   ],
   "source": [
    "foo = tf.constant([1,2,3,4,5,6])\n",
    "print(foo[2:-2].eval(session=sess)) # => [3,4]"
   ]
  },
  {
   "cell_type": "code",
   "execution_count": 16,
   "metadata": {},
   "outputs": [
    {
     "name": "stdout",
     "output_type": "stream",
     "text": [
      "[[3 2 1]\n",
      " [9 8 7]]\n"
     ]
    }
   ],
   "source": [
    "foo = tf.constant([[1,2,3], [4,5,6], [7,8,9]])\n",
    "print(foo[::2,::-1].eval(session=sess)) # => [[3,2,1], [9,8,7]]"
   ]
  },
  {
   "cell_type": "code",
   "execution_count": 18,
   "metadata": {},
   "outputs": [
    {
     "name": "stdout",
     "output_type": "stream",
     "text": [
      "[[[1 2 3]\n",
      "  [4 5 6]\n",
      "  [7 8 9]]]\n",
      "[[[1 2 3]]\n",
      "\n",
      " [[4 5 6]]\n",
      "\n",
      " [[7 8 9]]]\n",
      "[[[1]\n",
      "  [2]\n",
      "  [3]]\n",
      "\n",
      " [[4]\n",
      "  [5]\n",
      "  [6]]\n",
      "\n",
      " [[7]\n",
      "  [8]\n",
      "  [9]]]\n"
     ]
    }
   ],
   "source": [
    "#別次元にinsert\n",
    "foo = tf.constant([[1,2,3], [4,5,6], [7,8,9]])\n",
    "print(foo[tf.newaxis, :, :].eval(session=sess)) # => [[[1,2,3], [4,5,6], [7,8,9]]]\n",
    "print(foo[:, tf.newaxis, :].eval(session=sess)) # => [[[1,2,3]], [[4,5,6]], [[7,8,9]]]\n",
    "print(foo[:, :, tf.newaxis].eval(session=sess)) # => [[[1],[2],[3]], [[4],[5],[6]], [[7],[8],[9]]]"
   ]
  },
  {
   "cell_type": "code",
   "execution_count": 19,
   "metadata": {},
   "outputs": [
    {
     "name": "stdout",
     "output_type": "stream",
     "text": [
      "[[[1 2 3]\n",
      "  [4 5 6]\n",
      "  [7 8 9]]]\n",
      "[[[1 2 3]\n",
      "  [4 5 6]\n",
      "  [7 8 9]]]\n",
      "[[[1 2 3]\n",
      "  [4 5 6]\n",
      "  [7 8 9]]]\n"
     ]
    }
   ],
   "source": [
    "foo = tf.constant([[1,2,3], [4,5,6], [7,8,9]])\n",
    "print(foo[tf.newaxis, :, :].eval(session=sess)) # => [[[1,2,3], [4,5,6], [7,8,9]]]\n",
    "print(foo[tf.newaxis, ...].eval(session=sess)) # => [[[1,2,3], [4,5,6], [7,8,9]]]\n",
    "print(foo[tf.newaxis].eval(session=sess)) # => [[[1,2,3], [4,5,6], [7,8,9]]]"
   ]
  },
  {
   "cell_type": "code",
   "execution_count": null,
   "metadata": {
    "collapsed": true
   },
   "outputs": [],
   "source": []
  }
 ],
 "metadata": {
  "kernelspec": {
   "display_name": "Python 3",
   "language": "python",
   "name": "python3"
  },
  "language_info": {
   "codemirror_mode": {
    "name": "ipython",
    "version": 3
   },
   "file_extension": ".py",
   "mimetype": "text/x-python",
   "name": "python",
   "nbconvert_exporter": "python",
   "pygments_lexer": "ipython3",
   "version": "3.5.3"
  }
 },
 "nbformat": 4,
 "nbformat_minor": 2
}
