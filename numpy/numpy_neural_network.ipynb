{
 "cells": [
  {
   "cell_type": "code",
   "execution_count": 3,
   "metadata": {
    "collapsed": true
   },
   "outputs": [],
   "source": [
    "#https://iamtrask.github.io/2015/07/12/basic-python-network/"
   ]
  },
  {
   "cell_type": "markdown",
   "metadata": {},
   "source": []
  },
  {
   "cell_type": "markdown",
   "metadata": {},
   "source": []
  },
  {
   "cell_type": "code",
   "execution_count": 33,
   "metadata": {},
   "outputs": [
    {
     "name": "stdout",
     "output_type": "stream",
     "text": [
      "X (4, 3)\n",
      "y (4, 1)\n",
      "W0 (3, 4)\n",
      "W1 (4, 1)\n"
     ]
    }
   ],
   "source": [
    "#データ定義\n",
    "X = np.array([ [0,0,1],[0,1,1],[1,0,1],[1,1,1] ]) #学習データ\n",
    "y = np.array([[0,1,1,0]]).T #教師データ\n",
    "print(\"X\", X.shape)\n",
    "print(\"y\", y.shape)\n",
    "#重み定義\n",
    "W0 = 2*np.random.random((3,4)) - 1\n",
    "W1 = 2*np.random.random((4,1)) - 1\n",
    "print(\"W0\", W0.shape)\n",
    "print(\"W1\", W1.shape)\n",
    "\n",
    "for j in range(6000):\n",
    "    l1 = 1/(1+np.exp(-(np.dot(X,W0))))\n",
    "    l2 = 1/(1+np.exp(-(np.dot(l1,W1))))\n",
    "    l2_delta = (y - l2)*(l2*(1-l2))\n",
    "    l1_delta = l2_delta.dot(syn1.T) * (l1 * (1-l1))\n",
    "    W1 += l1.T.dot(l2_delta)\n",
    "    W0 += X.T.dot(l1_delta)\n",
    "    "
   ]
  },
  {
   "cell_type": "markdown",
   "metadata": {},
   "source": [
    "# 2層ニューラルネットワーク"
   ]
  },
  {
   "cell_type": "code",
   "execution_count": 6,
   "metadata": {},
   "outputs": [
    {
     "name": "stdout",
     "output_type": "stream",
     "text": [
      "l1  [[ 0.2689864 ]\n",
      " [ 0.36375058]\n",
      " [ 0.23762817]\n",
      " [ 0.3262757 ]]\n",
      "loss  [[-0.2689864 ]\n",
      " [-0.36375058]\n",
      " [ 0.76237183]\n",
      " [ 0.6737243 ]]\n",
      "l1  [[ 0.00679655]\n",
      " [ 0.005536  ]\n",
      " [ 0.99548528]\n",
      " [ 0.99445597]]\n",
      "loss  [[-0.00679655]\n",
      " [-0.005536  ]\n",
      " [ 0.00451472]\n",
      " [ 0.00554403]]\n",
      "l1  [[ 0.00478747]\n",
      " [ 0.00390215]\n",
      " [ 0.99681661]\n",
      " [ 0.99609372]]\n",
      "loss  [[-0.00478747]\n",
      " [-0.00390215]\n",
      " [ 0.00318339]\n",
      " [ 0.00390628]]\n",
      "l1  [[ 0.00390231]\n",
      " [ 0.00318165]\n",
      " [ 0.99740399]\n",
      " [ 0.99681556]]\n",
      "loss  [[-0.00390231]\n",
      " [-0.00318165]\n",
      " [ 0.00259601]\n",
      " [ 0.00318444]]\n",
      "l1  [[ 0.00337608]\n",
      " [ 0.00275311]\n",
      " [ 0.99775344]\n",
      " [ 0.99724479]]\n",
      "loss  [[-0.00337608]\n",
      " [-0.00275311]\n",
      " [ 0.00224656]\n",
      " [ 0.00275521]]\n",
      "Output After Training:\n",
      "[[ 0.00301758]\n",
      " [ 0.00246109]\n",
      " [ 0.99799161]\n",
      " [ 0.99753723]]\n"
     ]
    }
   ],
   "source": [
    "import numpy as np\n",
    "# sigmoid function\n",
    "def nonlin(x,deriv=False):\n",
    "    if(deriv==True): #backprop用\n",
    "        return x*(1-x) #微分した　http://nonbiri-tereka.hatenablog.com/entry/2014/06/30/134023\n",
    "    return 1/(1+np.exp(-x))\n",
    "    \n",
    "#学習データ　３行データが４つ。\n",
    "X = np.array([[0,0,1], [0,1,1],[1,0,1],[1,1,1]])\n",
    "    \n",
    "# 出力データ  \n",
    "y = np.array([[0,0,1,1]]).T\n",
    "np.random.seed(1)\n",
    "\n",
    "# initialize weights randomly with mean 0\n",
    "W0 = 2*np.random.random((3,1)) - 1\n",
    "\n",
    "for iter in range(100000):\n",
    "    # 順伝搬\n",
    "    l0 = X\n",
    "    l1 = nonlin(np.dot(l0,W0))\n",
    "    if (iter% 20000) == 0:\n",
    "        print(\"l1 \", l1)\n",
    "    #誤差\n",
    "    l1_error = y - l1\n",
    "    if (iter% 20000) == 0:\n",
    "        print(\"loss \", str(l1_error))\n",
    "\n",
    "    # multiply how much we missed by the \n",
    "    # slope of the sigmoid at the values in l1\n",
    "    l1_delta = l1_error * nonlin(l1,True)\n",
    "    \n",
    "    # 重み更新\n",
    "    W0 += np.dot(l0.T,l1_delta)\n",
    "\n",
    "print(\"Output After Training:\")\n",
    "print(l1)\n"
   ]
  },
  {
   "cell_type": "markdown",
   "metadata": {},
   "source": [
    "# 3 Layer Neural Network"
   ]
  },
  {
   "cell_type": "code",
   "execution_count": 2,
   "metadata": {},
   "outputs": [
    {
     "name": "stdout",
     "output_type": "stream",
     "text": [
      "Error:0.496410031903\n",
      "Error:0.00858452565325\n",
      "Error:0.00578945986251\n",
      "Error:0.00462917677677\n",
      "Error:0.00395876528027\n",
      "Error:0.00351012256786\n"
     ]
    }
   ],
   "source": [
    "import numpy as np\n",
    "\n",
    "def nonlin(x,deriv=False):\n",
    "\tif(deriv==True):\n",
    "\t    return x*(1-x)\n",
    "\treturn 1/(1+np.exp(-x))\n",
    "\n",
    "X = np.array([[0,0,1],\n",
    "            [0,1,1],\n",
    "            [1,0,1],\n",
    "            [1,1,1]])\n",
    "                \n",
    "y = np.array([[0],[1],[1],[0]])\n",
    "\n",
    "np.random.seed(1)\n",
    "\n",
    "# randomly initialize our weights with mean 0\n",
    "W0 = 2*np.random.random((3,4)) - 1\n",
    "W1 = 2*np.random.random((4,1)) - 1\n",
    "\n",
    "for j in range(60000):\n",
    "\n",
    "\t# Feed forward through layers 0, 1, and 2\n",
    "    l0 = X\n",
    "    l1 = nonlin(np.dot(l0,W0))\n",
    "    l2 = nonlin(np.dot(l1,W1))\n",
    "\n",
    "    # how much did we miss the target value?\n",
    "    l2_error = y - l2\n",
    "    \n",
    "    if (j% 10000) == 0:\n",
    "        print(\"Error:\" + str(np.mean(np.abs(l2_error))))\n",
    "        \n",
    "    # in what direction is the target value?\n",
    "    # were we really sure? if so, don't change too much.\n",
    "    l2_delta = l2_error*nonlin(l2,deriv=True)\n",
    "\n",
    "    # how much did each l1 value contribute to the l2 error (according to the weights)?\n",
    "    l1_error = l2_delta.dot(W1.T)\n",
    "    \n",
    "    # in what direction is the target l1?\n",
    "    # were we really sure? if so, don't change too much.\n",
    "    l1_delta = l1_error * nonlin(l1,deriv=True)\n",
    "\n",
    "    W1 += l1.T.dot(l2_delta)\n",
    "    W0 += l0.T.dot(l1_delta)\n"
   ]
  },
  {
   "cell_type": "code",
   "execution_count": null,
   "metadata": {
    "collapsed": true
   },
   "outputs": [],
   "source": []
  }
 ],
 "metadata": {
  "kernelspec": {
   "display_name": "Python 3",
   "language": "python",
   "name": "python3"
  },
  "language_info": {
   "codemirror_mode": {
    "name": "ipython",
    "version": 3
   },
   "file_extension": ".py",
   "mimetype": "text/x-python",
   "name": "python",
   "nbconvert_exporter": "python",
   "pygments_lexer": "ipython3",
   "version": "3.5.3"
  }
 },
 "nbformat": 4,
 "nbformat_minor": 2
}
