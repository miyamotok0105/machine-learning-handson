{
 "cells": [
  {
   "cell_type": "markdown",
   "metadata": {},
   "source": [
    "# 乱数"
   ]
  },
  {
   "cell_type": "code",
   "execution_count": 5,
   "metadata": {},
   "outputs": [
    {
     "name": "stdout",
     "output_type": "stream",
     "text": [
      "0.7805176553360587\n",
      "[ 0.43230067  0.9597845   0.91654729]\n",
      "[[ 0.77258745  0.79192803  0.86949099]\n",
      " [ 0.52154773  0.52101041  0.54350672]]\n",
      "(2, 3)\n"
     ]
    }
   ],
   "source": [
    "import random\n",
    "import numpy as np\n",
    "\n",
    "print(random.random())\n",
    "\n",
    "print(np.random.rand(3))\n",
    "\n",
    "print(np.random.rand(2, 3))\n",
    "print(np.random.rand(2, 3).shape)"
   ]
  },
  {
   "cell_type": "code",
   "execution_count": 6,
   "metadata": {},
   "outputs": [
    {
     "name": "stdout",
     "output_type": "stream",
     "text": [
      "-11\n",
      "35\n",
      "64\n",
      "368\n"
     ]
    },
    {
     "data": {
      "image/png": "[encoded data removed]",
      "text/plain": [
       "<matplotlib.figure.Figure at 0x103f80240>"
      ]
     },
     "metadata": {},
     "output_type": "display_data"
    }
   ],
   "source": [
    "import numpy as np\n",
    "import matplotlib.pyplot as plt\n",
    "\n",
    "np.random.seed(1)            # 乱数の初期化。\n",
    "w = np.random.rand(1000)     # 1000個の乱数生成\n",
    "w = np.where(w > 0.5, 1, -1) # 0.5以上は1に、0.5未満は-1に変更\n",
    "w = w.cumsum()               # 累積和を取る\n",
    "\n",
    "print(w.min())    # -11\n",
    "print(w.max())    # 35\n",
    "\n",
    "print(w.argmin()) # 64   最初に-11になったインデックス\n",
    "print(w.argmax()) # 368  最初に35になったインデックス\n",
    "\n",
    "plt.plot(np.arange(1000), w) # 折れ線グラフとして表示\n",
    "plt.scatter(w.argmin(), w.min(), marker=\"D\", c=\"r\")\n",
    "plt.scatter(w.argmax(), w.max(), marker=\"D\", c=\"r\")\n",
    "plt.text(w.argmin(), w.min(), \"min\", fontsize=16)\n",
    "plt.text(w.argmax(), w.max(), \"max\", fontsize=16)\n",
    "plt.show()"
   ]
  },
  {
   "cell_type": "markdown",
   "metadata": {},
   "source": [
    "# 整数"
   ]
  },
  {
   "cell_type": "code",
   "execution_count": 67,
   "metadata": {},
   "outputs": [
    {
     "name": "stdout",
     "output_type": "stream",
     "text": [
      "91\n",
      "36\n",
      "[89 60 29 28 47 22 94  8 17 89 20  4 13 24 69 27 27 12 63 16]\n",
      "[[ 2 41 46 24 72]\n",
      " [84 94 54 36 37]\n",
      " [42 10 23 61 75]\n",
      " [ 4 37 82 83  6]\n",
      " [ 1 25 83 47 43]]\n"
     ]
    }
   ],
   "source": [
    "print(np.random.randint(100))\n",
    "print(np.random.randint(30,70))\n",
    "print(np.random.randint(0,100,20))\n",
    "print(np.random.randint(0,100,(5,5)))"
   ]
  },
  {
   "cell_type": "markdown",
   "metadata": {},
   "source": [
    "# シャッフル"
   ]
  },
  {
   "cell_type": "code",
   "execution_count": 26,
   "metadata": {},
   "outputs": [
    {
     "name": "stdout",
     "output_type": "stream",
     "text": [
      "[0 1 2 3 4 5 6 7 8 9]\n",
      "[9 0 3 4 8 7 5 6 2 1]\n"
     ]
    }
   ],
   "source": [
    "arr = np.arange(10)\n",
    "print(arr)\n",
    "np.random.shuffle(arr)\n",
    "print(arr)"
   ]
  },
  {
   "cell_type": "markdown",
   "metadata": {},
   "source": [
    "# ランダム抽出"
   ]
  },
  {
   "cell_type": "code",
   "execution_count": 74,
   "metadata": {},
   "outputs": [
    {
     "name": "stdout",
     "output_type": "stream",
     "text": [
      "Osaka\n",
      "['Kyoto' 'Osaka' 'Osaka' 'Tokyo' 'Osaka' 'Nagoya' 'Nagoya' 'Nagoya'\n",
      " 'Nagoya' 'Nagoya']\n",
      "['Sendai' 'Fukuoka' 'Osaka' 'Sapporo' 'Kyoto']\n",
      "Tokyo\n"
     ]
    }
   ],
   "source": [
    "city = [\"Sapporo\",\"Sendai\",\"Tokyo\",\"Nagoya\",\"Kyoto\",\"Osaka\",\"Fukuoka\"]\n",
    "print(np.random.choice(city))\n",
    "print(np.random.choice(city,10))\n",
    "print(np.random.choice(city,5,replace=False)) #重複なし\n",
    "\n",
    "weight = [0.1, 0.1, 0.3, 0.1, 0.1, 0.2, 0.1]\n",
    "print(np.random.choice(city, p=weight))\n"
   ]
  },
  {
   "cell_type": "markdown",
   "metadata": {},
   "source": [
    "# 乱数の初期化"
   ]
  },
  {
   "cell_type": "code",
   "execution_count": 76,
   "metadata": {},
   "outputs": [
    {
     "data": {
      "text/plain": [
       "0.5434049417909654"
      ]
     },
     "execution_count": 76,
     "metadata": {},
     "output_type": "execute_result"
    }
   ],
   "source": [
    "np.random.seed(100)       # 数値はなんでもいい\n",
    "np.random.rand()          # 毎回同じ値を返す"
   ]
  },
  {
   "cell_type": "code",
   "execution_count": null,
   "metadata": {
    "collapsed": true
   },
   "outputs": [],
   "source": []
  },
  {
   "cell_type": "code",
   "execution_count": null,
   "metadata": {
    "collapsed": true
   },
   "outputs": [],
   "source": []
  },
  {
   "cell_type": "markdown",
   "metadata": {},
   "source": [
    "# 正規分布"
   ]
  },
  {
   "cell_type": "code",
   "execution_count": 7,
   "metadata": {},
   "outputs": [
    {
     "name": "stdout",
     "output_type": "stream",
     "text": [
      "[[ 0.72555052 -0.32420422  0.81434313]\n",
      " [ 0.78046993 -1.46405357 -0.15449119]\n",
      " [-0.09243232 -0.23787527 -0.75566277]]\n"
     ]
    }
   ],
   "source": [
    "print(np.random.randn(3, 3))           #標準正規分布の3×3配列"
   ]
  },
  {
   "cell_type": "code",
   "execution_count": 8,
   "metadata": {},
   "outputs": [
    {
     "name": "stdout",
     "output_type": "stream",
     "text": [
      "[[ 19.25718947  11.04548338  17.77507997]\n",
      " [  7.15425673   4.69101619  10.66123889]]\n"
     ]
    }
   ],
   "source": [
    "print(np.random.normal(10, 5, (2, 3)))  #平均10、標準偏差5、2行3列"
   ]
  },
  {
   "cell_type": "code",
   "execution_count": 12,
   "metadata": {},
   "outputs": [
    {
     "data": {
      "image/png": "[encoded data removed]",
      "text/plain": [
       "<matplotlib.figure.Figure at 0x104d14128>"
      ]
     },
     "metadata": {},
     "output_type": "display_data"
    }
   ],
   "source": [
    "import numpy as np\n",
    "import matplotlib.pyplot as plt\n",
    "mu, sd = 20, 5\n",
    "s = np.random.normal(mu, sd, 10000)\n",
    "count, bins, ignored = plt.hist(s, 40, normed=True)\n",
    "plt.plot(bins, 1/(sd * np.sqrt(2 * np.pi)) *\n",
    "               np.exp( - (bins - mu)**2 / (2 * sd**2) ),\n",
    "         linewidth=2, color='r')\n",
    "plt.show()"
   ]
  },
  {
   "cell_type": "markdown",
   "metadata": {},
   "source": [
    "# ベータ分布"
   ]
  },
  {
   "cell_type": "code",
   "execution_count": 15,
   "metadata": {},
   "outputs": [
    {
     "name": "stdout",
     "output_type": "stream",
     "text": [
      "0.3890166239772186\n"
     ]
    }
   ],
   "source": [
    "print(random.betavariate(10, 5))  #ベータ分布の乱数"
   ]
  },
  {
   "cell_type": "code",
   "execution_count": 16,
   "metadata": {},
   "outputs": [
    {
     "name": "stdout",
     "output_type": "stream",
     "text": [
      "[[ 0.63479246  0.87200413  0.82535323]\n",
      " [ 0.90273148  0.65450904  0.69992573]]\n"
     ]
    }
   ],
   "source": [
    "print(np.random.beta(10, 5,(2,3)))  #ベータ分布の乱数"
   ]
  },
  {
   "cell_type": "code",
   "execution_count": 17,
   "metadata": {},
   "outputs": [
    {
     "data": {
      "image/png": "[encoded data removed]",
      "text/plain": [
       "<matplotlib.figure.Figure at 0x104f5c908>"
      ]
     },
     "metadata": {},
     "output_type": "display_data"
    }
   ],
   "source": [
    "import numpy as np\n",
    "import matplotlib.pyplot as plt\n",
    "mu, sd = 20, 5\n",
    "s = np.random.beta(mu, sd, 10000)\n",
    "count, bins, ignored = plt.hist(s, 40, normed=True)\n",
    "plt.plot(bins, 1/(sd * np.sqrt(2 * np.pi)) *\n",
    "               np.exp( - (bins - mu)**2 / (2 * sd**2) ),\n",
    "         linewidth=2, color='r')\n",
    "plt.show()"
   ]
  },
  {
   "cell_type": "markdown",
   "metadata": {},
   "source": [
    "# 二項分布"
   ]
  },
  {
   "cell_type": "code",
   "execution_count": 38,
   "metadata": {},
   "outputs": [
    {
     "name": "stdout",
     "output_type": "stream",
     "text": [
      "[7 5 5 7 7 6 5 6 5 5 5 6 6 6 7 3 4 6 4 7]\n"
     ]
    }
   ],
   "source": [
    "x = np.random.binomial(10, 0.5, 20)\n",
    "print(x)"
   ]
  },
  {
   "cell_type": "code",
   "execution_count": 43,
   "metadata": {},
   "outputs": [
    {
     "data": {
      "image/png": "[encoded data removed]",
      "text/plain": [
       "<matplotlib.figure.Figure at 0x1050eadd8>"
      ]
     },
     "metadata": {},
     "output_type": "display_data"
    }
   ],
   "source": [
    "x = np.random.binomial(30, 0.1, 3000)\n",
    "plt.hist(x, 17)\n",
    "\n",
    "x = np.random.binomial(30, 0.3, 3000)\n",
    "plt.hist(x, 17)\n",
    "\n",
    "x = np.random.binomial(30, 0.5, 3000)\n",
    "plt.hist(x, 17)\n",
    "plt.show()"
   ]
  },
  {
   "cell_type": "markdown",
   "metadata": {},
   "source": [
    "# ポアソン分布"
   ]
  },
  {
   "cell_type": "code",
   "execution_count": 46,
   "metadata": {},
   "outputs": [
    {
     "name": "stdout",
     "output_type": "stream",
     "text": [
      "[30 23 30 33 25 28 38 36 40 32 40 29 34 32 31 26 24 26 29 34]\n"
     ]
    }
   ],
   "source": [
    "x = np.random.poisson(30, 20)\n",
    "print(x)"
   ]
  },
  {
   "cell_type": "code",
   "execution_count": 53,
   "metadata": {},
   "outputs": [
    {
     "data": {
      "image/png": "[encoded data removed]",
      "text/plain": [
       "<matplotlib.figure.Figure at 0x10500b128>"
      ]
     },
     "metadata": {},
     "output_type": "display_data"
    }
   ],
   "source": [
    "#1時間当たり平均5回クリックされる広告の試行を1000回行った時\n",
    "x = np.random.poisson(5, 1000)\n",
    "plt.hist(x, 14)\n",
    "plt.show()"
   ]
  },
  {
   "cell_type": "markdown",
   "metadata": {},
   "source": [
    "# カイ二乗分布"
   ]
  },
  {
   "cell_type": "code",
   "execution_count": 54,
   "metadata": {},
   "outputs": [
    {
     "name": "stdout",
     "output_type": "stream",
     "text": [
      "[ 1.19526239  3.57901735  1.58415315  1.96643201  3.0509422   1.30940188\n",
      "  3.9470454   3.62443144  2.10028559  2.55743548  0.39960286  1.24510244\n",
      "  1.95769981  5.48721991  1.27757197  1.75919497  0.71868599  1.94669272\n",
      "  0.88801672  1.14319093]\n"
     ]
    }
   ],
   "source": [
    "x = np.random.chisquare(3, 20)\n",
    "print(x)"
   ]
  },
  {
   "cell_type": "code",
   "execution_count": 55,
   "metadata": {},
   "outputs": [
    {
     "data": {
      "image/png": "[encoded data removed]",
      "text/plain": [
       "<matplotlib.figure.Figure at 0x104d04d30>"
      ]
     },
     "metadata": {},
     "output_type": "display_data"
    },
    {
     "data": {
      "image/png": "[encoded data removed]",
      "text/plain": [
       "<matplotlib.figure.Figure at 0x10569f2e8>"
      ]
     },
     "metadata": {},
     "output_type": "display_data"
    },
    {
     "data": {
      "image/png": "[encoded data removed]",
      "text/plain": [
       "<matplotlib.figure.Figure at 0x104ddb6a0>"
      ]
     },
     "metadata": {},
     "output_type": "display_data"
    }
   ],
   "source": [
    "# 自由度2, 5, 20に従うカイ二乗分布が生成する乱数のヒストグラム\n",
    "for df, c in zip([2,5,20], \"bgr\"):\n",
    "    x = np.random.chisquare(df, 1000)\n",
    "    plt.hist(x, 20, color=c)\n",
    "    plt.show()"
   ]
  },
  {
   "cell_type": "markdown",
   "metadata": {},
   "source": [
    "# F分布"
   ]
  },
  {
   "cell_type": "code",
   "execution_count": 56,
   "metadata": {},
   "outputs": [
    {
     "name": "stdout",
     "output_type": "stream",
     "text": [
      "[ 1.23992348  0.71545068  1.71851957  0.68926209  0.30367248  1.40511246\n",
      "  1.12478301  1.59904169  1.5183602   0.21391094  1.05974081  1.50666884\n",
      "  0.59667183  0.63177843  1.16988159  3.43979552  0.1869296   0.69247904\n",
      "  1.79235762  0.39115946  1.59294917  0.67668463  0.68627133  1.54747157\n",
      "  0.98416976  2.15560091  0.92703013  1.9809687   0.65246601  2.53219378]\n"
     ]
    }
   ],
   "source": [
    "x = np.random.f(6, 28, 30)\n",
    "print(x)"
   ]
  },
  {
   "cell_type": "code",
   "execution_count": 57,
   "metadata": {},
   "outputs": [
    {
     "data": {
      "image/png": "[encoded data removed]",
      "text/plain": [
       "<matplotlib.figure.Figure at 0x104d0dba8>"
      ]
     },
     "metadata": {},
     "output_type": "display_data"
    },
    {
     "data": {
      "image/png": "[encoded data removed]",
      "text/plain": [
       "<matplotlib.figure.Figure at 0x10559fe48>"
      ]
     },
     "metadata": {},
     "output_type": "display_data"
    },
    {
     "data": {
      "image/png": "[encoded data removed]",
      "text/plain": [
       "<matplotlib.figure.Figure at 0x10537f780>"
      ]
     },
     "metadata": {},
     "output_type": "display_data"
    },
    {
     "data": {
      "image/png": "[encoded data removed]",
      "text/plain": [
       "<matplotlib.figure.Figure at 0x105606ef0>"
      ]
     },
     "metadata": {},
     "output_type": "display_data"
    }
   ],
   "source": [
    "for df, c in zip([(1,4), (5,7), (10,10), (40,50)], \"bgry\"):\n",
    "    x = np.random.f(df[0], df[1], 1000)\n",
    "    plt.hist(x, 100, color=c)\n",
    "    plt.show()"
   ]
  },
  {
   "cell_type": "markdown",
   "metadata": {},
   "source": [
    "# 指数分布"
   ]
  },
  {
   "cell_type": "code",
   "execution_count": 58,
   "metadata": {},
   "outputs": [
    {
     "name": "stdout",
     "output_type": "stream",
     "text": [
      "[  8.06539928   6.19991003  22.93888866   3.54414903   3.33313969\n",
      "   4.22195022   4.88929966   0.90414099   2.87561558   5.79546321\n",
      "  16.27960573   2.48177493  11.28285965  13.38089813  24.44253156\n",
      "   3.67584233   8.1044545   15.01988604   7.37207374   6.58041884]\n"
     ]
    }
   ],
   "source": [
    "lam = 0.1   # 1分あたり0.1回発生する。\n",
    "x = np.random.exponential(1./lam, size=20)\n",
    "print(x)"
   ]
  },
  {
   "cell_type": "code",
   "execution_count": 60,
   "metadata": {},
   "outputs": [
    {
     "data": {
      "image/png": "[encoded data removed]",
      "text/plain": [
       "<matplotlib.figure.Figure at 0x1050f1240>"
      ]
     },
     "metadata": {},
     "output_type": "display_data"
    }
   ],
   "source": [
    "lam = 0.1  # 1分あたり0.1回発生する。\n",
    "x = np.random.exponential(1./lam, size=10000)\n",
    "plt.hist(x, 100)\n",
    "plt.show()"
   ]
  },
  {
   "cell_type": "code",
   "execution_count": null,
   "metadata": {
    "collapsed": true
   },
   "outputs": [],
   "source": []
  },
  {
   "cell_type": "code",
   "execution_count": null,
   "metadata": {},
   "outputs": [],
   "source": []
  },
  {
   "cell_type": "markdown",
   "metadata": {},
   "source": [
    "# 参考"
   ]
  },
  {
   "cell_type": "markdown",
   "metadata": {},
   "source": [
    "- http://python-remrin.hatenadiary.jp/entry/2017/04/26/233717\n",
    "- http://qiita.com/kenmatsu4/items/c1a64cf69bc8c9e07aa2\n",
    "- https://www.outoutput.com/programming/python-numpy-random/\n",
    "- http://qiita.com/yubais/items/bf9ce0a8fefdcc0b0c97"
   ]
  },
  {
   "cell_type": "code",
   "execution_count": null,
   "metadata": {
    "collapsed": true
   },
   "outputs": [],
   "source": []
  }
 ],
 "metadata": {
  "kernelspec": {
   "display_name": "Python 3",
   "language": "python",
   "name": "python3"
  },
  "language_info": {
   "codemirror_mode": {
    "name": "ipython",
    "version": 3
   },
   "file_extension": ".py",
   "mimetype": "text/x-python",
   "name": "python",
   "nbconvert_exporter": "python",
   "pygments_lexer": "ipython3",
   "version": "3.5.3"
  }
 },
 "nbformat": 4,
 "nbformat_minor": 2
}
