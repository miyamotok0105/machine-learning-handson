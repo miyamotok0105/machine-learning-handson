{
 "cells": [
  {
   "cell_type": "code",
   "execution_count": 3,
   "metadata": {},
   "outputs": [
    {
     "name": "stderr",
     "output_type": "stream",
     "text": [
      "/Users/miyamoto/.pyenv/versions/miniconda3-4.0.5/envs/py35/lib/python3.5/site-packages/ipykernel_launcher.py:27: RuntimeWarning: covariance is not positive-semidefinite.\n"
     ]
    },
    {
     "name": "stdout",
     "output_type": "stream",
     "text": [
      "[[ 1.94128318 -2.01333311]\n",
      " [-0.22236271 -0.20499214]\n",
      " [-2.1245996   2.08855318]] 1.02814775957\n"
     ]
    },
    {
     "data": {
      "image/png": "[encoded data removed]",
      "text/plain": [
       "<matplotlib.figure.Figure at 0x105abee10>"
      ]
     },
     "metadata": {},
     "output_type": "display_data"
    }
   ],
   "source": [
    "#http://aidiary.hatenablog.com/entry/20120813/1344853878\n",
    "#ベクトル量子化：ベクトルを代表的なパターン（セントロイド）に置き換える\n",
    "#代表パターンのリスト：コードブック（code book）という\n",
    "\n",
    "#coding:utf-8\n",
    "import numpy as np\n",
    "import scipy.cluster\n",
    "from pylab import *\n",
    "\n",
    "if __name__ == \"__main__\":\n",
    "    cls1 = []\n",
    "    cls2 = []\n",
    "    cls3 = []\n",
    "\n",
    "    # 分布1\n",
    "    mean1 = [-2, 2]\n",
    "    cov1 = [[1.0, 0.0], [0.0, 1.0]]\n",
    "\n",
    "    # 分布2\n",
    "    mean2 = [0, 0]\n",
    "    cov2 = [[1.0, 0.8], [0.8, 1.0]]\n",
    "\n",
    "    # 分布3\n",
    "    mean3 = [2, -2]\n",
    "    cov3 = [[0.5, 0.3], [0.8, 0.4]]\n",
    "\n",
    "    # 分布にしたがうデータ生成\n",
    "    cls1.extend(np.random.multivariate_normal(mean1, cov1, 100))\n",
    "    cls2.extend(np.random.multivariate_normal(mean2, cov2, 100))\n",
    "    cls3.extend(np.random.multivariate_normal(mean3, cov3, 100))\n",
    "    X = vstack((cls1, cls2, cls3))\n",
    "\n",
    "    # データをクラスタリング\n",
    "    codebook, destortion = scipy.cluster.vq.kmeans(X, 3, iter=20, thresh=1e-05)\n",
    "    print(codebook, destortion)\n",
    "\n",
    "    # ベクトル量子化\n",
    "    # 各データをセントロイドに分類するvq関数\n",
    "    code, dist = scipy.cluster.vq.vq(X, codebook)\n",
    "\n",
    "    # 各データをクラスタ別に色分けして描画\n",
    "    for i in range(len(X)):\n",
    "        x1, x2 = X[i, ]\n",
    "\n",
    "        if code[i] == 0: color = 'r+'\n",
    "        elif code[i] == 1: color = 'b+'\n",
    "        elif code[i] == 2: color = 'g+'\n",
    "        plot(x1, x2, color)\n",
    "\n",
    "    # セントロイドを描画\n",
    "    x1, x2 = np.transpose(codebook)\n",
    "    plot(x1, x2, 'yo')\n",
    "\n",
    "    xlim(-6.0, 6.0)\n",
    "    ylim(-6.0, 6.0)\n",
    "    show()"
   ]
  },
  {
   "cell_type": "code",
   "execution_count": null,
   "metadata": {
    "collapsed": true
   },
   "outputs": [],
   "source": []
  }
 ],
 "metadata": {
  "kernelspec": {
   "display_name": "Python 3",
   "language": "python",
   "name": "python3"
  },
  "language_info": {
   "codemirror_mode": {
    "name": "ipython",
    "version": 3
   },
   "file_extension": ".py",
   "mimetype": "text/x-python",
   "name": "python",
   "nbconvert_exporter": "python",
   "pygments_lexer": "ipython3",
   "version": "3.5.3"
  }
 },
 "nbformat": 4,
 "nbformat_minor": 2
}
