{
 "cells": [
  {
   "cell_type": "code",
   "execution_count": 41,
   "metadata": {},
   "outputs": [],
   "source": [
    "import random\n",
    "import numpy as np\n",
    "\n",
    "from deap import base\n",
    "from deap import creator\n",
    "from deap import tools"
   ]
  },
  {
   "cell_type": "markdown",
   "metadata": {},
   "source": [
    "# タイプ"
   ]
  },
  {
   "cell_type": "markdown",
   "metadata": {},
   "source": [
    "最初に行うべきことは、あなたの問題に適したタイプを考えることです。次に、使用可能なタイプのリストを調べる代わりに、DEAPを使用して独自のビルドを作成することができます。これはcreatorモジュールで行われます。適切なタイプを作成することは圧倒的に思えるかもしれませんが、作成者はそれを非常に簡単にします。実際、これは通常1行で行われます。たとえば、次の例ではFitnessMin、最小化問題のIndividualクラスと、作成したばかりのフィットネスに設定されたフィットネス属性を持つリストから派生したクラスを作成します。\n",
    "\n"
   ]
  },
  {
   "cell_type": "code",
   "execution_count": 26,
   "metadata": {},
   "outputs": [
    {
     "name": "stderr",
     "output_type": "stream",
     "text": [
      "/Users/miyamoto/.pyenv/versions/miniconda3-4.1.11/envs/py35/lib/python3.5/site-packages/deap/creator.py:141: RuntimeWarning: A class named 'FitnessMin' has already been created and it will be overwritten. Consider deleting previous creation of that class or rename it.\n",
      "  RuntimeWarning)\n",
      "/Users/miyamoto/.pyenv/versions/miniconda3-4.1.11/envs/py35/lib/python3.5/site-packages/deap/creator.py:141: RuntimeWarning: A class named 'Individual' has already been created and it will be overwritten. Consider deleting previous creation of that class or rename it.\n",
      "  RuntimeWarning)\n"
     ]
    }
   ],
   "source": [
    "from deap import base, creator\n",
    "creator.create(\"FitnessMin\", base.Fitness, weights=(-1.0,))\n",
    "creator.create(\"Individual\", list, fitness=creator.FitnessMin)"
   ]
  },
  {
   "cell_type": "markdown",
   "metadata": {},
   "source": [
    "# 初期化"
   ]
  },
  {
   "cell_type": "markdown",
   "metadata": {},
   "source": [
    "型が作成されたら、それらを時々ランダムな値で埋める必要があります。再び、DEAPはそれを行うための簡単なメカニズムを提供します。これToolboxは、必要なことをすることができるイニシャライザを含むあらゆる種類のツール用のコンテナです。次のコード行は、ランダムな浮動小数点数を含む個体とそれを含む個体の初期化子を作成するコードの最後の行です。"
   ]
  },
  {
   "cell_type": "code",
   "execution_count": 27,
   "metadata": {},
   "outputs": [],
   "source": [
    "import random\n",
    "from deap import tools\n",
    "\n",
    "IND_SIZE = 10\n",
    "\n",
    "toolbox = base.Toolbox()\n",
    "toolbox.register(\"attribute\", random.random)\n",
    "toolbox.register(\"individual\", tools.initRepeat, creator.Individual,\n",
    "                 toolbox.attribute, n=IND_SIZE)\n",
    "toolbox.register(\"population\", tools.initRepeat, list, toolbox.individual)"
   ]
  },
  {
   "cell_type": "markdown",
   "metadata": {},
   "source": [
    "これは、ランダムな浮動小数点数で初期化された個体から母集団を初期化する関数を作成します。関数は、指定された名前の下にデフォルトの引数でツールボックスに登録されます。たとえば、関数toolbox.population()を呼び出して、即座に母集団を作成することができます。その他の初期化メソッドは、「型の作成」チュートリアルとさまざまな 例にあります。\n",
    "\n"
   ]
  },
  {
   "cell_type": "markdown",
   "metadata": {},
   "source": [
    "# 演算子"
   ]
  },
  {
   "cell_type": "markdown",
   "metadata": {},
   "source": [
    "演算子は初期化子と似ていますが、toolsモジュールの中には既に実装されているものもあります。完璧なものを選んだら、ツールボックスに登録するだけです。さらに、評価関数を作成する必要があります。これがDEAPで行われる方法です。"
   ]
  },
  {
   "cell_type": "code",
   "execution_count": 28,
   "metadata": {},
   "outputs": [],
   "source": [
    "def evaluate(individual):\n",
    "    return sum(individual),\n",
    "\n",
    "toolbox.register(\"mate\", tools.cxTwoPoint)\n",
    "toolbox.register(\"mutate\", tools.mutGaussian, mu=0, sigma=1, indpb=0.1)\n",
    "toolbox.register(\"select\", tools.selTournament, tournsize=3)\n",
    "toolbox.register(\"evaluate\", evaluate)"
   ]
  },
  {
   "cell_type": "markdown",
   "metadata": {},
   "source": [
    "登録された関数は、ツールボックスによって名前が変更され、演算子名に依存しない汎用アルゴリズムが可能になります。適性値は反復可能でなければならないことに注意してください。それは評価関数でタプルを返す理由です。この上のその他の演算子とアルゴリズムの チュートリアルと例。"
   ]
  },
  {
   "cell_type": "markdown",
   "metadata": {},
   "source": [
    "# アルゴリズム"
   ]
  },
  {
   "cell_type": "code",
   "execution_count": 34,
   "metadata": {},
   "outputs": [],
   "source": [
    "def main():\n",
    "    pop = toolbox.population(n=50)\n",
    "    CXPB, MUTPB, NGEN = 0.5, 0.2, 40\n",
    "\n",
    "    # Evaluate the entire population\n",
    "    fitnesses = list(map(toolbox.evaluate, pop))\n",
    "    for ind, fit in zip(pop, fitnesses):\n",
    "        ind.fitness.values = fit\n",
    "\n",
    "    for g in range(NGEN):\n",
    "        # Select the next generation individuals\n",
    "        offspring = toolbox.select(pop, len(pop))\n",
    "        # Clone the selected individuals\n",
    "        offspring = list(map(toolbox.clone, offspring))\n",
    "\n",
    "        # Apply crossover and mutation on the offspring\n",
    "        for child1, child2 in zip(offspring[::2], offspring[1::2]):\n",
    "            if random.random() < CXPB:\n",
    "                toolbox.mate(child1, child2)\n",
    "                del child1.fitness.values\n",
    "                del child2.fitness.values\n",
    "\n",
    "        for mutant in offspring:\n",
    "            if random.random() < MUTPB:\n",
    "                toolbox.mutate(mutant)\n",
    "                del mutant.fitness.values\n",
    "\n",
    "        # Evaluate the individuals with an invalid fitness\n",
    "        invalid_ind = [ind for ind in offspring if not ind.fitness.valid]\n",
    "        fitnesses = map(toolbox.evaluate, invalid_ind)\n",
    "        for ind, fit in zip(invalid_ind, fitnesses):\n",
    "            ind.fitness.values = fit\n",
    "\n",
    "        # The population is entirely replaced by the offspring\n",
    "        pop[:] = offspring\n",
    "\n",
    "    return pop"
   ]
  },
  {
   "cell_type": "code",
   "execution_count": 35,
   "metadata": {},
   "outputs": [
    {
     "name": "stdout",
     "output_type": "stream",
     "text": [
      "[[-2.526122668581078, -2.4915941203864675, -0.8665735192538824, -3.843198455247002, -5.222751045261218, -1.2737860368451739, -1.536234059556639, -3.151203304975172, -4.6559845088634075, -2.4514178349252123], [-2.526122668581078, -2.8437787862628388, -0.8665735192538824, -3.843198455247002, -5.222751045261218, -1.7039036618265355, -1.536234059556639, -2.2764850857057986, -4.6559845088634075, -2.4514178349252123], [-2.3030997561656945, -2.4915941203864675, -1.707303386843611, -3.843198455247002, -5.222751045261218, -1.2737860368451739, -1.536234059556639, -2.2764850857057986, -3.995133734793293, -2.069258184693871], [-1.307613014847673, -2.8437787862628388, -0.8665735192538824, -3.843198455247002, -5.222751045261218, -1.7039036618265355, -1.536234059556639, -2.2764850857057986, -4.6559845088634075, -2.4514178349252123], [-2.526122668581078, -2.8437787862628388, -0.8665735192538824, -3.843198455247002, -5.222751045261218, -1.2737860368451739, -1.536234059556639, -3.151203304975172, -4.6559845088634075, -2.4514178349252123], [-2.526122668581078, -2.881007254080824, -0.8665735192538824, -3.843198455247002, -5.222751045261218, -2.400254820187195, -2.014173826392983, -2.2764850857057986, -5.0083206434545495, -2.4514178349252123], [-2.526122668581078, -2.4915941203864675, -0.8665735192538824, -3.843198455247002, -5.222751045261218, -1.2737860368451739, -1.536234059556639, -3.151203304975172, -4.6559845088634075, -2.4514178349252123], [-2.526122668581078, -2.4915941203864675, -0.4948549568099564, -3.843198455247002, -5.222751045261218, -1.2737860368451739, -2.6534212586969064, -3.151203304975172, -4.6559845088634075, -2.4514178349252123], [-2.526122668581078, -2.8437787862628388, -0.8665735192538824, -3.843198455247002, -5.222751045261218, -1.2737860368451739, -1.536234059556639, -3.151203304975172, -4.6559845088634075, -2.4514178349252123], [-2.526122668581078, -2.4915941203864675, -0.8665735192538824, -3.843198455247002, -5.222751045261218, -1.7039036618265355, -1.536234059556639, -2.2764850857057986, -4.6559845088634075, -2.4514178349252123], [-2.526122668581078, -2.4915941203864675, -0.8665735192538824, -3.843198455247002, -5.222751045261218, -1.2737860368451739, -3.335634257006193, -2.2764850857057986, -4.6559845088634075, -1.6191593394859074], [-2.526122668581078, -2.4915941203864675, -0.8665735192538824, -3.843198455247002, -5.222751045261218, -1.2737860368451739, -1.536234059556639, -3.151203304975172, -4.6559845088634075, -2.4514178349252123], [-2.526122668581078, -3.543876988306242, -0.48830733484085365, -3.139321734858486, -5.222751045261218, -1.2737860368451739, -1.536234059556639, -2.9022730532793224, -3.995133734793293, -2.069258184693871], [-3.007004024623487, -2.4915941203864675, -1.707303386843611, -3.843198455247002, -5.222751045261218, -1.2737860368451739, -1.536234059556639, -2.2764850857057986, -4.6559845088634075, -2.4514178349252123], [-2.526122668581078, -2.3281389870673697, -0.8665735192538824, -3.843198455247002, -5.222751045261218, -1.7039036618265355, -1.536234059556639, -2.2764850857057986, -4.6559845088634075, -2.4514178349252123], [-3.007004024623487, -2.4915941203864675, -1.707303386843611, -3.843198455247002, -5.222751045261218, -1.2737860368451739, -1.536234059556639, -2.9022730532793224, -3.995133734793293, -2.069258184693871], [-2.526122668581078, -2.8437787862628388, -0.8665735192538824, -3.843198455247002, -5.222751045261218, -1.2737860368451739, -1.536234059556639, -3.151203304975172, -4.6559845088634075, -2.4514178349252123], [-2.526122668581078, -2.4915941203864675, -0.8665735192538824, -3.843198455247002, -5.222751045261218, -1.2737860368451739, -1.9303818425722392, -3.151203304975172, -5.3364676036489165, -2.7648982975168974], [-2.526122668581078, -3.543876988306242, -0.8665735192538824, -3.139321734858486, -5.222751045261218, -1.2737860368451739, -1.536234059556639, -2.2764850857057986, -4.6559845088634075, -2.4514178349252123], [-2.526122668581078, -2.8437787862628388, -0.8665735192538824, -3.843198455247002, -5.222751045261218, -2.2326074544911387, -2.3287035428551137, -2.2764850857057986, -6.071080049588872, -2.4514178349252123], [-2.526122668581078, -2.881007254080824, -0.8665735192538824, -3.843198455247002, -5.222751045261218, -1.7039036618265355, -1.8120411932525635, -2.2764850857057986, -5.0083206434545495, -2.4514178349252123], [-2.526122668581078, -2.4915941203864675, -0.8665735192538824, -4.546515845295456, -5.222751045261218, -1.2737860368451739, -1.536234059556639, -3.151203304975172, -4.6559845088634075, -2.4514178349252123], [-2.526122668581078, -2.4915941203864675, -0.8665735192538824, -3.843198455247002, -5.222751045261218, -1.2737860368451739, -1.536234059556639, -3.151203304975172, -4.6559845088634075, -2.4514178349252123], [-2.526122668581078, -2.4915941203864675, 1.0655301706958276, -3.843198455247002, -5.222751045261218, -1.2737860368451739, -1.536234059556639, -3.740858336104276, -4.6559845088634075, -2.4514178349252123], [-2.526122668581078, -2.4915941203864675, -0.8665735192538824, -3.843198455247002, -5.222751045261218, -1.2737860368451739, -1.536234059556639, -3.151203304975172, -4.6559845088634075, -2.4514178349252123], [-2.526122668581078, -2.4915941203864675, -0.8665735192538824, -3.843198455247002, -5.222751045261218, -1.2737860368451739, -1.9303818425722392, -3.151203304975172, -5.3364676036489165, -2.7648982975168974], [-2.526122668581078, -2.4915941203864675, -0.8665735192538824, -3.843198455247002, -5.222751045261218, -1.2737860368451739, -1.536234059556639, -3.151203304975172, -5.3364676036489165, -1.533048400572429], [-2.526122668581078, -2.3281389870673697, -0.8665735192538824, -3.843198455247002, -5.222751045261218, -1.2737860368451739, -1.9303818425722392, -2.2764850857057986, -4.6559845088634075, -2.4514178349252123], [-2.526122668581078, -2.8437787862628388, -0.4948549568099564, -3.843198455247002, -5.222751045261218, -1.2737860368451739, -1.536234059556639, -2.2764850857057986, -4.6559845088634075, -2.4514178349252123], [-2.526122668581078, -2.4915941203864675, -0.8665735192538824, -3.843198455247002, -5.222751045261218, -1.2737860368451739, -2.6534212586969064, -3.151203304975172, -4.6559845088634075, -2.4514178349252123], [-2.526122668581078, -2.4915941203864675, -0.4948549568099564, -3.843198455247002, -5.222751045261218, -1.2737860368451739, -2.6534212586969064, -3.151203304975172, -4.6559845088634075, -2.4514178349252123], [-2.526122668581078, -4.164664862778546, -0.8665735192538824, -3.843198455247002, -5.352975201709575, -1.2737860368451739, -1.536234059556639, -3.151203304975172, -4.6559845088634075, -2.4514178349252123], [-1.3163578290196525, -2.4915941203864675, -0.8665735192538824, -3.843198455247002, -5.945341036589024, -1.2737860368451739, -1.536234059556639, -3.151203304975172, -4.6559845088634075, -1.6191593394859074], [-2.526122668581078, -2.4915941203864675, -0.8665735192538824, -3.843198455247002, -5.222751045261218, -1.2737860368451739, -3.335634257006193, -2.2764850857057986, -4.278271872886365, -2.4514178349252123], [-2.0081244358759456, -2.8437787862628388, -0.8665735192538824, -3.843198455247002, -5.222751045261218, -1.2737860368451739, -1.536234059556639, -3.151203304975172, -3.995133734793293, -2.069258184693871], [-2.526122668581078, -3.543876988306242, -0.8665735192538824, -3.139321734858486, -5.222751045261218, -1.2737860368451739, -1.536234059556639, -2.2764850857057986, -4.6559845088634075, -2.4514178349252123], [-2.526122668581078, -2.4915941203864675, -1.707303386843611, -3.843198455247002, -5.222751045261218, -1.2737860368451739, -1.536234059556639, -2.2764850857057986, -3.995133734793293, -2.069258184693871], [-2.3030997561656945, -2.4915941203864675, -0.8665735192538824, -3.843198455247002, -5.222751045261218, -1.2737860368451739, -1.9303818425722392, -3.151203304975172, -5.3364676036489165, -2.7648982975168974], [-2.526122668581078, -2.341459319070169, -0.8665735192538824, -3.843198455247002, -5.222751045261218, -1.7039036618265355, -1.536234059556639, -2.2764850857057986, -4.6559845088634075, -2.4514178349252123], [-2.526122668581078, -2.881007254080824, -0.8665735192538824, -3.843198455247002, -5.222751045261218, -1.7039036618265355, -1.8120411932525635, -2.2764850857057986, -5.0083206434545495, -2.4514178349252123], [-2.526122668581078, -2.4915941203864675, -0.8665735192538824, -4.546515845295456, -5.222751045261218, -1.2737860368451739, -1.536234059556639, -3.151203304975172, -4.6559845088634075, -2.4514178349252123], [-2.526122668581078, -2.4915941203864675, -0.8665735192538824, -3.843198455247002, -5.222751045261218, -1.2737860368451739, -1.536234059556639, -3.151203304975172, -4.6559845088634075, -2.4514178349252123], [-2.526122668581078, -2.4915941203864675, -0.8665735192538824, -3.843198455247002, -5.222751045261218, -1.2737860368451739, -1.536234059556639, -3.151203304975172, -4.6559845088634075, -2.4514178349252123], [-2.526122668581078, -2.4915941203864675, -0.4948549568099564, -3.843198455247002, -5.222751045261218, -1.2737860368451739, -2.6534212586969064, -3.151203304975172, -4.6559845088634075, -2.4514178349252123], [-2.526122668581078, -2.4915941203864675, -0.8665735192538824, -3.843198455247002, -5.222751045261218, -1.2737860368451739, -1.9303818425722392, -1.5281305917890378, -5.3364676036489165, -2.7648982975168974], [-2.526122668581078, -2.8437787862628388, -0.8665735192538824, -3.843198455247002, -5.222751045261218, -1.7039036618265355, -1.536234059556639, -2.2764850857057986, -4.6559845088634075, -2.4514178349252123], [-2.526122668581078, -2.4915941203864675, -0.8665735192538824, -3.843198455247002, -5.222751045261218, -1.2737860368451739, -3.335634257006193, -2.2764850857057986, -4.6559845088634075, -1.6191593394859074], [-2.526122668581078, -2.4915941203864675, -0.8665735192538824, -3.843198455247002, -5.222751045261218, -1.2737860368451739, -3.335634257006193, -2.2764850857057986, -4.6559845088634075, -1.6191593394859074], [-2.526122668581078, -3.543876988306242, -0.48830733484085365, -3.139321734858486, -5.222751045261218, -1.2737860368451739, -1.536234059556639, -2.2764850857057986, -4.6559845088634075, -2.4514178349252123], [-2.0081244358759456, -2.8437787862628388, -0.8665735192538824, -3.843198455247002, -5.222751045261218, -1.7039036618265355, -1.536234059556639, -2.2764850857057986, -3.995133734793293, -2.069258184693871]]\n"
     ]
    }
   ],
   "source": [
    "if __name__ == \"__main__\":\n",
    "    print(main())"
   ]
  },
  {
   "cell_type": "markdown",
   "metadata": {},
   "source": [
    "# タイプの作成"
   ]
  },
  {
   "cell_type": "markdown",
   "metadata": {},
   "source": [
    "## 適応度"
   ]
  },
  {
   "cell_type": "code",
   "execution_count": 36,
   "metadata": {},
   "outputs": [
    {
     "name": "stderr",
     "output_type": "stream",
     "text": [
      "/Users/miyamoto/.pyenv/versions/miniconda3-4.1.11/envs/py35/lib/python3.5/site-packages/deap/creator.py:141: RuntimeWarning: A class named 'FitnessMin' has already been created and it will be overwritten. Consider deleting previous creation of that class or rename it.\n",
      "  RuntimeWarning)\n"
     ]
    }
   ],
   "source": [
    "creator.create(\"FitnessMin\", base.Fitness, weights=(-1.0,))"
   ]
  },
  {
   "cell_type": "code",
   "execution_count": 38,
   "metadata": {},
   "outputs": [
    {
     "name": "stderr",
     "output_type": "stream",
     "text": [
      "/Users/miyamoto/.pyenv/versions/miniconda3-4.1.11/envs/py35/lib/python3.5/site-packages/deap/creator.py:141: RuntimeWarning: A class named 'FitnessMulti' has already been created and it will be overwritten. Consider deleting previous creation of that class or rename it.\n",
      "  RuntimeWarning)\n"
     ]
    }
   ],
   "source": [
    "creator.create(\"FitnessMulti\", base.Fitness, weights=(-1.0, 1.0))"
   ]
  },
  {
   "cell_type": "markdown",
   "metadata": {},
   "source": [
    "## 個体"
   ]
  },
  {
   "cell_type": "code",
   "execution_count": null,
   "metadata": {},
   "outputs": [],
   "source": []
  },
  {
   "cell_type": "markdown",
   "metadata": {},
   "source": [
    "## フロートのリスト"
   ]
  },
  {
   "cell_type": "code",
   "execution_count": 39,
   "metadata": {},
   "outputs": [
    {
     "name": "stderr",
     "output_type": "stream",
     "text": [
      "/Users/miyamoto/.pyenv/versions/miniconda3-4.1.11/envs/py35/lib/python3.5/site-packages/deap/creator.py:141: RuntimeWarning: A class named 'Individual' has already been created and it will be overwritten. Consider deleting previous creation of that class or rename it.\n",
      "  RuntimeWarning)\n"
     ]
    }
   ],
   "source": [
    "import random\n",
    "\n",
    "from deap import base\n",
    "from deap import creator\n",
    "from deap import tools\n",
    "\n",
    "creator.create(\"FitnessMax\", base.Fitness, weights=(1.0,))\n",
    "creator.create(\"Individual\", list, fitness=creator.FitnessMax)\n",
    "\n",
    "IND_SIZE=10\n",
    "\n",
    "toolbox = base.Toolbox()\n",
    "toolbox.register(\"attr_float\", random.random)\n",
    "toolbox.register(\"individual\", tools.initRepeat, creator.Individual,\n",
    "                 toolbox.attr_float, n=IND_SIZE)"
   ]
  },
  {
   "cell_type": "code",
   "execution_count": 44,
   "metadata": {},
   "outputs": [
    {
     "ename": "NameError",
     "evalue": "name 'array' is not defined",
     "output_type": "error",
     "traceback": [
      "\u001b[0;31m---------------------------------------------------------------------------\u001b[0m",
      "\u001b[0;31mNameError\u001b[0m                                 Traceback (most recent call last)",
      "\u001b[0;32m<ipython-input-44-f8ca5f5ffd4c>\u001b[0m in \u001b[0;36m<module>\u001b[0;34m()\u001b[0m\n\u001b[0;32m----> 1\u001b[0;31m \u001b[0mcreator\u001b[0m\u001b[0;34m.\u001b[0m\u001b[0mcreate\u001b[0m\u001b[0;34m(\u001b[0m\u001b[0;34m\"Individual\"\u001b[0m\u001b[0;34m,\u001b[0m \u001b[0marray\u001b[0m\u001b[0;34m,\u001b[0m \u001b[0mtypecode\u001b[0m\u001b[0;34m=\u001b[0m\u001b[0;34m\"d\"\u001b[0m\u001b[0;34m,\u001b[0m \u001b[0mfitness\u001b[0m\u001b[0;34m=\u001b[0m\u001b[0mcreator\u001b[0m\u001b[0;34m.\u001b[0m\u001b[0mFitnessMax\u001b[0m\u001b[0;34m)\u001b[0m\u001b[0;34m\u001b[0m\u001b[0m\n\u001b[0m\u001b[1;32m      2\u001b[0m \u001b[0mcreator\u001b[0m\u001b[0;34m.\u001b[0m\u001b[0mcreate\u001b[0m\u001b[0;34m(\u001b[0m\u001b[0;34m\"Individual\"\u001b[0m\u001b[0;34m,\u001b[0m \u001b[0mnp\u001b[0m\u001b[0;34m.\u001b[0m\u001b[0mndarray\u001b[0m\u001b[0;34m,\u001b[0m \u001b[0mfitness\u001b[0m\u001b[0;34m=\u001b[0m\u001b[0mcreator\u001b[0m\u001b[0;34m.\u001b[0m\u001b[0mFitnessMax\u001b[0m\u001b[0;34m)\u001b[0m\u001b[0;34m\u001b[0m\u001b[0m\n",
      "\u001b[0;31mNameError\u001b[0m: name 'array' is not defined"
     ]
    }
   ],
   "source": [
    "creator.create(\"Individual\", array, typecode=\"d\", fitness=creator.FitnessMax)\n",
    "creator.create(\"Individual\", np.ndarray, fitness=creator.FitnessMax)"
   ]
  },
  {
   "cell_type": "markdown",
   "metadata": {},
   "source": [
    "## 順列 Permutation"
   ]
  },
  {
   "cell_type": "code",
   "execution_count": 45,
   "metadata": {},
   "outputs": [
    {
     "name": "stderr",
     "output_type": "stream",
     "text": [
      "/Users/miyamoto/.pyenv/versions/miniconda3-4.1.11/envs/py35/lib/python3.5/site-packages/deap/creator.py:141: RuntimeWarning: A class named 'FitnessMin' has already been created and it will be overwritten. Consider deleting previous creation of that class or rename it.\n",
      "  RuntimeWarning)\n",
      "/Users/miyamoto/.pyenv/versions/miniconda3-4.1.11/envs/py35/lib/python3.5/site-packages/deap/creator.py:141: RuntimeWarning: A class named 'Individual' has already been created and it will be overwritten. Consider deleting previous creation of that class or rename it.\n",
      "  RuntimeWarning)\n"
     ]
    }
   ],
   "source": [
    "import random\n",
    "\n",
    "from deap import base\n",
    "from deap import creator\n",
    "from deap import tools\n",
    "\n",
    "creator.create(\"FitnessMin\", base.Fitness, weights=(-1.0,))\n",
    "creator.create(\"Individual\", list, fitness=creator.FitnessMin)\n",
    "\n",
    "IND_SIZE=10\n",
    "\n",
    "toolbox = base.Toolbox()\n",
    "toolbox.register(\"indices\", random.sample, range(IND_SIZE), IND_SIZE)\n",
    "toolbox.register(\"individual\", tools.initIterate, creator.Individual,\n",
    "                 toolbox.indices)\n"
   ]
  },
  {
   "cell_type": "markdown",
   "metadata": {},
   "source": [
    "## 算術式"
   ]
  },
  {
   "cell_type": "code",
   "execution_count": 46,
   "metadata": {},
   "outputs": [
    {
     "name": "stderr",
     "output_type": "stream",
     "text": [
      "/Users/miyamoto/.pyenv/versions/miniconda3-4.1.11/envs/py35/lib/python3.5/site-packages/deap/creator.py:141: RuntimeWarning: A class named 'FitnessMin' has already been created and it will be overwritten. Consider deleting previous creation of that class or rename it.\n",
      "  RuntimeWarning)\n",
      "/Users/miyamoto/.pyenv/versions/miniconda3-4.1.11/envs/py35/lib/python3.5/site-packages/deap/creator.py:141: RuntimeWarning: A class named 'Individual' has already been created and it will be overwritten. Consider deleting previous creation of that class or rename it.\n",
      "  RuntimeWarning)\n"
     ]
    }
   ],
   "source": [
    "import operator\n",
    "\n",
    "from deap import base\n",
    "from deap import creator\n",
    "from deap import gp\n",
    "from deap import tools\n",
    "\n",
    "pset = gp.PrimitiveSet(\"MAIN\", arity=1)\n",
    "pset.addPrimitive(operator.add, 2)\n",
    "pset.addPrimitive(operator.sub, 2)\n",
    "pset.addPrimitive(operator.mul, 2)\n",
    "\n",
    "creator.create(\"FitnessMin\", base.Fitness, weights=(-1.0,))\n",
    "creator.create(\"Individual\", gp.PrimitiveTree, fitness=creator.FitnessMin,\n",
    "               pset=pset)\n",
    "\n",
    "toolbox = base.Toolbox()\n",
    "toolbox.register(\"expr\", gp.genHalfAndHalf, pset=pset, min_=1, max_=2)\n",
    "toolbox.register(\"individual\", tools.initIterate, creator.Individual,\n",
    "                 toolbox.expr)"
   ]
  },
  {
   "cell_type": "markdown",
   "metadata": {},
   "source": [
    "# 演算子とアルゴリズム"
   ]
  },
  {
   "cell_type": "markdown",
   "metadata": {},
   "source": [
    "## 最初の個体"
   ]
  },
  {
   "cell_type": "code",
   "execution_count": 47,
   "metadata": {},
   "outputs": [
    {
     "name": "stderr",
     "output_type": "stream",
     "text": [
      "/Users/miyamoto/.pyenv/versions/miniconda3-4.1.11/envs/py35/lib/python3.5/site-packages/deap/creator.py:141: RuntimeWarning: A class named 'FitnessMin' has already been created and it will be overwritten. Consider deleting previous creation of that class or rename it.\n",
      "  RuntimeWarning)\n",
      "/Users/miyamoto/.pyenv/versions/miniconda3-4.1.11/envs/py35/lib/python3.5/site-packages/deap/creator.py:141: RuntimeWarning: A class named 'Individual' has already been created and it will be overwritten. Consider deleting previous creation of that class or rename it.\n",
      "  RuntimeWarning)\n"
     ]
    }
   ],
   "source": [
    "import random\n",
    "\n",
    "from deap import base\n",
    "from deap import creator\n",
    "from deap import tools\n",
    "\n",
    "IND_SIZE = 5\n",
    "\n",
    "creator.create(\"FitnessMin\", base.Fitness, weights=(-1.0, -1.0))\n",
    "creator.create(\"Individual\", list, fitness=creator.FitnessMin)\n",
    "\n",
    "toolbox = base.Toolbox()\n",
    "toolbox.register(\"attr_float\", random.random)\n",
    "toolbox.register(\"individual\", tools.initRepeat, creator.Individual,\n",
    "                 toolbox.attr_float, n=IND_SIZE)"
   ]
  },
  {
   "cell_type": "code",
   "execution_count": 48,
   "metadata": {},
   "outputs": [
    {
     "name": "stdout",
     "output_type": "stream",
     "text": [
      "[0.093838437199392, 0.037988598965098985, 0.9391797298936297, 0.1654577597684821, 0.6640481733773015]\n",
      "False\n"
     ]
    }
   ],
   "source": [
    "ind1 = toolbox.individual()\n",
    "\n",
    "print(ind1)               # [0.86..., 0.27..., 0.70..., 0.03..., 0.87...]\n",
    "print(ind1.fitness.valid) # False"
   ]
  },
  {
   "cell_type": "markdown",
   "metadata": {},
   "source": [
    "## 評価"
   ]
  },
  {
   "cell_type": "code",
   "execution_count": 51,
   "metadata": {},
   "outputs": [
    {
     "name": "stdout",
     "output_type": "stream",
     "text": [
      "True\n",
      "(1.900512699203904, 0.2)\n"
     ]
    }
   ],
   "source": [
    "def evaluate(individual):\n",
    "    # Do some hard computing on the individual\n",
    "    a = sum(individual)\n",
    "    b = len(individual)\n",
    "    return a, 1. / b\n",
    "\n",
    "ind1.fitness.values = evaluate(ind1)\n",
    "print(ind1.fitness.valid)    # True\n",
    "print(ind1.fitness)          # (2.73, 0.2)"
   ]
  },
  {
   "cell_type": "code",
   "execution_count": null,
   "metadata": {},
   "outputs": [],
   "source": []
  }
 ],
 "metadata": {
  "kernelspec": {
   "display_name": "Python 3",
   "language": "python",
   "name": "python3"
  },
  "language_info": {
   "codemirror_mode": {
    "name": "ipython",
    "version": 3
   },
   "file_extension": ".py",
   "mimetype": "text/x-python",
   "name": "python",
   "nbconvert_exporter": "python",
   "pygments_lexer": "ipython3",
   "version": "3.5.5"
  }
 },
 "nbformat": 4,
 "nbformat_minor": 2
}
