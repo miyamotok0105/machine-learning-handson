{
 "cells": [
  {
   "cell_type": "markdown",
   "metadata": {},
   "source": [
    "# 連鎖律とは"
   ]
  },
  {
   "cell_type": "markdown",
   "metadata": {},
   "source": [
    "まずは合成関数から話す必要がある。合成関数は関数の集まり。"
   ]
  },
  {
   "cell_type": "markdown",
   "metadata": {},
   "source": [
    "$z = t^2$\n",
    "\n",
    "$t = x + y$\n",
    "\n",
    "これは2つの式で構成される。    \n",
    "連鎖律は合成関数の微分についての性質。    \n",
    "\n",
    "[合成関数の微分は、合成関数を構成するそれぞれの関数の微分の積で表せる。]    "
   ]
  },
  {
   "cell_type": "markdown",
   "metadata": {},
   "source": [
    "# 逆伝播"
   ]
  },
  {
   "cell_type": "markdown",
   "metadata": {},
   "source": [
    "## 加算ノードの逆伝播"
   ]
  },
  {
   "cell_type": "markdown",
   "metadata": {},
   "source": [
    "前節で計算グラフの逆伝播が連鎖律によって成り立つことを説明した。　ここでは加算、乗算で逆伝播する。"
   ]
  },
  {
   "cell_type": "code",
   "execution_count": null,
   "metadata": {},
   "outputs": [],
   "source": []
  },
  {
   "cell_type": "markdown",
   "metadata": {},
   "source": [
    "### 加算ノード"
   ]
  },
  {
   "cell_type": "code",
   "execution_count": 3,
   "metadata": {},
   "outputs": [],
   "source": [
    "class AddLayer:\n",
    "    def __init__(self):\n",
    "        pass\n",
    "\n",
    "    def forward(self, x, y):\n",
    "        out = x + y\n",
    "\n",
    "        return out\n",
    "\n",
    "    def backward(self, dout):\n",
    "        dx = dout * 1\n",
    "        dy = dout * 1\n",
    "\n",
    "        return dx, dy"
   ]
  },
  {
   "cell_type": "code",
   "execution_count": 9,
   "metadata": {},
   "outputs": [
    {
     "name": "stdout",
     "output_type": "stream",
     "text": [
      "price: 600\n",
      "dApple: 1\n",
      "d_apple2: 1\n",
      "d_apple_price1: 1\n",
      "d_apple3: 1\n"
     ]
    }
   ],
   "source": [
    "#100,200,300円のりんごを足すサンプル\n",
    "apple1 = 100\n",
    "apple2 = 200\n",
    "apple3 = 300\n",
    "\n",
    "add_apple_layer = AddLayer()\n",
    "\n",
    "# forward\n",
    "apple_price1 = add_apple_layer.forward(apple1, apple2)\n",
    "apple_price2 = add_apple_layer.forward(apple_price1, apple3)\n",
    "\n",
    "# backward\n",
    "dprice = 1\n",
    "d_apple_price1, d_apple3 = add_apple_layer.backward(dprice)\n",
    "dapple, d_apple2 = add_apple_layer.backward(d_apple_price1)\n",
    "\n",
    "print(\"price:\", int(apple_price2))\n",
    "print(\"dApple:\", dapple)\n",
    "print(\"d_apple2:\", d_apple2)\n",
    "print(\"d_apple_price1:\", d_apple_price1)\n",
    "print(\"d_apple3:\", d_apple3)"
   ]
  },
  {
   "cell_type": "markdown",
   "metadata": {},
   "source": [
    "加算の場合は1がそのまま戻ってくる。"
   ]
  },
  {
   "cell_type": "markdown",
   "metadata": {},
   "source": [
    "### 乗算ノード"
   ]
  },
  {
   "cell_type": "code",
   "execution_count": 12,
   "metadata": {},
   "outputs": [],
   "source": [
    "class MulLayer:\n",
    "    def __init__(self):\n",
    "        self.x = None\n",
    "        self.y = None\n",
    "\n",
    "    def forward(self, x, y):\n",
    "        self.x = x #順伝播の時に値を残しておく。x\n",
    "        self.y = y  #順伝播の時に値を残しておく。y\n",
    "        out = x * y\n",
    "\n",
    "        return out\n",
    "\n",
    "    def backward(self, dout):\n",
    "        dx = dout * self.y\n",
    "        dy = dout * self.x\n",
    "\n",
    "        return dx, dy\n"
   ]
  },
  {
   "cell_type": "code",
   "execution_count": 15,
   "metadata": {},
   "outputs": [
    {
     "name": "stdout",
     "output_type": "stream",
     "text": [
      "price: 600\n",
      "dApple: 9\n",
      "d_num: 600\n",
      "d_apple_price1: 3\n",
      "d_backet_num: 200\n"
     ]
    }
   ],
   "source": [
    "#りんごを2個掛けて　そのセットを3個掛けるサンプルの良くない例\n",
    "\n",
    "apple1 = 100\n",
    "num = 2\n",
    "backet_num = 3\n",
    "\n",
    "mul_apple_layer = MulLayer() #これはダメ\n",
    "#値を保持してるのでレイヤー分けてね\n",
    "\n",
    "# forward\n",
    "apple_price1 = mul_apple_layer.forward(apple1, num)\n",
    "apple_price2 = mul_apple_layer.forward(apple_price1, backet_num)\n",
    "\n",
    "# backward\n",
    "dprice = 1\n",
    "d_apple_price1, d_backet_num = mul_apple_layer.backward(dprice)\n",
    "dapple, d_num = mul_apple_layer.backward(d_apple_price1)\n",
    "\n",
    "print(\"price:\", int(apple_price2))\n",
    "print(\"dApple:\", dapple)\n",
    "print(\"d_num:\", d_num)\n",
    "print(\"d_apple_price1:\", d_apple_price1)\n",
    "print(\"d_backet_num:\", d_backet_num)"
   ]
  },
  {
   "cell_type": "code",
   "execution_count": 16,
   "metadata": {},
   "outputs": [
    {
     "name": "stdout",
     "output_type": "stream",
     "text": [
      "price: 600\n",
      "dApple: 6\n",
      "d_num: 300\n",
      "d_apple_price1: 3\n",
      "d_backet_num: 200\n"
     ]
    }
   ],
   "source": [
    "#りんごを2個掛けて　そのセットを3個掛けるサンプル\n",
    "apple1 = 100\n",
    "num = 2\n",
    "backet_num = 3\n",
    "\n",
    "mul_apple_layer1 = MulLayer()\n",
    "mul_apple_layer2 = MulLayer()\n",
    "\n",
    "# forward\n",
    "apple_price1 = mul_apple_layer1.forward(apple1, num)\n",
    "apple_price2 = mul_apple_layer2.forward(apple_price1, backet_num)\n",
    "\n",
    "# backward\n",
    "dprice = 1\n",
    "d_apple_price1, d_backet_num = mul_apple_layer2.backward(dprice)\n",
    "dapple, d_num = mul_apple_layer1.backward(d_apple_price1)\n",
    "\n",
    "print(\"price:\", int(apple_price2))\n",
    "print(\"dApple:\", dapple)\n",
    "print(\"d_num:\", d_num)\n",
    "print(\"d_apple_price1:\", d_apple_price1)\n",
    "print(\"d_backet_num:\", d_backet_num)"
   ]
  },
  {
   "cell_type": "markdown",
   "metadata": {},
   "source": [
    "# りんごの例"
   ]
  },
  {
   "cell_type": "code",
   "execution_count": 5,
   "metadata": {},
   "outputs": [
    {
     "name": "stdout",
     "output_type": "stream",
     "text": [
      "price: 220\n",
      "dApple: 2.2\n",
      "dApple_num: 110\n",
      "dTax: 200\n"
     ]
    }
   ],
   "source": [
    "apple = 100\n",
    "apple_num = 2\n",
    "tax = 1.1\n",
    "\n",
    "mul_apple_layer = MulLayer()\n",
    "mul_tax_layer = MulLayer()\n",
    "\n",
    "# forward\n",
    "apple_price = mul_apple_layer.forward(apple, apple_num)\n",
    "price = mul_tax_layer.forward(apple_price, tax)\n",
    "\n",
    "# backward\n",
    "dprice = 1\n",
    "dapple_price, dtax = mul_tax_layer.backward(dprice)\n",
    "dapple, dapple_num = mul_apple_layer.backward(dapple_price)\n",
    "\n",
    "print(\"price:\", int(price))\n",
    "print(\"dApple:\", dapple)\n",
    "print(\"dApple_num:\", int(dapple_num))\n",
    "print(\"dTax:\", dtax)"
   ]
  },
  {
   "cell_type": "code",
   "execution_count": null,
   "metadata": {},
   "outputs": [],
   "source": []
  }
 ],
 "metadata": {
  "kernelspec": {
   "display_name": "Python 3",
   "language": "python",
   "name": "python3"
  },
  "language_info": {
   "codemirror_mode": {
    "name": "ipython",
    "version": 3
   },
   "file_extension": ".py",
   "mimetype": "text/x-python",
   "name": "python",
   "nbconvert_exporter": "python",
   "pygments_lexer": "ipython3",
   "version": "3.5.5"
  }
 },
 "nbformat": 4,
 "nbformat_minor": 2
}
