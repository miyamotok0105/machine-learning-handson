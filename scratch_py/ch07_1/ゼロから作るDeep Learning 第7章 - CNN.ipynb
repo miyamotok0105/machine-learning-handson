{
 "cells": [
  {
   "cell_type": "markdown",
   "metadata": {},
   "source": [
    "# 畳み込みニューラルネットワーク\n",
    "\n",
    "-  Convolutional neural network (CNN) とも呼ばれる\n",
    "-  画像認識や音声認識などに使用されている。\n",
    "-  画像認識コンペティションで多くが利用 (ILSVRC - ImageNet Large-Scale Visual Recognition Challenge)。\n",
    "-  その他にも、動画解析、自然言語認識、新薬発見、囲碁なども（Wiki参照）"
   ]
  },
  {
   "cell_type": "markdown",
   "metadata": {},
   "source": [
    "## CNNの構造 (7.1)\n",
    "以下の２つの層からなる\n",
    "-  Convolutionレイヤー（畳み込み層）\n",
    "-  Poolingレイヤー　（プーリング層 - 省略されることがある）"
   ]
  },
  {
   "cell_type": "markdown",
   "metadata": {},
   "source": [
    "## CNNの特徴 (7.1)\n",
    "主な特徴として、Affineレイヤーとして実装した全結合（fully-connected）ネットワークと異なる。\n",
    "\n",
    "\n",
    "__全結合ネットワークの例__\n",
    "<img src=\"./img/7-1a.png\" />\n",
    "\n",
    "__CNNネットワークの例__\n",
    "<img src=\"./img/7-1b.png\" />\n",
    "*畳み込みレイヤがAffineレイヤを置き換え、さらに活性化関数の出力をプーリングレイヤで処理する。最後の出力層ではAffineレイヤが使われる。*\n",
    "\n",
    "\n",
    "***"
   ]
  },
  {
   "cell_type": "markdown",
   "metadata": {
    "collapsed": true
   },
   "source": [
    "# 全結合層の問題点(7.2.1)\n",
    "- ２次元、３次元のデータを１次元に変換してしまう（形状が損失）。\n",
    "\n",
    "## 畳み込み層の利点\n",
    "- 近いピクセルの方が、遠いピクセルより関わりがある。\n",
    "- RGBのチャンネル間にも密接な関連性が\n",
    "- 畳み込み層は、３次元の入力データ（入力特徴マップ ー Input Feature Map）を同じく３次元の出力データ（出力特徴マップ　ー　Output Feature Map）で次の層に送るので形状が保たれる。"
   ]
  },
  {
   "cell_type": "markdown",
   "metadata": {},
   "source": [
    "# 畳み込み層演算\n",
    "__画像処理でいうフィルター演算__\n",
    "<img src=\"./img/7-2-2a.png\" />\n",
    "\n",
    "***\n",
    "\n",
    "__畳み込み演算の流れ__<br/>\n",
    "*フィルターを一定間隔でスライドさせながら、それぞれの場所でフィルターと入力の対応する要素の積を求め、その和を出力（__積和演算__）*\n",
    "<img src=\"./img/7-2-2b.png\" />\n",
    "\n",
    "***\n",
    "\n",
    "__畳み込み演算のバイアス__<br/>\n",
    "*畳み込み演算ではバイアスの加算もある。フィルターを重みパラメーターとみなせば、バイアスを足すと全結合ネットワークと同じ演算（__X＊W＋B__）となる。但し、フィルター適用後の要素（図では４つ）に対し、バイアスは一つのみ。それぞれの要素に同じ値を加算する。*\n",
    "<img src=\"./img/7-2-2c.png\" />\n",
    "\n",
    "***\n",
    "\n",
    "__パディング__<br/>\n",
    "入力データの周囲に、一定の幅の固定データ（０など）を埋める処理。出力データのサイズを調整できる。畳み込み演算では、繰り返すたびに空間的に縮小するため、ある時点で出力サイズが１になってしまうことを防ぐ。以下の例では、４x４の入力サイズに対し、４x４の出力サイズを保つ。\n",
    "<img src=\"./img/7-2-3.png\" />\n",
    "\n",
    "***\n",
    "\n",
    "__ストライド__<br/>\n",
    "フィルターを適用する際の動かす位置の間隔（前例ではストライド１）。以下の例ではストライド２。ストライドを大きくすると、出力サイズは小さくなる。\n",
    "<img src=\"./img/7-2-4.png\" />\n",
    "\n",
    "入力サイズ（H,W）とフィルターサイズ（FH、FW）、出力サイズを（OH, OW）、パディングをP、ストライドをSとすると出力サイズは、以下の式で計算できる。<br/>\n",
    "<br/>\n",
    "__\n",
    "$$OH = \\frac{H+2P-FH}{S} + 1$$\n",
    "$$OW = \\frac{W+2P-FW}{S} + 1$$\n",
    "__\n",
    "<br/>\n",
    "入力（4,4）、フィルター(3,3)、パディング(1)、ストライド(1)\n",
    "\n",
    "$$OH = \\frac{4+2\\cdot1-3}{1} + 1 = 4$$\n",
    "$$OW = \\frac{4+2\\cdot1-3}{1} + 1 = 4$$\n",
    "\n",
    "入力（7,7）、フィルター(3,3)、パディング(0)、ストライド(2)\n",
    "\n",
    "$$OH = \\frac{7+2\\cdot0-3}{2} + 1 = 3$$\n",
    "$$OW = \\frac{7+2\\cdot0-3}{2} + 1 = 3$$\n",
    "\n",
    "入力（28,31）、フィルター(3,3)、パディング(1)、ストライド(1)\n",
    "\n",
    "$$OH = \\frac{28+2\\cdot2-5}{3} + 1 = 10$$\n",
    "$$OW = \\frac{31+2\\cdot2-5}{3} + 1 = 11$$\n",
    "\n",
    "__注意点__<br/>\n",
    "式の結果は整数でないといけないので、出力サイズが割り切れるように値を設定するか、エラーを出すなどして実装する。<br/>最も近い整数に丸めてしまう実装方法もある。\n",
    "***\n"
   ]
  },
  {
   "cell_type": "markdown",
   "metadata": {},
   "source": [
    "# 3次元データの畳み込み演算(7.2.6)\n",
    "縦、横の２次元の形状に加え、奥行き（チャンネル）を加えた３次元の形状を対象とした演算もできる。その際、チャンネル毎に入力データとフィルターの畳み込み演算を行い、その結果を加算する。そのため、出力データはチャンネル数が１に減る。\n",
    "<img src=\"./img/7-2-5.png\" />\n",
    "<br/>\n",
    "__３次元畳み込み演算の手順__\n",
    "<br/>\n",
    "<img src=\"./img/7-2-5b.png\" />\n",
    "\n",
    "__注意点__\n",
    "入力データのチャンネル数に対し、同じチャンネル数のフィルターを用意する必要がある。フィルターのサイズに制約はない。"
   ]
  },
  {
   "cell_type": "markdown",
   "metadata": {},
   "source": [
    "# 3次元の畳み込み演算をブロックで考える。(7.2.6)\n",
    "データやフィルターを直方体のブロックで考えると分かり易い。３次元データを多次元配列で表す時は、（Channel, Height, Width）の順に並べて書く。チャンネル数C、高さH、横幅Wのデータは（C,H,W）と書く。\n",
    "\n",
    "同じく、フィルターも、チャンネル数C、高さFH(Filter Height)、横幅FW(Filter Width)の場合、(C,FH,FW)と書く。\n",
    "\n",
    "<img src=\"./img/7-2-6.png\" />\n",
    "\n",
    "フィルターを複数（FN個）使えば、出力マップもチャンネル方向に複数個（FN個）出力できる。\n",
    "\n",
    "<img src=\"./img/7-2-6b.png\" />\n",
    "\n",
    "さらに、バイアスも（FN個）加算することができる。フィルターの出力に対しチャンネル方向分、同じ値が加算される。\n",
    "\n",
    "<img src=\"./img/7-2-6d.png\" />\n",
    "\n",
    "# バッチ処理(7.2.7)\n",
    "\n",
    "バッチ数、チャンネル数、高さ、横幅（N,C,H,W）の順に４次元のデータとして格納することによって、畳み込み演算もバッチ処理に対応可能。\n",
    "\n",
    "<img src=\"./img/7-2-6e.png\" />\n",
    "\n",
    "***"
   ]
  },
  {
   "cell_type": "markdown",
   "metadata": {},
   "source": [
    "# プーリング層(7.3)\n",
    "プーリング演算によって、縦、横の空間を小さくできる。以下の例では、2x2の領域の最大値を取り（Maxプーリング）、１つにまとめている。平均値を取るAverageプーリングもあるが、画像認識では、Maxプーリングが主に使われている。\n",
    "\n",
    "<img src=\"./img/7-3.png\" />\n",
    "\n",
    "一般的に、プーリングのウインドウのサイズとストライドは同じ値に設定する。上の例（2x2）では、ストライドは２に、3x3のウインドウはストライド3、4x4のウインドウはストライド4。\n",
    "\n",
    "\n",
    "# プーリング層の特徴\n",
    "\n",
    "__学習パラメータがない__\n",
    "対象領域から最大値を取るだけの処理なので、学習すべきパラメータが存在しない。\n",
    "\n",
    "__チャンネル数は変化しない__\n",
    "チャンネル毎に独立して計算されるので、入力データと出力データのチャンネル数は変化しない。\n",
    "\n",
    "<img src=\"./img/7-3-1.png\" />\n",
    "\n",
    "__微小な位置変化に対してロバスト（頑健）__\n",
    "入力データが少しズレても、結果は大体同じとなる。必ず一致するとは限らないが、以下の例ではプーリング後に同じ結果が出力されている。\n",
    "\n",
    "<img src=\"./img/7-3-1b.png\" />"
   ]
  },
  {
   "cell_type": "markdown",
   "metadata": {},
   "source": [
    "# Convolution / Poolingレイヤの実装\n",
    "\n",
    "畳み込み層とプーリング層の実装でもforwardとbackwardという二つのメソッドを用意し、誤差逆伝播法で損失が求められるようにする。\n",
    "\n",
    "CNNの各層を流れるデータは４次元。<br/>\n",
    "以下の例では、高さ28、横幅28で、1チャンネルのデータが10個ある(10,1,28,28)。"
   ]
  },
  {
   "cell_type": "code",
   "execution_count": 7,
   "metadata": {},
   "outputs": [
    {
     "name": "stdout",
     "output_type": "stream",
     "text": [
      "(10, 1, 28, 28)\n",
      "(1, 28, 28)\n",
      "(1, 28, 28)\n"
     ]
    }
   ],
   "source": [
    "import numpy as np\n",
    "\n",
    "x = np.random.rand(10, 1, 28, 28) # ランダムにデータを生成\n",
    "\n",
    "print(x.shape)\n",
    "\n",
    "print(x[0].shape) #1個目のデータ\n",
    "print(x[1].shape) #2個目のデータ\n",
    "\n",
    "#1個目の1チャンネル目のデータ\n",
    "#print(x[0,0]) "
   ]
  },
  {
   "cell_type": "code",
   "execution_count": null,
   "metadata": {
    "collapsed": true
   },
   "outputs": [],
   "source": []
  },
  {
   "cell_type": "markdown",
   "metadata": {},
   "source": [
    "## im2colによる展開\n",
    "実装はfor文を幾重にも重ねた複雑な物になるので、im2col (Image to Column)という関数を使って、シンプルに実装する。\n",
    "\n",
    "im2colは３次元データを、フィルターの適用領域を一つずつ１列に展開する。展開後の要素の数が元のブロックの要素数より多くなりメモリを消費するが、最適化された行列計算のライブラリ(NumPy)が使用できる点ではコンピュータで計算する上で多くの恩恵がある。\n",
    "\n",
    "<img src=\"./img/7-4-2.png\" width=\"320\" />\n",
    "\n",
    "**im2colを使用したフィルター処理**\n",
    "\n",
    "<img src=\"./img/7-4-2b.png\" />\n"
   ]
  },
  {
   "cell_type": "code",
   "execution_count": 8,
   "metadata": {},
   "outputs": [
    {
     "name": "stdout",
     "output_type": "stream",
     "text": [
      "(9, 75)\n",
      "(90, 75)\n"
     ]
    }
   ],
   "source": [
    "import sys, os\n",
    "sys.path.append(os.pardir)\n",
    "from common.util import im2col\n",
    "\n",
    "x1 = np.random.rand(1, 3, 7, 7) #7x7、チャンネル3のインプットデータ\n",
    "col1 = im2col(x1, 5, 5, stride=1, pad=0) #5x5のフィルタ\n",
    "print(col1.shape) # (9, 75) \n",
    "\n",
    "x2 = np.random.rand(10, 3, 7, 7) # 10 個のインプットデータ\n",
    "col2 = im2col(x2, 5, 5, stride=1, pad=0)\n",
    "print(col2.shape) # (90, 75)"
   ]
  },
  {
   "cell_type": "markdown",
   "metadata": {},
   "source": [
    "# Convolutionレイヤの実装(7.4.3)\n",
    "Convolutionレイヤのソースコードはcommon/layers.pyを参照\n"
   ]
  },
  {
   "cell_type": "code",
   "execution_count": 9,
   "metadata": {
    "collapsed": true
   },
   "outputs": [],
   "source": [
    "class Convolution:\n",
    "    def __init__(self, W, b, stride=1, pad=0):\n",
    "        self.W = W\n",
    "        self.b = b\n",
    "        self.stride = stride\n",
    "        self.pad = pad\n",
    "        \n",
    "        # 中間データ（backward時に使用）\n",
    "        self.x = None   \n",
    "        self.col = None\n",
    "        self.col_W = None\n",
    "        \n",
    "        # 重み・バイアスパラメータの勾配\n",
    "        self.dW = None\n",
    "        self.db = None\n",
    "\n",
    "    def forward(self, x):\n",
    "        FN, C, FH, FW = self.W.shape\n",
    "        N, C, H, W = x.shape\n",
    "        out_h = 1 + int((H + 2*self.pad - FH) / self.stride)\n",
    "        out_w = 1 + int((W + 2*self.pad - FW) / self.stride)\n",
    "\n",
    "        col = im2col(x, FH, FW, self.stride, self.pad)\n",
    "        col_W = self.W.reshape(FN, -1).T #フィルターの展開\n",
    "        #col入力とcol_Wのフィルターを展開したものの内積\n",
    "        out = np.dot(col, col_W) + self.b #フィルター演算＋バイアス\n",
    "        \n",
    "        out = out.reshape(N, out_h, out_w, -1).transpose(0, 3, 1, 2)\n",
    "\n",
    "        self.x = x\n",
    "        self.col = col\n",
    "        self.col_W = col_W\n",
    "\n",
    "        return out\n",
    "\n",
    "    def backward(self, dout):\n",
    "        FN, C, FH, FW = self.W.shape\n",
    "        dout = dout.transpose(0,2,3,1).reshape(-1, FN)\n",
    "\n",
    "        self.db = np.sum(dout, axis=0)\n",
    "        #内積の場合は逆にして内積を取るのがバックプロップだった。\n",
    "        #doutとcolの内積でdWの重みの微分\n",
    "        self.dW = np.dot(self.col.T, dout)\n",
    "        self.dW = self.dW.transpose(1, 0).reshape(FN, C, FH, FW)\n",
    "\n",
    "        #doutとcol_Wの内積でdcol入力の重みの微分\n",
    "        dcol = np.dot(dout, self.col_W.T)\n",
    "        dx = col2im(dcol, self.x.shape, FH, FW, self.stride, self.pad)\n",
    "\n",
    "        return dx"
   ]
  },
  {
   "cell_type": "markdown",
   "metadata": {},
   "source": [
    "最後にあるtransposeは（N,H,W,C）の順番を入れ替え、(N,C,H,W)に置き換える。\n"
   ]
  },
  {
   "cell_type": "markdown",
   "metadata": {},
   "source": [
    "# Poolingレイヤの実装\n",
    "\n",
    "Convolutionレイヤと同じくim2colを使って入力データを展開する。\n",
    "<img src=\"./img/7-4-4.png\" width=\"400\" />\n",
    "\n",
    "展開後は、それぞれの領域の最大値をピックアップし、それを適切な出力サイズに整形する。\n",
    "<img src=\"./img/7-4-4b.png\" />"
   ]
  },
  {
   "cell_type": "code",
   "execution_count": null,
   "metadata": {
    "collapsed": true
   },
   "outputs": [],
   "source": [
    "class Pooling:\n",
    "    def __init__(self, pool_h, pool_w, stride=1, pad=0):\n",
    "        self.pool_h = pool_h\n",
    "        self.pool_w = pool_w\n",
    "        self.stride = stride\n",
    "        self.pad = pad\n",
    "        \n",
    "        self.x = None\n",
    "        self.arg_max = None\n",
    "\n",
    "    def forward(self, x):\n",
    "        N, C, H, W = x.shape\n",
    "        out_h = int(1 + (H - self.pool_h) / self.stride)\n",
    "        out_w = int(1 + (W - self.pool_w) / self.stride)\n",
    "\n",
    "        col = im2col(x, self.pool_h, self.pool_w, self.stride, self.pad)\n",
    "        col = col.reshape(-1, self.pool_h*self.pool_w)\n",
    "\n",
    "        arg_max = np.argmax(col, axis=1)\n",
    "        out = np.max(col, axis=1) #numpyのmax関数\n",
    "        out = out.reshape(N, out_h, out_w, C).transpose(0, 3, 1, 2)\n",
    "\n",
    "        self.x = x\n",
    "        self.arg_max = arg_max\n",
    "\n",
    "        return out\n",
    "\n",
    "    def backward(self, dout): # 5.5.1　ReLUレイヤの逆伝播を参考\n",
    "        dout = dout.transpose(0, 2, 3, 1)\n",
    "        \n",
    "        pool_size = self.pool_h * self.pool_w\n",
    "        dmax = np.zeros((dout.size, pool_size))\n",
    "        dmax[np.arange(self.arg_max.size), self.arg_max.flatten()] = dout.flatten()\n",
    "        dmax = dmax.reshape(dout.shape + (pool_size,)) \n",
    "        \n",
    "        dcol = dmax.reshape(dmax.shape[0] * dmax.shape[1] * dmax.shape[2], -1)\n",
    "        dx = col2im(dcol, self.x.shape, self.pool_h, self.pool_w, self.stride, self.pad)\n",
    "        \n",
    "        return dx\n"
   ]
  },
  {
   "cell_type": "markdown",
   "metadata": {},
   "source": [
    "# CNNの実装\n",
    "\n",
    "ソースコードはsimple_convnet.pyにある。\n",
    "\n",
    "単純なCNNの演算手順\n",
    "<img src=\"./img/7-6.png\" />\n",
    "\n",
    "__引数__\n",
    "\n",
    "- __input_dim__ *入力データの（チャンネル、高さ、幅）*\n",
    "- __conv_param__　*ハイパーパラメータ（ディクショナリ）*\n",
    "    - __filter_num__　*フィルターの数*\n",
    "    - __filter_size__　*フィルターのサイズ*\n",
    "    - __stride__　*ストライド*\n",
    "    - __pad__　*パディング*\n",
    "    <br/>\n",
    "- __hidden_size__　*隠れ層（全結合）のニューロンの数*\n",
    "- __output_size__　*出力層（全結合）のニューロンの数*\n",
    "- __weight_init_std__　*初期化の際の重みの標準偏差*\n"
   ]
  },
  {
   "cell_type": "code",
   "execution_count": null,
   "metadata": {
    "collapsed": true
   },
   "outputs": [],
   "source": [
    "# coding: utf-8\n",
    "import sys, os\n",
    "sys.path.append(os.pardir)  # 親ディレクトリのファイルをインポートするための設定\n",
    "import pickle\n",
    "import numpy as np\n",
    "from collections import OrderedDict\n",
    "from common.layers import *\n",
    "from common.gradient import numerical_gradient\n",
    "\n",
    "\n",
    "class SimpleConvNet:\n",
    "    \"\"\"単純なConvNet\n",
    "\n",
    "    conv - relu - pool - affine - relu - affine - softmax\n",
    "    \n",
    "    Parameters\n",
    "    ----------\n",
    "    input_size : 入力サイズ（MNISTの場合は784）\n",
    "    hidden_size_list : 隠れ層のニューロンの数のリスト（e.g. [100, 100, 100]）\n",
    "    output_size : 出力サイズ（MNISTの場合は10）\n",
    "    activation : 'relu' or 'sigmoid'\n",
    "    weight_init_std : 重みの標準偏差を指定（e.g. 0.01）\n",
    "        'relu'または'he'を指定した場合は「Heの初期値」を設定\n",
    "        'sigmoid'または'xavier'を指定した場合は「Xavierの初期値」を設定\n",
    "    \"\"\"\n",
    "    def __init__(self, input_dim=(1, 28, 28), \n",
    "                 conv_param={'filter_num':30, 'filter_size':5, 'pad':0, 'stride':1},\n",
    "                 hidden_size=100, output_size=10, weight_init_std=0.01):\n",
    "        filter_num = conv_param['filter_num']\n",
    "        filter_size = conv_param['filter_size']\n",
    "        filter_pad = conv_param['pad']\n",
    "        filter_stride = conv_param['stride']\n",
    "        input_size = input_dim[1]\n",
    "        conv_output_size = (input_size - filter_size + 2*filter_pad) / filter_stride + 1\n",
    "        pool_output_size = int(filter_num * (conv_output_size/2) * (conv_output_size/2))\n",
    "\n",
    "        # 重みの初期化\n",
    "        self.params = {}\n",
    "        self.params['W1'] = weight_init_std * \\\n",
    "                            np.random.randn(filter_num, input_dim[0], filter_size, filter_size)\n",
    "        self.params['b1'] = np.zeros(filter_num)\n",
    "        self.params['W2'] = weight_init_std * \\\n",
    "                            np.random.randn(pool_output_size, hidden_size)\n",
    "        self.params['b2'] = np.zeros(hidden_size)\n",
    "        self.params['W3'] = weight_init_std * \\\n",
    "                            np.random.randn(hidden_size, output_size)\n",
    "        self.params['b3'] = np.zeros(output_size)\n",
    "\n",
    "        # レイヤの生成\n",
    "        self.layers = OrderedDict()\n",
    "        self.layers['Conv1'] = Convolution(self.params['W1'], self.params['b1'],\n",
    "                                           conv_param['stride'], conv_param['pad'])\n",
    "        self.layers['Relu1'] = Relu()\n",
    "        self.layers['Pool1'] = Pooling(pool_h=2, pool_w=2, stride=2)\n",
    "        self.layers['Affine1'] = Affine(self.params['W2'], self.params['b2'])\n",
    "        self.layers['Relu2'] = Relu()\n",
    "        self.layers['Affine2'] = Affine(self.params['W3'], self.params['b3'])\n",
    "\n",
    "        self.last_layer = SoftmaxWithLoss()\n",
    "\n",
    "    def predict(self, x):\n",
    "        for layer in self.layers.values():\n",
    "            x = layer.forward(x)\n",
    "\n",
    "        return x\n",
    "\n",
    "    def loss(self, x, t):\n",
    "        \"\"\"損失関数を求める\n",
    "        引数のxは入力データ、tは教師ラベル\n",
    "        \"\"\"\n",
    "        y = self.predict(x)\n",
    "        return self.last_layer.forward(y, t)\n",
    "\n",
    "    def accuracy(self, x, t, batch_size=100):\n",
    "        if t.ndim != 1 : t = np.argmax(t, axis=1)\n",
    "        \n",
    "        acc = 0.0\n",
    "        \n",
    "        for i in range(int(x.shape[0] / batch_size)):\n",
    "            tx = x[i*batch_size:(i+1)*batch_size]\n",
    "            tt = t[i*batch_size:(i+1)*batch_size]\n",
    "            y = self.predict(tx)\n",
    "            y = np.argmax(y, axis=1)\n",
    "            acc += np.sum(y == tt) \n",
    "        \n",
    "        return acc / x.shape[0]\n",
    "\n",
    "    def numerical_gradient(self, x, t):\n",
    "        \"\"\"勾配を求める（数値微分）\n",
    "\n",
    "        Parameters\n",
    "        ----------\n",
    "        x : 入力データ\n",
    "        t : 教師ラベル\n",
    "\n",
    "        Returns\n",
    "        -------\n",
    "        各層の勾配を持ったディクショナリ変数\n",
    "            grads['W1']、grads['W2']、...は各層の重み\n",
    "            grads['b1']、grads['b2']、...は各層のバイアス\n",
    "        \"\"\"\n",
    "        loss_w = lambda w: self.loss(x, t)\n",
    "\n",
    "        grads = {}\n",
    "        for idx in (1, 2, 3):\n",
    "            grads['W' + str(idx)] = numerical_gradient(loss_w, self.params['W' + str(idx)])\n",
    "            grads['b' + str(idx)] = numerical_gradient(loss_w, self.params['b' + str(idx)])\n",
    "\n",
    "        return grads\n",
    "\n",
    "    def gradient(self, x, t):\n",
    "        \"\"\"勾配を求める（誤差逆伝搬法）\n",
    "\n",
    "        Parameters\n",
    "        ----------\n",
    "        x : 入力データ\n",
    "        t : 教師ラベル\n",
    "\n",
    "        Returns\n",
    "        -------\n",
    "        各層の勾配を持ったディクショナリ変数\n",
    "            grads['W1']、grads['W2']、...は各層の重み\n",
    "            grads['b1']、grads['b2']、...は各層のバイアス\n",
    "        \"\"\"\n",
    "        # forward\n",
    "        self.loss(x, t)\n",
    "\n",
    "        # backward\n",
    "        dout = 1\n",
    "        dout = self.last_layer.backward(dout)\n",
    "\n",
    "        layers = list(self.layers.values())\n",
    "        layers.reverse()\n",
    "        for layer in layers:\n",
    "            dout = layer.backward(dout)\n",
    "\n",
    "        # 設定\n",
    "        grads = {}\n",
    "        grads['W1'], grads['b1'] = self.layers['Conv1'].dW, self.layers['Conv1'].db\n",
    "        grads['W2'], grads['b2'] = self.layers['Affine1'].dW, self.layers['Affine1'].db\n",
    "        grads['W3'], grads['b3'] = self.layers['Affine2'].dW, self.layers['Affine2'].db\n",
    "\n",
    "        return grads\n",
    "        \n",
    "    def save_params(self, file_name=\"params.pkl\"):\n",
    "        params = {}\n",
    "        for key, val in self.params.items():\n",
    "            params[key] = val\n",
    "        with open(file_name, 'wb') as f:\n",
    "            pickle.dump(params, f)\n",
    "\n",
    "    def load_params(self, file_name=\"params.pkl\"):\n",
    "        with open(file_name, 'rb') as f:\n",
    "            params = pickle.load(f)\n",
    "        for key, val in params.items():\n",
    "            self.params[key] = val\n",
    "\n",
    "        for i, key in enumerate(['Conv1', 'Affine1', 'Affine2']):\n",
    "            self.layers[key].W = self.params['W' + str(i+1)]\n",
    "            self.layers[key].b = self.params['b' + str(i+1)]"
   ]
  },
  {
   "cell_type": "markdown",
   "metadata": {},
   "source": [
    "# CNNの可視化（7.6）\n",
    "学習前のフィルターはランダムに初期化されているため規則性がないが、学習後は規則性がある画像になる。"
   ]
  },
  {
   "cell_type": "code",
   "execution_count": 10,
   "metadata": {},
   "outputs": [
    {
     "name": "stdout",
     "output_type": "stream",
     "text": [
      "ランダム初期化後\n"
     ]
    },
    {
     "data": {
      "image/png": "[encoded data removed]",
      "text/plain": [
       "<matplotlib.figure.Figure at 0x1102722b0>"
      ]
     },
     "metadata": {},
     "output_type": "display_data"
    },
    {
     "name": "stdout",
     "output_type": "stream",
     "text": [
      "学習後\n"
     ]
    },
    {
     "data": {
      "image/png": "[encoded data removed]",
      "text/plain": [
       "<matplotlib.figure.Figure at 0x105f10320>"
      ]
     },
     "metadata": {},
     "output_type": "display_data"
    }
   ],
   "source": [
    "# coding: utf-8\n",
    "import numpy as np\n",
    "import matplotlib.pyplot as plt\n",
    "from simple_convnet import SimpleConvNet\n",
    "\n",
    "def filter_show(filters, nx=8, margin=3, scale=10):\n",
    "    \"\"\"\n",
    "    c.f. https://gist.github.com/aidiary/07d530d5e08011832b12#file-draw_weight-py\n",
    "    \"\"\"\n",
    "    FN, C, FH, FW = filters.shape\n",
    "    ny = int(np.ceil(FN / nx))\n",
    "\n",
    "    fig = plt.figure()\n",
    "    fig.subplots_adjust(left=0, right=1, bottom=0, top=1, hspace=0.05, wspace=0.05)\n",
    "\n",
    "    for i in range(FN):\n",
    "        ax = fig.add_subplot(ny, nx, i+1, xticks=[], yticks=[])\n",
    "        ax.imshow(filters[i, 0], cmap=plt.cm.gray_r, interpolation='nearest')\n",
    "    plt.show()\n",
    "\n",
    "\n",
    "network = SimpleConvNet()\n",
    "# ランダム初期化後の重み\n",
    "print(\"ランダム初期化後\")\n",
    "filter_show(network.params['W1'])\n",
    "\n",
    "# 学習後の重み\n",
    "print(\"学習後\")\n",
    "network.load_params(\"params.pkl\")\n",
    "filter_show(network.params['W1'])"
   ]
  },
  {
   "cell_type": "markdown",
   "metadata": {},
   "source": [
    "規則性のあるフィルタは、エッジ（色が変化する境目）やブロブ（塊のある領域）などに反応する。以下の例では縦と横のエッジに反応する学習済みフィルタ2つを使って畳み込み処理を行った結果を表示している。\n",
    "<img src=\"./img/7-6-1.png\" />"
   ]
  },
  {
   "cell_type": "markdown",
   "metadata": {},
   "source": [
    "# 階層構造による情報抽出\n",
    "\n",
    "層を重ねることによって、一層目のエッジやブロブなどの低レベルな情報から、テクスチャー、物体のパーツを抽出する。最終的には物体のクラス（ニワトリ、船、ディナーテーブル、食品店）に反応する。\n",
    "\n",
    "<img src=\"./img/7-6-2.png\" />"
   ]
  },
  {
   "cell_type": "markdown",
   "metadata": {},
   "source": [
    "# 代表的なCNN(7.7)\n",
    "\n",
    "LeNetやAlexNetを始めとする、様々なCNNが近年発表されている。\n",
    "- LeNet (1998)\n",
    "- AlexNet (2012)\n",
    "- ZF Net (2013)\n",
    "- VGG Net (2014)\n",
    "- GoogLeNet (2015)\n",
    "- Microsoft Resnet (2015)\n",
    "- Region Based CNNs (R-CNN - 2013, Fast R-CNN 2015, Faster R-CNN 2015)\n",
    "- Generative Adversarial Networks (2014)\n",
    "\n",
    "## LeNet(7.7.1)\n",
    "手書き数字認識を行うネットワークとして、1998年にYann LeCunによって発表された、CNNの元祖。シグモイド関数を使う点で、ReLU主体の現在のCNNと異なる。さらに、Maxプーリングに変わり、サブサンプリングが使用されていた。\n",
    "\n",
    "## AlexNet(7.7.2)\n",
    "2012年にAlex Krizhevskyが率いるチームによって発表された。ImageNetのデータを元に学習させたもの、ReLUを活性化関数として用いる。LRN(Local Response Normalization)という、局所的正規化を行う層を持っているほか、Dropoutを使用するのが特徴。当時コンピューター技術（GPU）に大きな進歩があった他、ビッグデータが一般にも浸透したため、近年のディープラーニングの火付け役となった。ちなみに、AlexNetは２つのGeForce GTX580 GPU上で５−６日間学習した。\n"
   ]
  }
 ],
 "metadata": {
  "kernelspec": {
   "display_name": "Python 3",
   "language": "python",
   "name": "python3"
  },
  "language_info": {
   "codemirror_mode": {
    "name": "ipython",
    "version": 3
   },
   "file_extension": ".py",
   "mimetype": "text/x-python",
   "name": "python",
   "nbconvert_exporter": "python",
   "pygments_lexer": "ipython3",
   "version": "3.5.5"
  }
 },
 "nbformat": 4,
 "nbformat_minor": 2
}
