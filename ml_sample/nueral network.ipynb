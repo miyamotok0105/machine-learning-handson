{
 "cells": [
  {
   "cell_type": "code",
   "execution_count": 64,
   "metadata": {},
   "outputs": [
    {
     "name": "stdout",
     "output_type": "stream",
     "text": [
      "入力： (4, 3)\n",
      "重み： (3, 4)\n"
     ]
    }
   ],
   "source": [
    "X = np.array([[0,0,1], [0,1,1],[1,0,1],[1,1,1]])\n",
    "y = np.array([[0,0,1,1]]).T\n",
    "\n",
    "print(\"入力：\", X.shape)\n",
    "print(\"重み：\", X.T.shape)"
   ]
  },
  {
   "cell_type": "code",
   "execution_count": 67,
   "metadata": {},
   "outputs": [],
   "source": [
    "\n",
    "class nn():\n",
    "    def __init__(self, input_size, output_size, weight_init_std=0.01):\n",
    "        self.W0 = weight_init_std * np.random.randn(input_size, output_size)\n",
    "        self.b0 = np.zeros(output_size)\n",
    "\n",
    "    def nonlin(x,deriv=False):\n",
    "        if(deriv==True): #backprop用\n",
    "            return x*(1-x) #微分したシグモイド　http://nonbiri-tereka.hatenablog.com/entry/2014/06/30/134023\n",
    "        return 1/(1+np.exp(-x)) \n",
    "\n",
    "    def main(self):\n",
    "        for iter in range(500):\n",
    "            l0 = X\n",
    "            np.dot(l0, self.W0) + self.b0\n",
    "            l1 = nonlin(np.dot(l0, self.W0))\n",
    "            if (iter% 100) == 0:\n",
    "                grad1_list.append(nonlin(l1,True)[0][0])\n",
    "                grad2_list.append(nonlin(l1,True)[1][0])\n",
    "            l1_error = y - l1\n",
    "            if (iter% 100) == 0:\n",
    "                l1_error_list.append(l1_error)\n",
    "\n",
    "            l1_delta = l1_error * nonlin(l1,True)\n",
    "            self.W0 += np.dot(l0.T,l1_delta)\n",
    "        print(\"Output After Training:\")"
   ]
  },
  {
   "cell_type": "code",
   "execution_count": 68,
   "metadata": {},
   "outputs": [
    {
     "ename": "ValueError",
     "evalue": "shapes (4,3) and (4,2) not aligned: 3 (dim 1) != 4 (dim 0)",
     "output_type": "error",
     "traceback": [
      "\u001b[0;31m---------------------------------------------------------------------------\u001b[0m",
      "\u001b[0;31mValueError\u001b[0m                                Traceback (most recent call last)",
      "\u001b[0;32m<ipython-input-68-295f243cd0f0>\u001b[0m in \u001b[0;36m<module>\u001b[0;34m()\u001b[0m\n\u001b[1;32m      1\u001b[0m \u001b[0m_nn\u001b[0m \u001b[0;34m=\u001b[0m \u001b[0mnn\u001b[0m\u001b[0;34m(\u001b[0m\u001b[0mX\u001b[0m\u001b[0;34m.\u001b[0m\u001b[0mshape\u001b[0m\u001b[0;34m[\u001b[0m\u001b[0;36m0\u001b[0m\u001b[0;34m]\u001b[0m\u001b[0;34m,\u001b[0m \u001b[0;36m2\u001b[0m\u001b[0;34m)\u001b[0m\u001b[0;34m\u001b[0m\u001b[0m\n\u001b[1;32m      2\u001b[0m \u001b[0;31m# _nn.init_weight()\u001b[0m\u001b[0;34m\u001b[0m\u001b[0;34m\u001b[0m\u001b[0m\n\u001b[0;32m----> 3\u001b[0;31m \u001b[0m_nn\u001b[0m\u001b[0;34m.\u001b[0m\u001b[0mmain\u001b[0m\u001b[0;34m(\u001b[0m\u001b[0;34m)\u001b[0m\u001b[0;34m\u001b[0m\u001b[0m\n\u001b[0m",
      "\u001b[0;32m<ipython-input-67-ff43c6562a43>\u001b[0m in \u001b[0;36mmain\u001b[0;34m(self)\u001b[0m\n\u001b[1;32m     13\u001b[0m         \u001b[0;32mfor\u001b[0m \u001b[0miter\u001b[0m \u001b[0;32min\u001b[0m \u001b[0mrange\u001b[0m\u001b[0;34m(\u001b[0m\u001b[0;36m500\u001b[0m\u001b[0;34m)\u001b[0m\u001b[0;34m:\u001b[0m\u001b[0;34m\u001b[0m\u001b[0m\n\u001b[1;32m     14\u001b[0m             \u001b[0ml0\u001b[0m \u001b[0;34m=\u001b[0m \u001b[0mX\u001b[0m\u001b[0;34m\u001b[0m\u001b[0m\n\u001b[0;32m---> 15\u001b[0;31m             \u001b[0mnp\u001b[0m\u001b[0;34m.\u001b[0m\u001b[0mdot\u001b[0m\u001b[0;34m(\u001b[0m\u001b[0ml0\u001b[0m\u001b[0;34m,\u001b[0m \u001b[0mself\u001b[0m\u001b[0;34m.\u001b[0m\u001b[0mW0\u001b[0m\u001b[0;34m)\u001b[0m \u001b[0;34m+\u001b[0m \u001b[0mself\u001b[0m\u001b[0;34m.\u001b[0m\u001b[0mb0\u001b[0m\u001b[0;34m\u001b[0m\u001b[0m\n\u001b[0m\u001b[1;32m     16\u001b[0m             \u001b[0ml1\u001b[0m \u001b[0;34m=\u001b[0m \u001b[0mnonlin\u001b[0m\u001b[0;34m(\u001b[0m\u001b[0mnp\u001b[0m\u001b[0;34m.\u001b[0m\u001b[0mdot\u001b[0m\u001b[0;34m(\u001b[0m\u001b[0ml0\u001b[0m\u001b[0;34m,\u001b[0m \u001b[0mself\u001b[0m\u001b[0;34m.\u001b[0m\u001b[0mW0\u001b[0m\u001b[0;34m)\u001b[0m\u001b[0;34m)\u001b[0m\u001b[0;34m\u001b[0m\u001b[0m\n\u001b[1;32m     17\u001b[0m             \u001b[0;32mif\u001b[0m \u001b[0;34m(\u001b[0m\u001b[0miter\u001b[0m\u001b[0;34m%\u001b[0m \u001b[0;36m100\u001b[0m\u001b[0;34m)\u001b[0m \u001b[0;34m==\u001b[0m \u001b[0;36m0\u001b[0m\u001b[0;34m:\u001b[0m\u001b[0;34m\u001b[0m\u001b[0m\n",
      "\u001b[0;31mValueError\u001b[0m: shapes (4,3) and (4,2) not aligned: 3 (dim 1) != 4 (dim 0)"
     ]
    }
   ],
   "source": [
    "_nn = nn(X.shape[0], 2)\n",
    "# _nn.init_weight()\n",
    "_nn.main()"
   ]
  },
  {
   "cell_type": "code",
   "execution_count": null,
   "metadata": {},
   "outputs": [],
   "source": []
  },
  {
   "cell_type": "code",
   "execution_count": null,
   "metadata": {},
   "outputs": [],
   "source": []
  },
  {
   "cell_type": "code",
   "execution_count": 25,
   "metadata": {},
   "outputs": [],
   "source": [
    "import numpy as np\n",
    "%matplotlib inline\n",
    "import matplotlib.pyplot as plt\n",
    "\n",
    "grad1_list = []\n",
    "grad2_list = []\n",
    "l1_error_list = []\n",
    "np.random.seed(1)"
   ]
  },
  {
   "cell_type": "code",
   "execution_count": 29,
   "metadata": {},
   "outputs": [
    {
     "name": "stdout",
     "output_type": "stream",
     "text": [
      "(768, 8)\n",
      "(768,)\n",
      "重み： (8, 768)\n",
      "入力： (768, 8)\n"
     ]
    }
   ],
   "source": [
    "import pandas as pd\n",
    "filename = 'pima-indians-diabetes.csv'\n",
    "df = pd.read_csv(filename, header=0)\n",
    "Y_train = df[\"Outcome\"].values\n",
    "del df[\"Outcome\"]\n",
    "X_train = df.values\n",
    "print(X_train.shape)\n",
    "print(Y_train.shape)\n",
    "df.head(5)\n",
    "W0 = 2*np.random.random((X_train.shape)) - 1\n",
    "W0 = W0.T\n",
    "X = X_train\n",
    "y = Y_train\n",
    "\n",
    "print(\"重み：\", W0.shape)\n",
    "print(\"入力：\", X.shape)"
   ]
  },
  {
   "cell_type": "code",
   "execution_count": 30,
   "metadata": {},
   "outputs": [],
   "source": [
    "# シグモイド 関数\n",
    "def nonlin(x,deriv=False):\n",
    "    if(deriv==True): #backprop用\n",
    "        return x*(1-x) #微分したシグモイド　http://nonbiri-tereka.hatenablog.com/entry/2014/06/30/134023\n",
    "    return 1/(1+np.exp(-x)) "
   ]
  },
  {
   "cell_type": "code",
   "execution_count": 32,
   "metadata": {},
   "outputs": [
    {
     "name": "stderr",
     "output_type": "stream",
     "text": [
      "/Users/miyamoto/.pyenv/versions/miniconda3-4.1.11/envs/py35/lib/python3.5/site-packages/ipykernel_launcher.py:5: RuntimeWarning: overflow encountered in exp\n",
      "  \"\"\"\n"
     ]
    },
    {
     "name": "stdout",
     "output_type": "stream",
     "text": [
      "Output After Training:\n"
     ]
    }
   ],
   "source": [
    "for iter in range(500):\n",
    "    l0 = X\n",
    "    l1 = nonlin(np.dot(l0,W0))\n",
    "    if (iter% 100) == 0:\n",
    "        grad1_list.append(nonlin(l1,True)[0][0])\n",
    "        grad2_list.append(nonlin(l1,True)[1][0])\n",
    "    l1_error = y - l1\n",
    "    if (iter% 100) == 0:\n",
    "        l1_error_list.append(l1_error)\n",
    "    \n",
    "    l1_delta = l1_error * nonlin(l1,True)\n",
    "    W0 += np.dot(l0.T,l1_delta)\n",
    "print(\"Output After Training:\")"
   ]
  },
  {
   "cell_type": "code",
   "execution_count": 38,
   "metadata": {},
   "outputs": [
    {
     "data": {
      "text/plain": [
       "[<matplotlib.lines.Line2D at 0x11d8742e8>]"
      ]
     },
     "execution_count": 38,
     "metadata": {},
     "output_type": "execute_result"
    },
    {
     "data": {
      "image/png": "[encoded data removed]",
      "text/plain": [
       "<matplotlib.figure.Figure at 0x11d874080>"
      ]
     },
     "metadata": {},
     "output_type": "display_data"
    }
   ],
   "source": [
    "plt.plot(grad1_list)\n",
    "plt.plot(grad2_list)"
   ]
  },
  {
   "cell_type": "markdown",
   "metadata": {},
   "source": [
    "重みについて"
   ]
  },
  {
   "cell_type": "code",
   "execution_count": 36,
   "metadata": {},
   "outputs": [
    {
     "data": {
      "text/plain": [
       "(8, 768)"
      ]
     },
     "execution_count": 36,
     "metadata": {},
     "output_type": "execute_result"
    }
   ],
   "source": [
    "W0.shape"
   ]
  },
  {
   "cell_type": "code",
   "execution_count": 37,
   "metadata": {},
   "outputs": [
    {
     "data": {
      "text/plain": [
       "array([[-3.95334855e-01, -2.43006456e+00, -6.03797022e-01, ...,\n",
       "         6.87502939e-01,  3.04038580e+00, -1.37543100e+01],\n",
       "       [-7.06488218e-01, -1.54422212e+02,  6.01489137e-01, ...,\n",
       "         2.72482816e-02,  1.20613160e+02, -3.82848672e+02],\n",
       "       [-8.15322810e-01, -1.00955192e+02,  9.36523151e-01, ...,\n",
       "        -6.47109335e-02,  6.41606433e+01, -2.06830111e+02],\n",
       "       ...,\n",
       "       [-2.06465052e-01, -4.32374561e+01,  7.52778305e-01, ...,\n",
       "        -6.25227656e-01,  3.29017946e+01, -1.00139952e+02],\n",
       "       [ 7.76334680e-02, -5.32751727e-01,  7.89213327e-01, ...,\n",
       "         4.94812201e-01,  5.63817976e-01, -7.72740261e-01],\n",
       "       [-1.61610971e-01, -3.80002562e+01, -8.29911577e-01, ...,\n",
       "        -6.82311180e-01,  2.58131437e+01, -1.00620890e+02]])"
      ]
     },
     "execution_count": 37,
     "metadata": {},
     "output_type": "execute_result"
    }
   ],
   "source": [
    "W0"
   ]
  },
  {
   "cell_type": "code",
   "execution_count": 34,
   "metadata": {},
   "outputs": [
    {
     "name": "stdout",
     "output_type": "stream",
     "text": [
      "[  6.    148.     72.     35.      0.     33.6     0.627  50.   ] 1\n"
     ]
    }
   ],
   "source": [
    "for (x, y) in zip(X_train, Y_train):\n",
    "    print(x, y)\n",
    "    break"
   ]
  },
  {
   "cell_type": "markdown",
   "metadata": {},
   "source": [
    "# pima-indians-diabetes-database"
   ]
  },
  {
   "cell_type": "code",
   "execution_count": null,
   "metadata": {},
   "outputs": [],
   "source": []
  }
 ],
 "metadata": {
  "kernelspec": {
   "display_name": "Python 3",
   "language": "python",
   "name": "python3"
  },
  "language_info": {
   "codemirror_mode": {
    "name": "ipython",
    "version": 3
   },
   "file_extension": ".py",
   "mimetype": "text/x-python",
   "name": "python",
   "nbconvert_exporter": "python",
   "pygments_lexer": "ipython3",
   "version": "3.5.4"
  }
 },
 "nbformat": 4,
 "nbformat_minor": 2
}
